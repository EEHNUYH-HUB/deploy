{
 "cells": [
  {
   "cell_type": "markdown",
   "metadata": {},
   "source": [
    "- https://www.youtube.com/watch?v=9BPCV5TYPmg\n",
    "- https://github.com/Coding-Crashkurse/LangGraph-Tutorial/blob/main/human_in_loop.ipynb\n"
   ]
  },
  {
   "cell_type": "code",
   "execution_count": 49,
   "metadata": {},
   "outputs": [
    {
     "data": {
      "text/plain": [
       "True"
      ]
     },
     "execution_count": 49,
     "metadata": {},
     "output_type": "execute_result"
    }
   ],
   "source": [
    "from dotenv import load_dotenv\n",
    "\n",
    "load_dotenv()"
   ]
  },
  {
   "cell_type": "code",
   "execution_count": 50,
   "metadata": {},
   "outputs": [],
   "source": [
    "from typing import Annotated\n",
    "\n",
    "from typing_extensions import TypedDict\n",
    "\n",
    "from langgraph.graph.message import add_messages\n",
    "\n",
    "\n",
    "class State(TypedDict):\n",
    "    messages: Annotated[list, add_messages]"
   ]
  },
  {
   "cell_type": "code",
   "execution_count": 51,
   "metadata": {},
   "outputs": [],
   "source": [
    "import os\n",
    "from langchain_openai import AzureChatOpenAI\n",
    "\n",
    "def Get_LLM():    \n",
    "    os.environ[\"AZURE_OPENAI_API_KEY\"] = '352a6bee97b5451ab5866993a7ef4ce4'\n",
    "    os.environ[\"AZURE_OPENAI_ENDPOINT\"] = 'https://aoai-spn-krc.openai.azure.com/'\n",
    "    model = AzureChatOpenAI(  \n",
    "      api_version = '2024-02-01',\n",
    "      azure_deployment = 'gpt-4o-kr-spn',\n",
    "      temperature = 0.0\n",
    "    )\n",
    "    return model"
   ]
  },
  {
   "cell_type": "code",
   "execution_count": 52,
   "metadata": {},
   "outputs": [],
   "source": [
    "from typing import Annotated\n",
    "\n",
    "from langchain_community.tools.tavily_search import TavilySearchResults\n",
    "from typing_extensions import TypedDict\n",
    "\n",
    "from langgraph.checkpoint.sqlite import SqliteSaver\n",
    "from langgraph.graph import StateGraph\n",
    "from langgraph.graph.message import add_messages\n",
    "from langgraph.prebuilt import ToolNode, tools_condition\n",
    "\n",
    "memory = SqliteSaver.from_conn_string(\":memory:\")\n",
    "\n",
    "\n",
    "class State(TypedDict):\n",
    "    messages: Annotated[list, add_messages]\n",
    "\n",
    "\n",
    "graph_builder = StateGraph(State)\n",
    "\n",
    "# set up API key\n",
    "os.environ[\"TAVILY_API_KEY\"] = \"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\"\n",
    "tool = TavilySearchResults(max_results=2)\n",
    "tools = [tool]\n",
    "llm = Get_LLM()\n",
    "llm_with_tools = llm.bind_tools(tools)\n",
    "\n",
    "\n",
    "def chatbot(state: State):\n",
    "    return {\"messages\": [llm_with_tools.invoke(state[\"messages\"])]}"
   ]
  },
  {
   "cell_type": "code",
   "execution_count": 53,
   "metadata": {},
   "outputs": [],
   "source": [
    "graph_builder.add_node(\"chatbot\", chatbot)\n",
    "\n",
    "tool_node = ToolNode(tools=[tool])\n",
    "graph_builder.add_node(\"tools\", tool_node)\n",
    "\n",
    "graph_builder.add_conditional_edges(\n",
    "    \"chatbot\",\n",
    "    tools_condition,\n",
    ")\n",
    "graph_builder.add_edge(\"tools\", \"chatbot\")\n",
    "graph_builder.set_entry_point(\"chatbot\")"
   ]
  },
  {
   "cell_type": "code",
   "execution_count": 54,
   "metadata": {},
   "outputs": [],
   "source": [
    "graph = graph_builder.compile(\n",
    "    checkpointer=memory,\n",
    "    interrupt_before=[\"tools\"],\n",
    ")"
   ]
  },
  {
   "cell_type": "code",
   "execution_count": 55,
   "metadata": {},
   "outputs": [
    {
     "data": {
      "image/jpeg": "[encoded data removed]",
      "text/plain": [
       "<IPython.core.display.Image object>"
      ]
     },
     "metadata": {},
     "output_type": "display_data"
    }
   ],
   "source": [
    "from IPython.display import Image, display\n",
    "\n",
    "try:\n",
    "    display(Image(graph.get_graph().draw_mermaid_png()))\n",
    "except Exception:\n",
    "    pass"
   ]
  },
  {
   "cell_type": "code",
   "execution_count": 56,
   "metadata": {},
   "outputs": [
    {
     "data": {
      "text/plain": [
       "{'messages': [HumanMessage(content='Hello, I am John', id='7d1f2c9e-7095-48c5-87a9-372e5bf1eb3b'),\n",
       "  AIMessage(content='Hi John! How can I assist you today?', response_metadata={'token_usage': {'completion_tokens': 11, 'prompt_tokens': 84, 'total_tokens': 95}, 'model_name': 'gpt-4o-2024-05-13', 'system_fingerprint': 'fp_abc28019ad', 'prompt_filter_results': [{'prompt_index': 0, 'content_filter_results': {'hate': {'filtered': False, 'severity': 'safe'}, 'self_harm': {'filtered': False, 'severity': 'safe'}, 'sexual': {'filtered': False, 'severity': 'safe'}, 'violence': {'filtered': False, 'severity': 'safe'}}}], 'finish_reason': 'stop', 'logprobs': None, 'content_filter_results': {'hate': {'filtered': False, 'severity': 'safe'}, 'self_harm': {'filtered': False, 'severity': 'safe'}, 'sexual': {'filtered': False, 'severity': 'safe'}, 'violence': {'filtered': False, 'severity': 'safe'}}}, id='run-bf4839f9-5930-4282-9d8f-713093f897d9-0', usage_metadata={'input_tokens': 84, 'output_tokens': 11, 'total_tokens': 95})]}"
      ]
     },
     "execution_count": 56,
     "metadata": {},
     "output_type": "execute_result"
    }
   ],
   "source": [
    "from langchain_core.messages import HumanMessage\n",
    "\n",
    "config = {\"configurable\": {\"thread_id\": \"1\"}}\n",
    "input_message = HumanMessage(content=\"Hello, I am John\")\n",
    "\n",
    "graph.invoke({\"messages\": input_message}, config=config)"
   ]
  },
  {
   "cell_type": "code",
   "execution_count": 57,
   "metadata": {},
   "outputs": [
    {
     "data": {
      "text/plain": [
       "{'messages': [HumanMessage(content='Sorry, did I already introduce myself?', id='dc74ccc8-04d3-4db3-8da2-d80c77cd6fab'),\n",
       "  AIMessage(content=\"No, you haven't introduced yourself yet. How can I assist you today?\", response_metadata={'token_usage': {'completion_tokens': 16, 'prompt_tokens': 87, 'total_tokens': 103}, 'model_name': 'gpt-4o-2024-05-13', 'system_fingerprint': 'fp_abc28019ad', 'prompt_filter_results': [{'prompt_index': 0, 'content_filter_results': {'hate': {'filtered': False, 'severity': 'safe'}, 'self_harm': {'filtered': False, 'severity': 'safe'}, 'sexual': {'filtered': False, 'severity': 'safe'}, 'violence': {'filtered': False, 'severity': 'safe'}}}], 'finish_reason': 'stop', 'logprobs': None, 'content_filter_results': {'hate': {'filtered': False, 'severity': 'safe'}, 'self_harm': {'filtered': False, 'severity': 'safe'}, 'sexual': {'filtered': False, 'severity': 'safe'}, 'violence': {'filtered': False, 'severity': 'safe'}}}, id='run-9fc00740-09e9-46a7-ae1e-3f4e380b8175-0', usage_metadata={'input_tokens': 87, 'output_tokens': 16, 'total_tokens': 103})]}"
      ]
     },
     "execution_count": 57,
     "metadata": {},
     "output_type": "execute_result"
    }
   ],
   "source": [
    "config = {\"configurable\": {\"thread_id\": \"100\"}}\n",
    "input_message = HumanMessage(content=\"Sorry, did I already introduce myself?\")\n",
    "\n",
    "graph.invoke({\"messages\": input_message}, config=config)"
   ]
  },
  {
   "cell_type": "code",
   "execution_count": 58,
   "metadata": {},
   "outputs": [
    {
     "data": {
      "text/plain": [
       "{'messages': [HumanMessage(content='Hello, I am John', id='7d1f2c9e-7095-48c5-87a9-372e5bf1eb3b'),\n",
       "  AIMessage(content='Hi John! How can I assist you today?', response_metadata={'token_usage': {'completion_tokens': 11, 'prompt_tokens': 84, 'total_tokens': 95}, 'model_name': 'gpt-4o-2024-05-13', 'system_fingerprint': 'fp_abc28019ad', 'prompt_filter_results': [{'prompt_index': 0, 'content_filter_results': {'hate': {'filtered': False, 'severity': 'safe'}, 'self_harm': {'filtered': False, 'severity': 'safe'}, 'sexual': {'filtered': False, 'severity': 'safe'}, 'violence': {'filtered': False, 'severity': 'safe'}}}], 'finish_reason': 'stop', 'logprobs': None, 'content_filter_results': {'hate': {'filtered': False, 'severity': 'safe'}, 'self_harm': {'filtered': False, 'severity': 'safe'}, 'sexual': {'filtered': False, 'severity': 'safe'}, 'violence': {'filtered': False, 'severity': 'safe'}}}, id='run-bf4839f9-5930-4282-9d8f-713093f897d9-0', usage_metadata={'input_tokens': 84, 'output_tokens': 11, 'total_tokens': 95}),\n",
       "  HumanMessage(content='Sorry, did I already introduce myself?', id='35a815bb-17a9-4f9a-b0f2-3e5e749eff80'),\n",
       "  AIMessage(content='Yes, you introduced yourself as John. Is there anything specific you need help with today?', response_metadata={'token_usage': {'completion_tokens': 19, 'prompt_tokens': 110, 'total_tokens': 129}, 'model_name': 'gpt-4o-2024-05-13', 'system_fingerprint': 'fp_abc28019ad', 'prompt_filter_results': [{'prompt_index': 0, 'content_filter_results': {'hate': {'filtered': False, 'severity': 'safe'}, 'self_harm': {'filtered': False, 'severity': 'safe'}, 'sexual': {'filtered': False, 'severity': 'safe'}, 'violence': {'filtered': False, 'severity': 'safe'}}}], 'finish_reason': 'stop', 'logprobs': None, 'content_filter_results': {'hate': {'filtered': False, 'severity': 'safe'}, 'self_harm': {'filtered': False, 'severity': 'safe'}, 'sexual': {'filtered': False, 'severity': 'safe'}, 'violence': {'filtered': False, 'severity': 'safe'}}}, id='run-6d064f40-2b3b-4b69-a6e9-83cdb59189f3-0', usage_metadata={'input_tokens': 110, 'output_tokens': 19, 'total_tokens': 129})]}"
      ]
     },
     "execution_count": 58,
     "metadata": {},
     "output_type": "execute_result"
    }
   ],
   "source": [
    "config = {\"configurable\": {\"thread_id\": \"1\"}}\n",
    "input_message = HumanMessage(content=\"Sorry, did I already introduce myself?\")\n",
    "\n",
    "graph.invoke({\"messages\": input_message}, config=config)"
   ]
  },
  {
   "cell_type": "code",
   "execution_count": 59,
   "metadata": {},
   "outputs": [
    {
     "data": {
      "text/plain": [
       "{'messages': [HumanMessage(content='Hello, I am John', id='7d1f2c9e-7095-48c5-87a9-372e5bf1eb3b'),\n",
       "  AIMessage(content='Hi John! How can I assist you today?', response_metadata={'token_usage': {'completion_tokens': 11, 'prompt_tokens': 84, 'total_tokens': 95}, 'model_name': 'gpt-4o-2024-05-13', 'system_fingerprint': 'fp_abc28019ad', 'prompt_filter_results': [{'prompt_index': 0, 'content_filter_results': {'hate': {'filtered': False, 'severity': 'safe'}, 'self_harm': {'filtered': False, 'severity': 'safe'}, 'sexual': {'filtered': False, 'severity': 'safe'}, 'violence': {'filtered': False, 'severity': 'safe'}}}], 'finish_reason': 'stop', 'logprobs': None, 'content_filter_results': {'hate': {'filtered': False, 'severity': 'safe'}, 'self_harm': {'filtered': False, 'severity': 'safe'}, 'sexual': {'filtered': False, 'severity': 'safe'}, 'violence': {'filtered': False, 'severity': 'safe'}}}, id='run-bf4839f9-5930-4282-9d8f-713093f897d9-0', usage_metadata={'input_tokens': 84, 'output_tokens': 11, 'total_tokens': 95}),\n",
       "  HumanMessage(content='Sorry, did I already introduce myself?', id='35a815bb-17a9-4f9a-b0f2-3e5e749eff80'),\n",
       "  AIMessage(content='Yes, you introduced yourself as John. Is there anything specific you need help with today?', response_metadata={'token_usage': {'completion_tokens': 19, 'prompt_tokens': 110, 'total_tokens': 129}, 'model_name': 'gpt-4o-2024-05-13', 'system_fingerprint': 'fp_abc28019ad', 'prompt_filter_results': [{'prompt_index': 0, 'content_filter_results': {'hate': {'filtered': False, 'severity': 'safe'}, 'self_harm': {'filtered': False, 'severity': 'safe'}, 'sexual': {'filtered': False, 'severity': 'safe'}, 'violence': {'filtered': False, 'severity': 'safe'}}}], 'finish_reason': 'stop', 'logprobs': None, 'content_filter_results': {'hate': {'filtered': False, 'severity': 'safe'}, 'self_harm': {'filtered': False, 'severity': 'safe'}, 'sexual': {'filtered': False, 'severity': 'safe'}, 'violence': {'filtered': False, 'severity': 'safe'}}}, id='run-6d064f40-2b3b-4b69-a6e9-83cdb59189f3-0', usage_metadata={'input_tokens': 110, 'output_tokens': 19, 'total_tokens': 129}),\n",
       "  HumanMessage(content='How is the weather in Los Angeles?', id='c2b1b43b-e048-41e5-8948-895247071db8'),\n",
       "  AIMessage(content='', additional_kwargs={'tool_calls': [{'id': 'call_2VG5cVnappEAdwpqUcCe5BTA', 'function': {'arguments': '{\"query\":\"current weather in Los Angeles\"}', 'name': 'tavily_search_results_json'}, 'type': 'function'}]}, response_metadata={'token_usage': {'completion_tokens': 22, 'prompt_tokens': 144, 'total_tokens': 166}, 'model_name': 'gpt-4o-2024-05-13', 'system_fingerprint': 'fp_abc28019ad', 'prompt_filter_results': [{'prompt_index': 0, 'content_filter_results': {'hate': {'filtered': False, 'severity': 'safe'}, 'self_harm': {'filtered': False, 'severity': 'safe'}, 'sexual': {'filtered': False, 'severity': 'safe'}, 'violence': {'filtered': False, 'severity': 'safe'}}}], 'finish_reason': 'tool_calls', 'logprobs': None, 'content_filter_results': {}}, id='run-8f20a9d9-cdc3-4095-b558-ff5eb0c8dc90-0', tool_calls=[{'name': 'tavily_search_results_json', 'args': {'query': 'current weather in Los Angeles'}, 'id': 'call_2VG5cVnappEAdwpqUcCe5BTA'}], usage_metadata={'input_tokens': 144, 'output_tokens': 22, 'total_tokens': 166})]}"
      ]
     },
     "execution_count": 59,
     "metadata": {},
     "output_type": "execute_result"
    }
   ],
   "source": [
    "from langchain_core.messages import HumanMessage\n",
    "\n",
    "config = {\"configurable\": {\"thread_id\": \"1\"}}\n",
    "input_message = HumanMessage(content=\"How is the weather in Los Angeles?\")\n",
    "\n",
    "graph.invoke({\"messages\": input_message}, config=config)"
   ]
  },
  {
   "cell_type": "code",
   "execution_count": 60,
   "metadata": {},
   "outputs": [
    {
     "data": {
      "text/plain": [
       "('tools',)"
      ]
     },
     "execution_count": 60,
     "metadata": {},
     "output_type": "execute_result"
    }
   ],
   "source": [
    "snapshot = graph.get_state(config)\n",
    "snapshot.next"
   ]
  },
  {
   "cell_type": "code",
   "execution_count": 61,
   "metadata": {},
   "outputs": [
    {
     "data": {
      "text/plain": [
       "{'messages': [HumanMessage(content='Hello, I am John', id='7d1f2c9e-7095-48c5-87a9-372e5bf1eb3b'),\n",
       "  AIMessage(content='Hi John! How can I assist you today?', response_metadata={'token_usage': {'completion_tokens': 11, 'prompt_tokens': 84, 'total_tokens': 95}, 'model_name': 'gpt-4o-2024-05-13', 'system_fingerprint': 'fp_abc28019ad', 'prompt_filter_results': [{'prompt_index': 0, 'content_filter_results': {'hate': {'filtered': False, 'severity': 'safe'}, 'self_harm': {'filtered': False, 'severity': 'safe'}, 'sexual': {'filtered': False, 'severity': 'safe'}, 'violence': {'filtered': False, 'severity': 'safe'}}}], 'finish_reason': 'stop', 'logprobs': None, 'content_filter_results': {'hate': {'filtered': False, 'severity': 'safe'}, 'self_harm': {'filtered': False, 'severity': 'safe'}, 'sexual': {'filtered': False, 'severity': 'safe'}, 'violence': {'filtered': False, 'severity': 'safe'}}}, id='run-bf4839f9-5930-4282-9d8f-713093f897d9-0', usage_metadata={'input_tokens': 84, 'output_tokens': 11, 'total_tokens': 95}),\n",
       "  HumanMessage(content='Sorry, did I already introduce myself?', id='35a815bb-17a9-4f9a-b0f2-3e5e749eff80'),\n",
       "  AIMessage(content='Yes, you introduced yourself as John. Is there anything specific you need help with today?', response_metadata={'token_usage': {'completion_tokens': 19, 'prompt_tokens': 110, 'total_tokens': 129}, 'model_name': 'gpt-4o-2024-05-13', 'system_fingerprint': 'fp_abc28019ad', 'prompt_filter_results': [{'prompt_index': 0, 'content_filter_results': {'hate': {'filtered': False, 'severity': 'safe'}, 'self_harm': {'filtered': False, 'severity': 'safe'}, 'sexual': {'filtered': False, 'severity': 'safe'}, 'violence': {'filtered': False, 'severity': 'safe'}}}], 'finish_reason': 'stop', 'logprobs': None, 'content_filter_results': {'hate': {'filtered': False, 'severity': 'safe'}, 'self_harm': {'filtered': False, 'severity': 'safe'}, 'sexual': {'filtered': False, 'severity': 'safe'}, 'violence': {'filtered': False, 'severity': 'safe'}}}, id='run-6d064f40-2b3b-4b69-a6e9-83cdb59189f3-0', usage_metadata={'input_tokens': 110, 'output_tokens': 19, 'total_tokens': 129}),\n",
       "  HumanMessage(content='How is the weather in Los Angeles?', id='c2b1b43b-e048-41e5-8948-895247071db8'),\n",
       "  AIMessage(content='', additional_kwargs={'tool_calls': [{'id': 'call_2VG5cVnappEAdwpqUcCe5BTA', 'function': {'arguments': '{\"query\":\"current weather in Los Angeles\"}', 'name': 'tavily_search_results_json'}, 'type': 'function'}]}, response_metadata={'token_usage': {'completion_tokens': 22, 'prompt_tokens': 144, 'total_tokens': 166}, 'model_name': 'gpt-4o-2024-05-13', 'system_fingerprint': 'fp_abc28019ad', 'prompt_filter_results': [{'prompt_index': 0, 'content_filter_results': {'hate': {'filtered': False, 'severity': 'safe'}, 'self_harm': {'filtered': False, 'severity': 'safe'}, 'sexual': {'filtered': False, 'severity': 'safe'}, 'violence': {'filtered': False, 'severity': 'safe'}}}], 'finish_reason': 'tool_calls', 'logprobs': None, 'content_filter_results': {}}, id='run-8f20a9d9-cdc3-4095-b558-ff5eb0c8dc90-0', tool_calls=[{'name': 'tavily_search_results_json', 'args': {'query': 'current weather in Los Angeles'}, 'id': 'call_2VG5cVnappEAdwpqUcCe5BTA'}], usage_metadata={'input_tokens': 144, 'output_tokens': 22, 'total_tokens': 166}),\n",
       "  ToolMessage(content='[{\"url\": \"https://www.nbclosangeles.com/news/local/victim-of-metro-shooting-in-west-adams-was-a-father-gunman-remains-on-the-loose/3442407/\", \"content\": \"Here\\'s your go-to source for today\\'s LA news. CicLAvia held on long stretch of Western Avenue in South LA Shohei Ohtani homers again against his old team as Dodgers beat Angels 7-2 LAPD said the investigation revealed that an argument took place on the ground level of the station and that the individuals involved in the dispute then boarded a train that was waiting at the platform. Victim of Metro shooting in West Adams was a father of 4; gunman remains on the loose According to the victim\\'s brother-in-law, the man who was killed was a father and husband.  Flowers and candles rest on the sidewalk outside the Metro E Line station, where on Friday, a group fatally shot a man on the train and then took off. A small memorial has been placed at a West Adams Metro station a day after a man was shot in the head and killed while on a train.  The violence was reported just before 7:30 p.m. on the 5660 block of Jefferson Boulevard, according to the Los Angeles Police Department. \"}, {\"url\": \"https://www.latimes.com/california/story/2024-06-14/significant-warming-coming-to-southern-califronia\", \"content\": \"People are \\\\u2018getting sick left and right\\\\u2019 Latest California California Shotgun-wielding man shoots at sheriff\\\\u2019s helicopter, is killed by deputies in South L.A. June 14, 2024 California Video shows elderly woman knocked unconscious during road rage fight at LAX June 14, 2024 California Video shows dramatic rescue of couple near Joshua Tree as temperatures are set to soar June 14, 2024 Opinion Opinion: Why LAUSD should ban smartphones in schools June 14, 2024 California A new threat to cannabis users: Smuggled Chinese pesticides June 14, 2024 Subscribe for unlimited accessSite Map Follow Us MORE FROM THE L.A. TIMES Here\\\\u2019s why he told them it\\\\u2019s OK to \\\\u2018laugh at God\\\\u2019 California Suspect arrested after AutoZone ransacking and police chase Subscribers are Reading Housing & Homelessness New rental developments are changing the American Dream of suburban homeownership Company Town Behind the stunning job losses in Hollywood: \\\\u2018The audience has moved on\\\\u2019 California In a city known for traffic, LAX is a standout for its gridlock. \\\\u201cWe\\\\u2019re going to start a cooldown on Monday and then as we get into later next week \\\\u2014 Thursday, Friday \\\\u2014 we\\\\u2019re looking at temperatures warming up quite a bit.\\\\u201d More to Read California to have a mild, cool start to Memorial Day weekend, but warming trend will come May 24, 2024 Memorial Day weekend in Southern California is looking gloomy. May 21, 2024 \\\\u2018Unseasonably cold\\\\u2019 storm driving another chilly, damp weekend for Southern California May 3, 2024 Start your day right Sign up for Essential California for news, features and recommendations from the L.A. Times and beyond in your inbox six days a week.  \\\\u201cWe\\\\u2019re going to have a lot less clouds even in the morning on Saturday, and then those clouds start to creep back in on Sunday,\\\\u201d A cooling trend will kick off next week, Wofford said, but then another warm weekend could be on tap. \"}]', name='tavily_search_results_json', id='e1324f4f-1850-40c1-8604-669c07f1929e', tool_call_id='call_2VG5cVnappEAdwpqUcCe5BTA'),\n",
       "  AIMessage(content=\"It looks like I wasn't able to retrieve the current weather information for Los Angeles. However, you can check the latest weather updates on reliable weather websites or apps like Weather.com, AccuWeather, or the National Weather Service.\\n\\nIs there anything else I can help you with?\", response_metadata={'token_usage': {'completion_tokens': 56, 'prompt_tokens': 951, 'total_tokens': 1007}, 'model_name': 'gpt-4o-2024-05-13', 'system_fingerprint': 'fp_abc28019ad', 'prompt_filter_results': [{'prompt_index': 0, 'content_filter_results': {'hate': {'filtered': False, 'severity': 'safe'}, 'self_harm': {'filtered': False, 'severity': 'safe'}, 'sexual': {'filtered': False, 'severity': 'safe'}, 'violence': {'filtered': False, 'severity': 'safe'}}}], 'finish_reason': 'stop', 'logprobs': None, 'content_filter_results': {'hate': {'filtered': False, 'severity': 'safe'}, 'self_harm': {'filtered': False, 'severity': 'safe'}, 'sexual': {'filtered': False, 'severity': 'safe'}, 'violence': {'filtered': False, 'severity': 'safe'}}}, id='run-328b6d87-d240-4f75-9607-0cef88fd26c9-0', usage_metadata={'input_tokens': 951, 'output_tokens': 56, 'total_tokens': 1007})]}"
      ]
     },
     "execution_count": 61,
     "metadata": {},
     "output_type": "execute_result"
    }
   ],
   "source": [
    "graph.invoke(None, config=config)"
   ]
  },
  {
   "cell_type": "code",
   "execution_count": 62,
   "metadata": {},
   "outputs": [
    {
     "data": {
      "text/plain": [
       "{'messages': [HumanMessage(content='How is the weather in Los Angeles?', id='38e92e1d-0b8e-451e-a559-1bb9462114fc'),\n",
       "  AIMessage(content='', additional_kwargs={'tool_calls': [{'id': 'call_oPuwPGySpzuXpL2NMRP9lEOo', 'function': {'arguments': '{\"query\":\"current weather in Los Angeles\"}', 'name': 'tavily_search_results_json'}, 'type': 'function'}]}, response_metadata={'token_usage': {'completion_tokens': 22, 'prompt_tokens': 87, 'total_tokens': 109}, 'model_name': 'gpt-4o-2024-05-13', 'system_fingerprint': 'fp_abc28019ad', 'prompt_filter_results': [{'prompt_index': 0, 'content_filter_results': {'hate': {'filtered': False, 'severity': 'safe'}, 'self_harm': {'filtered': False, 'severity': 'safe'}, 'sexual': {'filtered': False, 'severity': 'safe'}, 'violence': {'filtered': False, 'severity': 'safe'}}}], 'finish_reason': 'tool_calls', 'logprobs': None, 'content_filter_results': {}}, id='run-50bb7f3f-808d-46fd-94d0-011f200637d0-0', tool_calls=[{'name': 'tavily_search_results_json', 'args': {'query': 'current weather in Los Angeles'}, 'id': 'call_oPuwPGySpzuXpL2NMRP9lEOo'}], usage_metadata={'input_tokens': 87, 'output_tokens': 22, 'total_tokens': 109})]}"
      ]
     },
     "execution_count": 62,
     "metadata": {},
     "output_type": "execute_result"
    }
   ],
   "source": [
    "from langchain_core.messages import HumanMessage\n",
    "\n",
    "config = {\"configurable\": {\"thread_id\": \"2\"}}\n",
    "input_message = HumanMessage(content=\"How is the weather in Los Angeles?\")\n",
    "\n",
    "graph.invoke({\"messages\": input_message}, config=config)"
   ]
  },
  {
   "cell_type": "code",
   "execution_count": 63,
   "metadata": {},
   "outputs": [
    {
     "name": "stdout",
     "output_type": "stream",
     "text": [
      "==================================\u001b[1m Ai Message \u001b[0m==================================\n",
      "Tool Calls:\n",
      "  tavily_search_results_json (call_oPuwPGySpzuXpL2NMRP9lEOo)\n",
      " Call ID: call_oPuwPGySpzuXpL2NMRP9lEOo\n",
      "  Args:\n",
      "    query: current weather in Los Angeles\n"
     ]
    }
   ],
   "source": [
    "snapshot = graph.get_state(config)\n",
    "existing_message = snapshot.values[\"messages\"][-1]\n",
    "existing_message.pretty_print()"
   ]
  },
  {
   "cell_type": "code",
   "execution_count": 64,
   "metadata": {},
   "outputs": [],
   "source": [
    "from langchain_core.messages import AIMessage, ToolMessage\n",
    "\n",
    "answer = \"It is only 5°C warm today!\"\n",
    "new_messages = [\n",
    "    ToolMessage(content=answer, tool_call_id=existing_message.tool_calls[0][\"id\"]),\n",
    "    AIMessage(content=answer),\n",
    "]"
   ]
  },
  {
   "cell_type": "code",
   "execution_count": 65,
   "metadata": {},
   "outputs": [
    {
     "name": "stdout",
     "output_type": "stream",
     "text": [
      "==================================\u001b[1m Ai Message \u001b[0m==================================\n",
      "\n",
      "It is only 5°C warm today!\n",
      "\n",
      "\n",
      "Last 2 messages;\n",
      "[ToolMessage(content='It is only 5°C warm today!', id='c5c8f4ef-c505-4638-9487-f3bf3f8578dd', tool_call_id='call_oPuwPGySpzuXpL2NMRP9lEOo'), AIMessage(content='It is only 5°C warm today!', id='fa8e8bb4-7ac2-4a86-ad6b-cfb86f298b29')]\n"
     ]
    }
   ],
   "source": [
    "new_messages[-1].pretty_print()\n",
    "graph.update_state(\n",
    "    config,\n",
    "    {\"messages\": new_messages},\n",
    ")\n",
    "\n",
    "print(\"\\n\\nLast 2 messages;\")\n",
    "print(graph.get_state(config).values[\"messages\"][-2:])"
   ]
  },
  {
   "cell_type": "code",
   "execution_count": 66,
   "metadata": {},
   "outputs": [
    {
     "data": {
      "text/plain": [
       "{'messages': [HumanMessage(content='How is the weather in Los Angeles?', id='38e92e1d-0b8e-451e-a559-1bb9462114fc'),\n",
       "  AIMessage(content='', additional_kwargs={'tool_calls': [{'id': 'call_oPuwPGySpzuXpL2NMRP9lEOo', 'function': {'arguments': '{\"query\":\"current weather in Los Angeles\"}', 'name': 'tavily_search_results_json'}, 'type': 'function'}]}, response_metadata={'token_usage': {'completion_tokens': 22, 'prompt_tokens': 87, 'total_tokens': 109}, 'model_name': 'gpt-4o-2024-05-13', 'system_fingerprint': 'fp_abc28019ad', 'prompt_filter_results': [{'prompt_index': 0, 'content_filter_results': {'hate': {'filtered': False, 'severity': 'safe'}, 'self_harm': {'filtered': False, 'severity': 'safe'}, 'sexual': {'filtered': False, 'severity': 'safe'}, 'violence': {'filtered': False, 'severity': 'safe'}}}], 'finish_reason': 'tool_calls', 'logprobs': None, 'content_filter_results': {}}, id='run-50bb7f3f-808d-46fd-94d0-011f200637d0-0', tool_calls=[{'name': 'tavily_search_results_json', 'args': {'query': 'current weather in Los Angeles'}, 'id': 'call_oPuwPGySpzuXpL2NMRP9lEOo'}], usage_metadata={'input_tokens': 87, 'output_tokens': 22, 'total_tokens': 109}),\n",
       "  ToolMessage(content='It is only 5°C warm today!', id='c5c8f4ef-c505-4638-9487-f3bf3f8578dd', tool_call_id='call_oPuwPGySpzuXpL2NMRP9lEOo'),\n",
       "  AIMessage(content='It is only 5°C warm today!', id='fa8e8bb4-7ac2-4a86-ad6b-cfb86f298b29'),\n",
       "  HumanMessage(content='How warm was it again?', id='ecfbd41b-b365-4f7b-a091-30aac482b1a8'),\n",
       "  AIMessage(content='It is 5°C warm today in Los Angeles.', response_metadata={'token_usage': {'completion_tokens': 12, 'prompt_tokens': 153, 'total_tokens': 165}, 'model_name': 'gpt-4o-2024-05-13', 'system_fingerprint': 'fp_abc28019ad', 'prompt_filter_results': [{'prompt_index': 0, 'content_filter_results': {'hate': {'filtered': False, 'severity': 'safe'}, 'self_harm': {'filtered': False, 'severity': 'safe'}, 'sexual': {'filtered': False, 'severity': 'safe'}, 'violence': {'filtered': False, 'severity': 'safe'}}}], 'finish_reason': 'stop', 'logprobs': None, 'content_filter_results': {'hate': {'filtered': False, 'severity': 'safe'}, 'self_harm': {'filtered': False, 'severity': 'safe'}, 'sexual': {'filtered': False, 'severity': 'safe'}, 'violence': {'filtered': False, 'severity': 'safe'}}}, id='run-77270c80-51ef-433b-bca8-3311bb4141d1-0', usage_metadata={'input_tokens': 153, 'output_tokens': 12, 'total_tokens': 165})]}"
      ]
     },
     "execution_count": 66,
     "metadata": {},
     "output_type": "execute_result"
    }
   ],
   "source": [
    "config = {\"configurable\": {\"thread_id\": \"2\"}}\n",
    "input_message = HumanMessage(content=\"How warm was it again?\")\n",
    "\n",
    "graph.invoke({\"messages\": input_message}, config=config)"
   ]
  },
  {
   "cell_type": "markdown",
   "metadata": {},
   "source": [
    "Custom State"
   ]
  },
  {
   "cell_type": "code",
   "execution_count": 67,
   "metadata": {},
   "outputs": [],
   "source": [
    "from typing import Annotated\n",
    "\n",
    "from langchain_openai import ChatOpenAI\n",
    "from langchain_community.tools.tavily_search import TavilySearchResults\n",
    "from typing_extensions import TypedDict\n",
    "\n",
    "from langgraph.checkpoint.sqlite import SqliteSaver\n",
    "from langgraph.graph import StateGraph\n",
    "from langgraph.graph.message import add_messages\n",
    "from langgraph.prebuilt import ToolNode, tools_condition\n",
    "\n",
    "\n",
    "class State(TypedDict):\n",
    "    messages: Annotated[list, add_messages]\n",
    "    ask_human: bool"
   ]
  },
  {
   "cell_type": "markdown",
   "metadata": {},
   "source": [
    "대화를 전문가에게 에스컬레이션하세요. 직접적으로 도움을 줄 수 없거나 사용자에게 권한 이상의 지원이 필요한 경우 이 방법을 사용하세요.\n",
    "\n",
    "이 기능을 사용하려면 전문가가 올바른 안내를 제공할 수 있도록 사용자의 '요청'을 전달해야 합니다."
   ]
  },
  {
   "cell_type": "code",
   "execution_count": 68,
   "metadata": {},
   "outputs": [],
   "source": [
    "from langchain_core.tools import tool\n",
    "\n",
    "\n",
    "@tool\n",
    "def request_assistance():\n",
    "    \"\"\"Escalate the conversation to an expert. Use this if you are unable to assist directly or if the user requires support beyond your permissions.\n",
    "\n",
    "    To use this function, relay the user's 'request' so the expert can provide the right guidance.\n",
    "    \"\"\"\n",
    "    return \"\""
   ]
  },
  {
   "cell_type": "code",
   "execution_count": 69,
   "metadata": {},
   "outputs": [],
   "source": [
    "tool = TavilySearchResults(max_results=2)\n",
    "tools = [tool]\n",
    "llm = Get_LLM()\n",
    "llm_with_tools = llm.bind_tools(tools + [request_assistance])\n",
    "\n",
    "\n",
    "def chatbot(state: State):\n",
    "    response = llm_with_tools.invoke(state[\"messages\"])\n",
    "    ask_human = False\n",
    "    if response.tool_calls and response.tool_calls[0][\"name\"] == \"request_assistance\":\n",
    "        ask_human = True\n",
    "    return {\"messages\": [response], \"ask_human\": ask_human}"
   ]
  },
  {
   "cell_type": "code",
   "execution_count": 70,
   "metadata": {},
   "outputs": [],
   "source": [
    "graph_builder = StateGraph(State)\n",
    "\n",
    "graph_builder.add_node(\"chatbot\", chatbot)\n",
    "graph_builder.add_node(\"tools\", ToolNode(tools=[tool]))"
   ]
  },
  {
   "cell_type": "code",
   "execution_count": 71,
   "metadata": {},
   "outputs": [],
   "source": [
    "from langchain_core.messages import AIMessage, ToolMessage\n",
    "\n",
    "\n",
    "def create_response(response: str, ai_message: AIMessage):\n",
    "    return ToolMessage(\n",
    "        content=response,\n",
    "        tool_call_id=ai_message.tool_calls[0][\"id\"],\n",
    "    )\n",
    "\n",
    "\n",
    "def human_node(state: State):\n",
    "    new_messages = []\n",
    "    if not isinstance(state[\"messages\"][-1], ToolMessage):\n",
    "        new_messages.append(\n",
    "            create_response(\"No response from human.\", state[\"messages\"][-1])\n",
    "        )\n",
    "    return {\n",
    "        \"messages\": new_messages,\n",
    "        \"ask_human\": False,\n",
    "    }\n",
    "\n",
    "\n",
    "graph_builder.add_node(\"human\", human_node)"
   ]
  },
  {
   "cell_type": "code",
   "execution_count": 72,
   "metadata": {},
   "outputs": [],
   "source": [
    "def select_next_node(state: State):\n",
    "    if state[\"ask_human\"]:\n",
    "        return \"human\"\n",
    "    return tools_condition(state)\n",
    "\n",
    "\n",
    "graph_builder.add_conditional_edges(\n",
    "    \"chatbot\",\n",
    "    select_next_node,\n",
    "    {\"human\": \"human\", \"tools\": \"tools\", \"__end__\": \"__end__\"},\n",
    ")"
   ]
  },
  {
   "cell_type": "code",
   "execution_count": 73,
   "metadata": {},
   "outputs": [],
   "source": [
    "graph_builder.add_edge(\"tools\", \"chatbot\")\n",
    "graph_builder.add_edge(\"human\", \"chatbot\")\n",
    "graph_builder.set_entry_point(\"chatbot\")\n",
    "memory = SqliteSaver.from_conn_string(\":memory:\")\n",
    "graph = graph_builder.compile(\n",
    "    checkpointer=memory,\n",
    "    interrupt_before=[\"human\"],\n",
    ")"
   ]
  },
  {
   "cell_type": "code",
   "execution_count": 74,
   "metadata": {},
   "outputs": [
    {
     "data": {
      "image/jpeg": "[encoded data removed]",
      "text/plain": [
       "<IPython.core.display.Image object>"
      ]
     },
     "metadata": {},
     "output_type": "display_data"
    }
   ],
   "source": [
    "from IPython.display import Image, display\n",
    "\n",
    "try:\n",
    "    display(Image(graph.get_graph().draw_mermaid_png()))\n",
    "except Exception:\n",
    "    pass"
   ]
  },
  {
   "cell_type": "code",
   "execution_count": 75,
   "metadata": {},
   "outputs": [
    {
     "data": {
      "text/plain": [
       "{'messages': [HumanMessage(content='I need some expert advice on how to plan a trip to barcelona', id='2b49f1ed-d47f-43a9-8aca-5cb2257afc0d'),\n",
       "  AIMessage(content='', additional_kwargs={'tool_calls': [{'id': 'call_S31bvrn71gO31kuxKXemb91w', 'function': {'arguments': '{}', 'name': 'request_assistance'}, 'type': 'function'}]}, response_metadata={'token_usage': {'completion_tokens': 11, 'prompt_tokens': 150, 'total_tokens': 161}, 'model_name': 'gpt-4o-2024-05-13', 'system_fingerprint': 'fp_abc28019ad', 'prompt_filter_results': [{'prompt_index': 0, 'content_filter_results': {'hate': {'filtered': False, 'severity': 'safe'}, 'self_harm': {'filtered': False, 'severity': 'safe'}, 'sexual': {'filtered': False, 'severity': 'safe'}, 'violence': {'filtered': False, 'severity': 'safe'}}}], 'finish_reason': 'tool_calls', 'logprobs': None, 'content_filter_results': {}}, id='run-973416ee-a84e-4ae5-b098-8b6dea8a2fb1-0', tool_calls=[{'name': 'request_assistance', 'args': {}, 'id': 'call_S31bvrn71gO31kuxKXemb91w'}], usage_metadata={'input_tokens': 150, 'output_tokens': 11, 'total_tokens': 161})],\n",
       " 'ask_human': True}"
      ]
     },
     "execution_count": 75,
     "metadata": {},
     "output_type": "execute_result"
    }
   ],
   "source": [
    "config = {\"configurable\": {\"thread_id\": \"42\"}}\n",
    "input_message = HumanMessage(\n",
    "    content=\"I need some expert advice on how to plan a trip to barcelona\"\n",
    ")\n",
    "\n",
    "graph.invoke({\"messages\": input_message}, config=config)"
   ]
  },
  {
   "cell_type": "code",
   "execution_count": 76,
   "metadata": {},
   "outputs": [
    {
     "data": {
      "text/plain": [
       "('human',)"
      ]
     },
     "execution_count": 76,
     "metadata": {},
     "output_type": "execute_result"
    }
   ],
   "source": [
    "snapshot = graph.get_state(config)\n",
    "snapshot.next"
   ]
  },
  {
   "cell_type": "code",
   "execution_count": 77,
   "metadata": {},
   "outputs": [
    {
     "data": {
      "text/plain": [
       "{'configurable': {'thread_id': '42',\n",
       "  'thread_ts': '1ef3db4f-eacf-6b5b-8002-deccac3075f2'}}"
      ]
     },
     "execution_count": 77,
     "metadata": {},
     "output_type": "execute_result"
    }
   ],
   "source": [
    "ai_message = snapshot.values[\"messages\"][-1]\n",
    "human_response = \"Sure here is the best hotel: hotelxyz, and the best flight: flightxyz\"\n",
    "tool_message = create_response(human_response, ai_message)\n",
    "graph.update_state(config, {\"messages\": [tool_message]})"
   ]
  },
  {
   "cell_type": "code",
   "execution_count": 78,
   "metadata": {},
   "outputs": [
    {
     "data": {
      "text/plain": [
       "{'messages': [HumanMessage(content='I need some expert advice on how to plan a trip to barcelona', id='2b49f1ed-d47f-43a9-8aca-5cb2257afc0d'),\n",
       "  AIMessage(content='', additional_kwargs={'tool_calls': [{'id': 'call_S31bvrn71gO31kuxKXemb91w', 'function': {'arguments': '{}', 'name': 'request_assistance'}, 'type': 'function'}]}, response_metadata={'token_usage': {'completion_tokens': 11, 'prompt_tokens': 150, 'total_tokens': 161}, 'model_name': 'gpt-4o-2024-05-13', 'system_fingerprint': 'fp_abc28019ad', 'prompt_filter_results': [{'prompt_index': 0, 'content_filter_results': {'hate': {'filtered': False, 'severity': 'safe'}, 'self_harm': {'filtered': False, 'severity': 'safe'}, 'sexual': {'filtered': False, 'severity': 'safe'}, 'violence': {'filtered': False, 'severity': 'safe'}}}], 'finish_reason': 'tool_calls', 'logprobs': None, 'content_filter_results': {}}, id='run-973416ee-a84e-4ae5-b098-8b6dea8a2fb1-0', tool_calls=[{'name': 'request_assistance', 'args': {}, 'id': 'call_S31bvrn71gO31kuxKXemb91w'}], usage_metadata={'input_tokens': 150, 'output_tokens': 11, 'total_tokens': 161}),\n",
       "  ToolMessage(content='Sure here is the best hotel: hotelxyz, and the best flight: flightxyz', id='3c47bfd0-bcb2-4381-aa77-65e0ef3e3cda', tool_call_id='call_S31bvrn71gO31kuxKXemb91w'),\n",
       "  AIMessage(content=\"I've escalated your request to an expert who can provide you with detailed advice on planning your trip to Barcelona. They will be able to assist you further.\", response_metadata={'token_usage': {'completion_tokens': 32, 'prompt_tokens': 187, 'total_tokens': 219}, 'model_name': 'gpt-4o-2024-05-13', 'system_fingerprint': 'fp_abc28019ad', 'prompt_filter_results': [{'prompt_index': 0, 'content_filter_results': {'hate': {'filtered': False, 'severity': 'safe'}, 'self_harm': {'filtered': False, 'severity': 'safe'}, 'sexual': {'filtered': False, 'severity': 'safe'}, 'violence': {'filtered': False, 'severity': 'safe'}}}], 'finish_reason': 'stop', 'logprobs': None, 'content_filter_results': {'hate': {'filtered': False, 'severity': 'safe'}, 'self_harm': {'filtered': False, 'severity': 'safe'}, 'sexual': {'filtered': False, 'severity': 'safe'}, 'violence': {'filtered': False, 'severity': 'safe'}}}, id='run-f9c587e6-a7d6-4810-946a-1db2f6a35d92-0', usage_metadata={'input_tokens': 187, 'output_tokens': 32, 'total_tokens': 219})],\n",
       " 'ask_human': False}"
      ]
     },
     "execution_count": 78,
     "metadata": {},
     "output_type": "execute_result"
    }
   ],
   "source": [
    "graph.invoke(None, config=config)"
   ]
  }
 ],
 "metadata": {
  "kernelspec": {
   "display_name": "azure_analy",
   "language": "python",
   "name": "python3"
  },
  "language_info": {
   "codemirror_mode": {
    "name": "ipython",
    "version": 3
   },
   "file_extension": ".py",
   "mimetype": "text/x-python",
   "name": "python",
   "nbconvert_exporter": "python",
   "pygments_lexer": "ipython3",
   "version": "3.12.4"
  }
 },
 "nbformat": 4,
 "nbformat_minor": 2
}
