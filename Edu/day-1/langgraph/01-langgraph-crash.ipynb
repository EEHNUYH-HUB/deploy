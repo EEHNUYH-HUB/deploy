{
 "cells": [
  {
   "cell_type": "markdown",
   "metadata": {},
   "source": [
    "- https://github.com/Coding-Crashkurse/LangGraph-Tutorial/blob/main/langgraph.ipynb\n",
    "- https://www.youtube.com/watch?v=J5d1l6xgQBc"
   ]
  },
  {
   "cell_type": "markdown",
   "metadata": {},
   "source": [
    "# LangGraph 소개: 핵심 개념 빠르게 알아보기"
   ]
  },
  {
   "cell_type": "markdown",
   "metadata": {},
   "source": [
    "### LangGraph와 에이전트\n",
    "\n",
    "- LangGraph는 LangChain 위에 구축되어 있으며, 주로 에이전트 및 에이전틱 워크플로우를 생성하는 데 사용됩니다.\n",
    "- 에이전트는 LLM을 사용하여 일련의 작업을 결정하며, LangGraph는 여러 에이전트를 결합해 데이터 공유와 작업 수행을 가능하게 합니다.\n",
    "- LangGraph는 Crew AI나 Autogen과 달리 더 깊이 있는 이해와 세밀한 맞춤 설정을 제공합니다.\n",
    "    - CrewAI: https://www.crewai.com/\n",
    "    - Autogen: https://microsoft.github.io/autogen/"
   ]
  },
  {
   "cell_type": "markdown",
   "metadata": {},
   "source": [
    "### 기본 예제와 실습\n",
    "- LangGraph의 기본 개념을 이해하기 위해 간단한 예제를 통해 시작합니다.\n",
    "- 설치 방법: pip install langgraph, AzureOpenAI API 키 설정 필요.\n",
    "- 노드와 엣지 추가, 시작 지점 설정, 그래프 컴파일 및 시각화를 시연합니다."
   ]
  },
  {
   "cell_type": "markdown",
   "metadata": {},
   "source": [
    "### LangGraph의 핵심 개념\n",
    "- 노드(Nodes) : 그래프 내 특정 작업을 수행하는 함수 또는 실행 가능한 코드.\n",
    "- 엣지(Edges) : 노드 간의 연결 및 흐름을 정의하여 실행 순서를 결정. 조건부 엣지는 현재 상태에 따라 실행을 라우팅할 수 있음.\n",
    "- 상태(State) : 실행 중에 노드 간에 전달되는 데이터로, 동적 워크플로우를 가능하게 함."
   ]
  },
  {
   "cell_type": "code",
   "execution_count": 1,
   "metadata": {},
   "outputs": [
    {
     "data": {
      "text/plain": [
       "True"
      ]
     },
     "execution_count": 1,
     "metadata": {},
     "output_type": "execute_result"
    }
   ],
   "source": [
    "from dotenv import load_dotenv\n",
    "\n",
    "load_dotenv()"
   ]
  },
  {
   "cell_type": "markdown",
   "metadata": {},
   "source": [
    "Agent 함수 생성"
   ]
  },
  {
   "cell_type": "code",
   "execution_count": 2,
   "metadata": {},
   "outputs": [],
   "source": [
    "# node 함수 - agent 생성\n",
    "from langchain_core.messages import HumanMessage\n",
    "from langgraph.graph import END, MessageGraph\n",
    "\n",
    "# def add_one(mark, input: list[HumanMessage]):\n",
    "#     input[0].content = input[0].content + mark\n",
    "#     return input\n",
    "\n",
    "# 간단한 메시지 출력 Node 함수\n",
    "def add_one(mark: str):\n",
    "    def action(messages: list[HumanMessage]):\n",
    "        print(f\"befor content: {messages[0].content}\") # 입력 값 출력 전 메시지\n",
    "        messages[0].content += mark     \n",
    "        print(f\"after content: {messages[0].content}\") # 입력 값 출력 메시지  \n",
    "        return messages\n",
    "    return action"
   ]
  },
  {
   "cell_type": "markdown",
   "metadata": {},
   "source": [
    "Node 생성"
   ]
  },
  {
   "cell_type": "code",
   "execution_count": 3,
   "metadata": {},
   "outputs": [],
   "source": [
    "# graph 객체 생성\n",
    "graph = MessageGraph()\n",
    "\n",
    "# node 생성\n",
    "graph.add_node(\"branch_a\", add_one(\"a\")) # + a\n",
    "graph.add_node(\"branch_b\", add_one(\"b\")) #a + b\n",
    "graph.add_node(\"branch_c\", add_one(\"c\")) #ab + c\n",
    "graph.add_node(\"final_node\", add_one(\"f\")) #abc + f"
   ]
  },
  {
   "cell_type": "markdown",
   "metadata": {},
   "source": [
    "Edge 연결"
   ]
  },
  {
   "cell_type": "code",
   "execution_count": 4,
   "metadata": {},
   "outputs": [],
   "source": [
    "# node를 연결하는 edge 생성\n",
    "graph.add_edge(\"branch_a\", \"branch_b\")\n",
    "graph.add_edge(\"branch_a\", \"branch_c\")\n",
    "graph.add_edge(\"branch_b\", \"final_node\")\n",
    "graph.add_edge(\"branch_c\", \"final_node\")\n",
    "graph.add_edge(\"final_node\", END) # 마지막 node"
   ]
  },
  {
   "cell_type": "markdown",
   "metadata": {},
   "source": [
    "Graph 설정 및 컴파일"
   ]
  },
  {
   "cell_type": "code",
   "execution_count": 5,
   "metadata": {},
   "outputs": [],
   "source": [
    "# graph 진입 노드 설정\n",
    "graph.set_entry_point(\"branch_a\")\n",
    "\n",
    "# graph 컴파일\n",
    "sample_graph = graph.compile()"
   ]
  },
  {
   "cell_type": "markdown",
   "metadata": {},
   "source": [
    "Graph 시각화"
   ]
  },
  {
   "cell_type": "code",
   "execution_count": 6,
   "metadata": {},
   "outputs": [
    {
     "data": {
      "image/jpeg": "[encoded data removed]",
      "text/plain": [
       "<IPython.core.display.Image object>"
      ]
     },
     "metadata": {},
     "output_type": "display_data"
    }
   ],
   "source": [
    "from IPython.display import Image, display\n",
    "\n",
    "display(Image(sample_graph.get_graph().draw_mermaid_png()))"
   ]
  },
  {
   "cell_type": "code",
   "execution_count": 7,
   "metadata": {},
   "outputs": [
    {
     "name": "stdout",
     "output_type": "stream",
     "text": [
      "befor content: z\n",
      "after content: za\n",
      "befor content: za\n",
      "after content: zab\n",
      "befor content: zab\n",
      "after content: zabc\n",
      "befor content: zabc\n",
      "after content: zabcf\n"
     ]
    },
    {
     "data": {
      "text/plain": [
       "[HumanMessage(content='zabcf', id='5576ebfe-10e2-4929-a6ba-ad1b0c8656d9')]"
      ]
     },
     "execution_count": 7,
     "metadata": {},
     "output_type": "execute_result"
    }
   ],
   "source": [
    "# 워크플로우 실행\n",
    "# 입력 값이 공유됨을 확인\n",
    "sample_graph.invoke(\"z\")"
   ]
  },
  {
   "cell_type": "markdown",
   "metadata": {},
   "source": [
    "### 조건부 edge와 순환 그래프\n",
    "- 조건부 edge를 사용하여 입력에 따라 다른 작업을 수행할 수 있음.\n",
    "- LangGraph는 조건부 체크를 기반으로 반복 작업을 수행할 수 있는 순환 워크플로우를 지원하여 전통적인 표현 언어가 지원하지 않는 사이클을 가능하게 합니다."
   ]
  },
  {
   "cell_type": "markdown",
   "metadata": {},
   "source": [
    "### Conditional Edges (조건부 엣지)"
   ]
  },
  {
   "cell_type": "markdown",
   "metadata": {},
   "source": [
    "Agent 함수 생성"
   ]
  },
  {
   "cell_type": "code",
   "execution_count": 8,
   "metadata": {},
   "outputs": [],
   "source": [
    "from langchain_core.messages import HumanMessage\n",
    "from langgraph.graph import END, MessageGraph\n",
    "\n",
    "# 시작 node 함수\n",
    "def entry(input: list[HumanMessage]):\n",
    "    return input\n",
    "\n",
    "# branch b node 함수\n",
    "def work_with_b(input: list[HumanMessage]):\n",
    "    print(\"Using branch B\")\n",
    "    return input\n",
    "\n",
    "# branch c node 함수\n",
    "def work_with_c(input: list[HumanMessage]):\n",
    "    print(\"Using branch C\")\n",
    "    return input\n",
    "\n",
    "# 조건 분기 함수\n",
    "def router(input: list[HumanMessage]):\n",
    "    if \"use_b\" in input[0].content: # 'use_b' 라는 문자열이 포함된 경우\n",
    "        return \"branch_b\"\n",
    "    else:\n",
    "        return \"branch_c\""
   ]
  },
  {
   "cell_type": "markdown",
   "metadata": {},
   "source": [
    "Node 생성"
   ]
  },
  {
   "cell_type": "code",
   "execution_count": 9,
   "metadata": {},
   "outputs": [],
   "source": [
    "# graph 객체 생성    \n",
    "graph = MessageGraph()\n",
    "\n",
    "# node 생성\n",
    "graph.add_node(\"branch_a\", entry)\n",
    "graph.add_node(\"branch_b\", work_with_b)\n",
    "graph.add_node(\"branch_c\", work_with_c)"
   ]
  },
  {
   "cell_type": "markdown",
   "metadata": {},
   "source": [
    "Edge 생성"
   ]
  },
  {
   "cell_type": "code",
   "execution_count": 10,
   "metadata": {},
   "outputs": [],
   "source": [
    "# 조건 분기 edge 생성\n",
    "graph.add_conditional_edges(\n",
    "    \"branch_a\", # 시작 node 에서\n",
    "    router,     # 분기 node 로\n",
    "    {\n",
    "        \"branch_b\":\"branch_b\", # 분기 node의 반환값에 따라 해당 node로 이동\n",
    "        \"branch_c\":\"branch_c\"\n",
    "    }\n",
    ")\n",
    "\n",
    "# edge 생성\n",
    "graph.add_edge(\"branch_b\", END)\n",
    "graph.add_edge(\"branch_c\", END)"
   ]
  },
  {
   "cell_type": "markdown",
   "metadata": {},
   "source": [
    "Graph 설정 및 컴파일"
   ]
  },
  {
   "cell_type": "code",
   "execution_count": 11,
   "metadata": {},
   "outputs": [],
   "source": [
    "# 진입 node 설정\n",
    "graph.set_entry_point(\"branch_a\")\n",
    "\n",
    "# graph 컴파일\n",
    "runnable = graph.compile()"
   ]
  },
  {
   "cell_type": "markdown",
   "metadata": {},
   "source": [
    "Graph 시각화"
   ]
  },
  {
   "cell_type": "code",
   "execution_count": 12,
   "metadata": {},
   "outputs": [
    {
     "data": {
      "image/jpeg": "[encoded data removed]",
      "text/plain": [
       "<IPython.core.display.Image object>"
      ]
     },
     "metadata": {},
     "output_type": "display_data"
    }
   ],
   "source": [
    "# 시각화\n",
    "display(Image(runnable.get_graph().draw_mermaid_png()))"
   ]
  },
  {
   "cell_type": "markdown",
   "metadata": {},
   "source": [
    "Graph 실행"
   ]
  },
  {
   "cell_type": "code",
   "execution_count": 13,
   "metadata": {},
   "outputs": [
    {
     "name": "stdout",
     "output_type": "stream",
     "text": [
      "Using branch C\n"
     ]
    },
    {
     "data": {
      "text/plain": [
       "[HumanMessage(content='hello', id='dbbe6ecf-1c6e-496e-8b39-2a51545840c8')]"
      ]
     },
     "execution_count": 13,
     "metadata": {},
     "output_type": "execute_result"
    }
   ],
   "source": [
    "# 워크플로우 실행\n",
    "runnable.invoke(\"hello\")"
   ]
  },
  {
   "cell_type": "code",
   "execution_count": 14,
   "metadata": {},
   "outputs": [
    {
     "name": "stdout",
     "output_type": "stream",
     "text": [
      "Using branch B\n"
     ]
    },
    {
     "data": {
      "text/plain": [
       "[HumanMessage(content='I want to use_b', id='0aa080af-927f-4ad0-952a-227bfab51d9d')]"
      ]
     },
     "execution_count": 14,
     "metadata": {},
     "output_type": "execute_result"
    }
   ],
   "source": [
    "# 조건 분기\n",
    "runnable.invoke(\"I want to use_b\")"
   ]
  },
  {
   "cell_type": "markdown",
   "metadata": {},
   "source": [
    "### Cycles (순환 graph)"
   ]
  },
  {
   "cell_type": "markdown",
   "metadata": {},
   "source": [
    "Agent 생성"
   ]
  },
  {
   "cell_type": "code",
   "execution_count": 15,
   "metadata": {},
   "outputs": [],
   "source": [
    "from langchain_core.messages import HumanMessage\n",
    "from langgraph.graph import END, MessageGraph\n",
    "import os\n",
    "\n",
    "# 시작 node\n",
    "def entry(input: list[HumanMessage]):\n",
    "    return input\n",
    "\n",
    "# 순환 node\n",
    "def action(input: list[HumanMessage]):\n",
    "    print(\"Action taken:\", [msg.content for msg in input])\n",
    "    if len(input) > 5: # list 배열의 크기가 5보다 크면 'end' 문자열 삽입\n",
    "        input.append(HumanMessage(content=\"end\"))\n",
    "    else:\n",
    "        input.append(HumanMessage(content=\"continue\"))\n",
    "    return input\n",
    "\n",
    "# 조건 분기 함수\n",
    "def should_continue(input: list):\n",
    "    last_message = input[-1]\n",
    "    if \"end\" in last_message.content: # 메시지 내에 end 문자열이 있으면 종료\n",
    "        return \"__end__\"\n",
    "    return \"action\""
   ]
  },
  {
   "cell_type": "markdown",
   "metadata": {},
   "source": [
    "Node 생성"
   ]
  },
  {
   "cell_type": "code",
   "execution_count": 16,
   "metadata": {},
   "outputs": [],
   "source": [
    "# graph 객체 생성\n",
    "graph = MessageGraph()\n",
    "\n",
    "# node 생성\n",
    "graph.add_node(\"agent_node\", entry)\n",
    "graph.add_node(\"action_node\", action)"
   ]
  },
  {
   "cell_type": "markdown",
   "metadata": {},
   "source": [
    "Edge 생성"
   ]
  },
  {
   "cell_type": "code",
   "execution_count": 17,
   "metadata": {},
   "outputs": [],
   "source": [
    "# 조건 분기 edge 생성\n",
    "graph.add_conditional_edges(\n",
    "    \"agent_node\",\n",
    "    should_continue,\n",
    "    {\n",
    "        \"action\": \"action_node\", \n",
    "        \"__end__\": END\n",
    "    }\n",
    ")\n",
    "\n",
    "# edge 생성\n",
    "graph.add_edge(\"action_node\", \"agent_node\")"
   ]
  },
  {
   "cell_type": "markdown",
   "metadata": {},
   "source": [
    "컴파일"
   ]
  },
  {
   "cell_type": "code",
   "execution_count": 18,
   "metadata": {},
   "outputs": [],
   "source": [
    "# graph 진입점 설정\n",
    "graph.set_entry_point(\"agent_node\")\n",
    "\n",
    "# graph 컴파일\n",
    "runnable = graph.compile()"
   ]
  },
  {
   "cell_type": "code",
   "execution_count": 19,
   "metadata": {},
   "outputs": [
    {
     "data": {
      "image/jpeg": "[encoded data removed]",
      "text/plain": [
       "<IPython.core.display.Image object>"
      ]
     },
     "metadata": {},
     "output_type": "display_data"
    }
   ],
   "source": [
    "# 시각화\n",
    "display(Image(runnable.get_graph().draw_mermaid_png()))"
   ]
  },
  {
   "cell_type": "code",
   "execution_count": 20,
   "metadata": {},
   "outputs": [
    {
     "name": "stdout",
     "output_type": "stream",
     "text": [
      "Action taken: ['Hello']\n",
      "Action taken: ['Hello', 'continue']\n",
      "Action taken: ['Hello', 'continue', 'continue']\n",
      "Action taken: ['Hello', 'continue', 'continue', 'continue']\n",
      "Action taken: ['Hello', 'continue', 'continue', 'continue', 'continue']\n",
      "Action taken: ['Hello', 'continue', 'continue', 'continue', 'continue', 'continue']\n"
     ]
    },
    {
     "data": {
      "text/plain": [
       "[HumanMessage(content='Hello', id='0eb9218c-6dac-43de-bc3e-4b9f6b906e09'),\n",
       " HumanMessage(content='continue', id='9e1cfe09-8e77-4329-a677-4782d9d0cba8'),\n",
       " HumanMessage(content='continue', id='cda3e265-2d95-4529-8445-9b3c6020a095'),\n",
       " HumanMessage(content='continue', id='39e2dce9-c4c5-4bf7-a90a-c6778a8df755'),\n",
       " HumanMessage(content='continue', id='e2393b42-5386-4e32-b253-5973b70bfc92'),\n",
       " HumanMessage(content='continue', id='1d6082ac-559d-4e98-ae91-184ea0ec2da6'),\n",
       " HumanMessage(content='end', id='7f827385-bb7d-43b7-a209-2702a8f6ce4e')]"
      ]
     },
     "execution_count": 20,
     "metadata": {},
     "output_type": "execute_result"
    }
   ],
   "source": [
    "# 워크플로우 실행\n",
    "runnable.invoke(\"Hello\")"
   ]
  },
  {
   "cell_type": "markdown",
   "metadata": {},
   "source": [
    "Real Agent - 실제로 특정 작업을 수행하는 Agent를 만들어서 Graph를 구현해 보겠습니다."
   ]
  },
  {
   "cell_type": "markdown",
   "metadata": {},
   "source": [
    "LLM 생성"
   ]
  },
  {
   "cell_type": "code",
   "execution_count": 21,
   "metadata": {},
   "outputs": [],
   "source": [
    "from langchain_openai import AzureChatOpenAI\n",
    "import os\n",
    "\n",
    "os.environ[\"AZURE_OPENAI_API_KEY\"] = '6515701982584d9b9c03317591233c46'\n",
    "os.environ[\"AZURE_OPENAI_ENDPOINT\"] = 'https://aoai-spon-estus1.openai.azure.com/'\n",
    "\n",
    "# LLM 객체 생성\n",
    "model = AzureChatOpenAI(  \n",
    "  api_version = '2024-02-01',\n",
    "  azure_deployment = 'gpt-4o-spon-gb',\n",
    "  temperature = 0.0\n",
    ")"
   ]
  },
  {
   "cell_type": "markdown",
   "metadata": {},
   "source": [
    "상태 정보 클래스"
   ]
  },
  {
   "cell_type": "code",
   "execution_count": 22,
   "metadata": {},
   "outputs": [],
   "source": [
    "from typing import TypedDict, Annotated, Sequence\n",
    "import operator\n",
    "from langchain_core.messages import BaseMessage\n",
    "\n",
    "# 메시지 상태 정보 저장 클래스\n",
    "class AgentState(TypedDict):\n",
    "    messages: Annotated[Sequence[BaseMessage], operator.add] # 메시지 배열 변수, operator.add 옵션으로 자동 추가\n",
    "    api_call_count: int = 0 # API Call 횟수"
   ]
  },
  {
   "cell_type": "markdown",
   "metadata": {},
   "source": [
    "Agent 함수 생성"
   ]
  },
  {
   "cell_type": "code",
   "execution_count": 23,
   "metadata": {},
   "outputs": [],
   "source": [
    "from langchain_core.tools import tool\n",
    "import random\n",
    "\n",
    "# 가짜 날씨 정보를 제공하는 Custom Tool 함수\n",
    "# 지정된 도시의 날씨를 확인하세요. API는 대략 세 번째 호출마다 무작위로 이용 가능합니다.\n",
    "@tool\n",
    "def fake_weather_api(city: str) -> str:\n",
    "    \"\"\"Check the weather in a specified city. The API is available randomly, approximately every third call.\"\"\"\n",
    "\n",
    "    if random.randint(1, 3) == 1: # 1~3 사이의 숫자 중에서 랜덤하게 반환된 값이 1인 경우\n",
    "        return \"Sunny, 22℃\" # 날씨 출력\n",
    "    else:\n",
    "        return \"Service temporarily unavailable\" # 서버 오류라는 메시지 출력"
   ]
  },
  {
   "cell_type": "code",
   "execution_count": 24,
   "metadata": {},
   "outputs": [
    {
     "name": "stdout",
     "output_type": "stream",
     "text": [
      "Service temporarily unavailable\n",
      "Sunny, 22℃\n",
      "Sunny, 22℃\n",
      "Service temporarily unavailable\n"
     ]
    },
    {
     "name": "stderr",
     "output_type": "stream",
     "text": [
      "c:\\Users\\bhkim\\AppData\\Local\\miniconda3\\envs\\azure_analy\\Lib\\site-packages\\langchain_core\\_api\\deprecation.py:139: LangChainDeprecationWarning: The method `BaseTool.__call__` was deprecated in langchain-core 0.1.47 and will be removed in 0.3.0. Use invoke instead.\n",
      "  warn_deprecated(\n"
     ]
    }
   ],
   "source": [
    "# API 테스트\n",
    "print(fake_weather_api(\"New York\"))\n",
    "print(fake_weather_api(\"London\"))\n",
    "print(fake_weather_api(\"Berlin\"))\n",
    "print(fake_weather_api(\"Seoul\"))"
   ]
  },
  {
   "cell_type": "code",
   "execution_count": 25,
   "metadata": {},
   "outputs": [],
   "source": [
    "# LLM 객체와 Tool 함수 연결\n",
    "llm_with_tools = model.bind_tools([fake_weather_api])"
   ]
  },
  {
   "cell_type": "code",
   "execution_count": 26,
   "metadata": {},
   "outputs": [
    {
     "name": "stdout",
     "output_type": "stream",
     "text": [
      "[HumanMessage(content='오늘 서울 날씨는 어떨까요? 가능하다면 밖에서 식사하고 싶습니다.'), AIMessage(content='', additional_kwargs={'tool_calls': [{'id': 'call_RiwGwIaSbnVCpuWmjWqH9wWv', 'function': {'arguments': '{\"city\":\"Seoul\"}', 'name': 'fake_weather_api'}, 'type': 'function'}]}, response_metadata={'token_usage': {'completion_tokens': 16, 'prompt_tokens': 77, 'total_tokens': 93}, 'model_name': 'gpt-4o-2024-05-13', 'system_fingerprint': 'fp_abc28019ad', 'prompt_filter_results': [{'prompt_index': 0, 'content_filter_results': {'hate': {'filtered': False, 'severity': 'safe'}, 'self_harm': {'filtered': False, 'severity': 'safe'}, 'sexual': {'filtered': False, 'severity': 'safe'}, 'violence': {'filtered': False, 'severity': 'safe'}}}], 'finish_reason': 'tool_calls', 'logprobs': None, 'content_filter_results': {}}, id='run-3f57672f-e2fd-4bb6-b49c-a6d1d1859622-0', tool_calls=[{'name': 'fake_weather_api', 'args': {'city': 'Seoul'}, 'id': 'call_RiwGwIaSbnVCpuWmjWqH9wWv'}], usage_metadata={'input_tokens': 77, 'output_tokens': 16, 'total_tokens': 93})]\n"
     ]
    }
   ],
   "source": [
    "# llm_tool 테스트\n",
    "messages = [HumanMessage(\"오늘 서울 날씨는 어떨까요? 가능하다면 밖에서 식사하고 싶습니다.\")]\n",
    "llm_output = llm_with_tools.invoke(messages)\n",
    "messages.append(llm_output)\n",
    "print(messages)"
   ]
  },
  {
   "cell_type": "code",
   "execution_count": 27,
   "metadata": {},
   "outputs": [
    {
     "name": "stdout",
     "output_type": "stream",
     "text": [
      "tool message: content='Sunny, 22℃' tool_call_id='call_RiwGwIaSbnVCpuWmjWqH9wWv'\n"
     ]
    },
    {
     "data": {
      "text/plain": [
       "AIMessage(content='오늘 서울 날씨는 맑고 기온은 22℃입니다. 밖에서 식사하기에 좋은 날씨네요! 즐거운 시간 보내세요.', response_metadata={'token_usage': {'completion_tokens': 35, 'prompt_tokens': 107, 'total_tokens': 142}, 'model_name': 'gpt-4o-2024-05-13', 'system_fingerprint': 'fp_abc28019ad', 'prompt_filter_results': [{'prompt_index': 0, 'content_filter_results': {'hate': {'filtered': False, 'severity': 'safe'}, 'self_harm': {'filtered': False, 'severity': 'safe'}, 'sexual': {'filtered': False, 'severity': 'safe'}, 'violence': {'filtered': False, 'severity': 'safe'}}}], 'finish_reason': 'stop', 'logprobs': None, 'content_filter_results': {'hate': {'filtered': False, 'severity': 'safe'}, 'self_harm': {'filtered': False, 'severity': 'safe'}, 'sexual': {'filtered': False, 'severity': 'safe'}, 'violence': {'filtered': False, 'severity': 'safe'}}}, id='run-b9797987-0b7f-4117-ac8d-33fffc3cb2a3-0', usage_metadata={'input_tokens': 107, 'output_tokens': 35, 'total_tokens': 142})"
      ]
     },
     "execution_count": 27,
     "metadata": {},
     "output_type": "execute_result"
    }
   ],
   "source": [
    "from langchain_core.messages import HumanMessage, ToolMessage\n",
    "\n",
    "# 호출할 tool 함수 목록\n",
    "tool_mapping = {\"fake_weather_api\": fake_weather_api}\n",
    "\n",
    "for tool_call in llm_output.tool_calls: # AIMessage에서 tool_calls 항목 탐색    \n",
    "    tool = tool_mapping[tool_call[\"name\"].lower()] # 호출할 tool 함수 목록에서 tool 함수 객체를 가져온다.\n",
    "    tool_output = tool.invoke(tool_call[\"args\"]) # tool_calls 항목에서 인자를 추출하고 tool 함수에 입력하여 실행한다.\n",
    "    tool_msg = ToolMessage(content=tool_output, tool_call_id=tool_call[\"id\"]) # tool 함수의 반환값으로 ToolMessage를 생성\n",
    "    print(f\"tool message: {tool_msg}\")\n",
    "    messages.append(tool_msg) # ToolMessage를 메시지 배열에 추가하여 프롬프트로 사용한다.\n",
    "\n",
    "llm_with_tools.invoke(messages) # llm_tool 실행"
   ]
  },
  {
   "cell_type": "code",
   "execution_count": 28,
   "metadata": {},
   "outputs": [],
   "source": [
    "# 사용자 질문을 LLM에게 질의하는 시작 node\n",
    "# tool을 실행하기 위한 정보 반환     \n",
    "def call_model(state: AgentState):\n",
    "    print(\"call_model - STATE:\", state)\n",
    "    messages = state[\"messages\"] # 프롬프트 배열을 가져온다\n",
    "    print(\"call_model - messages:\", messages)\n",
    "    response = llm_with_tools.invoke(messages) # llm_tool 실행\n",
    "    print(\"call_model - response:\", response)\n",
    "    return {\"messages\":[response], \"api_call_count\":state[\"api_call_count\"]}\n",
    "\n",
    "# tool 실행 node\n",
    "def call_tool(state:AgentState):\n",
    "    print(\"call_tool - STATE:\", state)\n",
    "    messages = state[\"messages\"] # 프롬프트 배열을 가져온다\n",
    "    last_message = messages[-1] # tool 함수 정보가 담긴 마지막 프롬프트 메시지를 가져온다.\n",
    "    print(\"call_tool - last_message:\", last_message)\n",
    "\n",
    "    tool_call = last_message.tool_calls[0] # tool 함수 항목을 가져온다. \n",
    "    tool = tool_mapping[tool_call[\"name\"].lower()] # tool 이름을 가져온다\n",
    "    tool_output = tool.invoke(tool_call[\"args\"]) # tool 함수 실행에 필요한 인자값을 가져와서 tool 함수를 호출한다.\n",
    "    state['api_call_count'] += 1 # tool 호출 횟수 증가\n",
    "    print(\"Tool output:\", tool_output)\n",
    "    print(\"API call count after this tool call:\", state['api_call_count'])\n",
    "\n",
    "    tool_message = ToolMessage(content=tool_output, tool_call_id=tool_call[\"id\"]) # tool 함수의 결과로 ToolMessage 객체 생성\n",
    "    print(\"call_tool - tool_message:\", tool_message)\n",
    "    \n",
    "    return {\"messages\": [tool_message], \"api_call_count\":state[\"api_call_count\"]} # 상태 객체 업데이트하여 반환\n",
    "\n",
    "# 조건 체크 node 함수\n",
    "def should_continue(state: AgentState):\n",
    "    print(\"should_continue - STATE:\", state)    \n",
    "    messages = state[\"messages\"] # 프롬프트 배열을 가져온다\n",
    "    print(\"should_continue - messages:\", messages)\n",
    "    last_message = messages[-1] # 메시지 배열에서 마지막 메시지를 가져온다.\n",
    "    print(\"should_continue - last_message:\", last_message)\n",
    "    if not last_message.tool_calls: # 마지막 메시지에 'tool_calls' 함수 항목이 없으면 답변을 얻었다는 것이므로 종료\n",
    "        print(\"should_continue - end:\")    \n",
    "        return \"end\"\n",
    "    else:\n",
    "        print(\"should_continue - continue:\")\n",
    "        return \"continue\" # 마지막 메시지에 'tool_calls' 함수 항목이 있으면, tool을 호출해서 답변을 얻으라는 것이므로 계속 진행\n"
   ]
  },
  {
   "cell_type": "markdown",
   "metadata": {},
   "source": [
    "Node 생성 및 Edge 연결"
   ]
  },
  {
   "cell_type": "code",
   "execution_count": 29,
   "metadata": {},
   "outputs": [],
   "source": [
    "from langgraph.graph import StateGraph, END\n",
    "\n",
    "# 상태 grape 객체 생성\n",
    "workflow = StateGraph(AgentState)\n",
    "\n",
    "# node 생성\n",
    "workflow.add_node(\"agent_call_model\", call_model)\n",
    "workflow.add_node(\"action_call_tool\", call_tool)\n",
    "\n",
    "# 조건 분기 edge 생성\n",
    "workflow.add_conditional_edges(\n",
    "    \"agent_call_model\",\n",
    "    should_continue,\n",
    "    {\n",
    "        \"continue\": \"action_call_tool\", # AI 답변이 없고, 마지막 상태 메시지에 tool call 함수 항목이 존재하는 경우\n",
    "        \"end\": END, # tool call 메시지가 없고 AI 답변이 있는 경우\n",
    "    }\n",
    ")\n",
    "\n",
    "# edge 생성\n",
    "workflow.add_edge(\"action_call_tool\", \"agent_call_model\")\n",
    "\n"
   ]
  },
  {
   "cell_type": "markdown",
   "metadata": {},
   "source": [
    "컴파일"
   ]
  },
  {
   "cell_type": "code",
   "execution_count": 30,
   "metadata": {},
   "outputs": [],
   "source": [
    "# 시작 node 설정\n",
    "workflow.set_entry_point(\"agent_call_model\")\n",
    "\n",
    "# graph 컴파일\n",
    "app = workflow.compile()"
   ]
  },
  {
   "cell_type": "markdown",
   "metadata": {},
   "source": [
    "시각화"
   ]
  },
  {
   "cell_type": "code",
   "execution_count": 31,
   "metadata": {},
   "outputs": [
    {
     "data": {
      "image/jpeg": "[encoded data removed]",
      "text/plain": [
       "<IPython.core.display.Image object>"
      ]
     },
     "metadata": {},
     "output_type": "display_data"
    }
   ],
   "source": [
    "# 시각화\n",
    "\n",
    "from IPython.display import Image, display\n",
    "\n",
    "try:\n",
    "    display(Image(app.get_graph(xray=True).draw_mermaid_png()))\n",
    "except:\n",
    "    pass"
   ]
  },
  {
   "cell_type": "markdown",
   "metadata": {},
   "source": [
    "Graph 실행"
   ]
  },
  {
   "cell_type": "code",
   "execution_count": 32,
   "metadata": {},
   "outputs": [
    {
     "name": "stdout",
     "output_type": "stream",
     "text": [
      "call_model - STATE: {'messages': [SystemMessage(content='You are responsible for answering user questions. You use tools for that, These tools sometimes fail and you are very resilient and trying them again'), HumanMessage(content='오늘 서울의 날씨는 어때?')], 'api_call_count': 0}\n",
      "call_model - messages: [SystemMessage(content='You are responsible for answering user questions. You use tools for that, These tools sometimes fail and you are very resilient and trying them again'), HumanMessage(content='오늘 서울의 날씨는 어때?')]\n",
      "call_model - response: content='' additional_kwargs={'tool_calls': [{'id': 'call_anu2OuIGhMGThzNQoThb1k7p', 'function': {'arguments': '{\"city\":\"Seoul\"}', 'name': 'fake_weather_api'}, 'type': 'function'}]} response_metadata={'token_usage': {'completion_tokens': 16, 'prompt_tokens': 94, 'total_tokens': 110}, 'model_name': 'gpt-4o-2024-05-13', 'system_fingerprint': 'fp_abc28019ad', 'prompt_filter_results': [{'prompt_index': 0, 'content_filter_results': {'hate': {'filtered': False, 'severity': 'safe'}, 'self_harm': {'filtered': False, 'severity': 'safe'}, 'sexual': {'filtered': False, 'severity': 'safe'}, 'violence': {'filtered': False, 'severity': 'safe'}}}], 'finish_reason': 'tool_calls', 'logprobs': None, 'content_filter_results': {}} id='run-623fbc95-24c5-456c-b0c8-b10aa72ced2e-0' tool_calls=[{'name': 'fake_weather_api', 'args': {'city': 'Seoul'}, 'id': 'call_anu2OuIGhMGThzNQoThb1k7p'}] usage_metadata={'input_tokens': 94, 'output_tokens': 16, 'total_tokens': 110}\n",
      "should_continue - STATE: {'messages': [SystemMessage(content='You are responsible for answering user questions. You use tools for that, These tools sometimes fail and you are very resilient and trying them again'), HumanMessage(content='오늘 서울의 날씨는 어때?'), AIMessage(content='', additional_kwargs={'tool_calls': [{'id': 'call_anu2OuIGhMGThzNQoThb1k7p', 'function': {'arguments': '{\"city\":\"Seoul\"}', 'name': 'fake_weather_api'}, 'type': 'function'}]}, response_metadata={'token_usage': {'completion_tokens': 16, 'prompt_tokens': 94, 'total_tokens': 110}, 'model_name': 'gpt-4o-2024-05-13', 'system_fingerprint': 'fp_abc28019ad', 'prompt_filter_results': [{'prompt_index': 0, 'content_filter_results': {'hate': {'filtered': False, 'severity': 'safe'}, 'self_harm': {'filtered': False, 'severity': 'safe'}, 'sexual': {'filtered': False, 'severity': 'safe'}, 'violence': {'filtered': False, 'severity': 'safe'}}}], 'finish_reason': 'tool_calls', 'logprobs': None, 'content_filter_results': {}}, id='run-623fbc95-24c5-456c-b0c8-b10aa72ced2e-0', tool_calls=[{'name': 'fake_weather_api', 'args': {'city': 'Seoul'}, 'id': 'call_anu2OuIGhMGThzNQoThb1k7p'}], usage_metadata={'input_tokens': 94, 'output_tokens': 16, 'total_tokens': 110})], 'api_call_count': 0}\n",
      "should_continue - messages: [SystemMessage(content='You are responsible for answering user questions. You use tools for that, These tools sometimes fail and you are very resilient and trying them again'), HumanMessage(content='오늘 서울의 날씨는 어때?'), AIMessage(content='', additional_kwargs={'tool_calls': [{'id': 'call_anu2OuIGhMGThzNQoThb1k7p', 'function': {'arguments': '{\"city\":\"Seoul\"}', 'name': 'fake_weather_api'}, 'type': 'function'}]}, response_metadata={'token_usage': {'completion_tokens': 16, 'prompt_tokens': 94, 'total_tokens': 110}, 'model_name': 'gpt-4o-2024-05-13', 'system_fingerprint': 'fp_abc28019ad', 'prompt_filter_results': [{'prompt_index': 0, 'content_filter_results': {'hate': {'filtered': False, 'severity': 'safe'}, 'self_harm': {'filtered': False, 'severity': 'safe'}, 'sexual': {'filtered': False, 'severity': 'safe'}, 'violence': {'filtered': False, 'severity': 'safe'}}}], 'finish_reason': 'tool_calls', 'logprobs': None, 'content_filter_results': {}}, id='run-623fbc95-24c5-456c-b0c8-b10aa72ced2e-0', tool_calls=[{'name': 'fake_weather_api', 'args': {'city': 'Seoul'}, 'id': 'call_anu2OuIGhMGThzNQoThb1k7p'}], usage_metadata={'input_tokens': 94, 'output_tokens': 16, 'total_tokens': 110})]\n",
      "should_continue - last_message: content='' additional_kwargs={'tool_calls': [{'id': 'call_anu2OuIGhMGThzNQoThb1k7p', 'function': {'arguments': '{\"city\":\"Seoul\"}', 'name': 'fake_weather_api'}, 'type': 'function'}]} response_metadata={'token_usage': {'completion_tokens': 16, 'prompt_tokens': 94, 'total_tokens': 110}, 'model_name': 'gpt-4o-2024-05-13', 'system_fingerprint': 'fp_abc28019ad', 'prompt_filter_results': [{'prompt_index': 0, 'content_filter_results': {'hate': {'filtered': False, 'severity': 'safe'}, 'self_harm': {'filtered': False, 'severity': 'safe'}, 'sexual': {'filtered': False, 'severity': 'safe'}, 'violence': {'filtered': False, 'severity': 'safe'}}}], 'finish_reason': 'tool_calls', 'logprobs': None, 'content_filter_results': {}} id='run-623fbc95-24c5-456c-b0c8-b10aa72ced2e-0' tool_calls=[{'name': 'fake_weather_api', 'args': {'city': 'Seoul'}, 'id': 'call_anu2OuIGhMGThzNQoThb1k7p'}] usage_metadata={'input_tokens': 94, 'output_tokens': 16, 'total_tokens': 110}\n",
      "should_continue - continue:\n",
      "call_tool - STATE: {'messages': [SystemMessage(content='You are responsible for answering user questions. You use tools for that, These tools sometimes fail and you are very resilient and trying them again'), HumanMessage(content='오늘 서울의 날씨는 어때?'), AIMessage(content='', additional_kwargs={'tool_calls': [{'id': 'call_anu2OuIGhMGThzNQoThb1k7p', 'function': {'arguments': '{\"city\":\"Seoul\"}', 'name': 'fake_weather_api'}, 'type': 'function'}]}, response_metadata={'token_usage': {'completion_tokens': 16, 'prompt_tokens': 94, 'total_tokens': 110}, 'model_name': 'gpt-4o-2024-05-13', 'system_fingerprint': 'fp_abc28019ad', 'prompt_filter_results': [{'prompt_index': 0, 'content_filter_results': {'hate': {'filtered': False, 'severity': 'safe'}, 'self_harm': {'filtered': False, 'severity': 'safe'}, 'sexual': {'filtered': False, 'severity': 'safe'}, 'violence': {'filtered': False, 'severity': 'safe'}}}], 'finish_reason': 'tool_calls', 'logprobs': None, 'content_filter_results': {}}, id='run-623fbc95-24c5-456c-b0c8-b10aa72ced2e-0', tool_calls=[{'name': 'fake_weather_api', 'args': {'city': 'Seoul'}, 'id': 'call_anu2OuIGhMGThzNQoThb1k7p'}], usage_metadata={'input_tokens': 94, 'output_tokens': 16, 'total_tokens': 110})], 'api_call_count': 0}\n",
      "call_tool - last_message: content='' additional_kwargs={'tool_calls': [{'id': 'call_anu2OuIGhMGThzNQoThb1k7p', 'function': {'arguments': '{\"city\":\"Seoul\"}', 'name': 'fake_weather_api'}, 'type': 'function'}]} response_metadata={'token_usage': {'completion_tokens': 16, 'prompt_tokens': 94, 'total_tokens': 110}, 'model_name': 'gpt-4o-2024-05-13', 'system_fingerprint': 'fp_abc28019ad', 'prompt_filter_results': [{'prompt_index': 0, 'content_filter_results': {'hate': {'filtered': False, 'severity': 'safe'}, 'self_harm': {'filtered': False, 'severity': 'safe'}, 'sexual': {'filtered': False, 'severity': 'safe'}, 'violence': {'filtered': False, 'severity': 'safe'}}}], 'finish_reason': 'tool_calls', 'logprobs': None, 'content_filter_results': {}} id='run-623fbc95-24c5-456c-b0c8-b10aa72ced2e-0' tool_calls=[{'name': 'fake_weather_api', 'args': {'city': 'Seoul'}, 'id': 'call_anu2OuIGhMGThzNQoThb1k7p'}] usage_metadata={'input_tokens': 94, 'output_tokens': 16, 'total_tokens': 110}\n",
      "Tool output: Sunny, 22℃\n",
      "API call count after this tool call: 1\n",
      "call_tool - tool_message: content='Sunny, 22℃' tool_call_id='call_anu2OuIGhMGThzNQoThb1k7p'\n",
      "call_model - STATE: {'messages': [SystemMessage(content='You are responsible for answering user questions. You use tools for that, These tools sometimes fail and you are very resilient and trying them again'), HumanMessage(content='오늘 서울의 날씨는 어때?'), AIMessage(content='', additional_kwargs={'tool_calls': [{'id': 'call_anu2OuIGhMGThzNQoThb1k7p', 'function': {'arguments': '{\"city\":\"Seoul\"}', 'name': 'fake_weather_api'}, 'type': 'function'}]}, response_metadata={'token_usage': {'completion_tokens': 16, 'prompt_tokens': 94, 'total_tokens': 110}, 'model_name': 'gpt-4o-2024-05-13', 'system_fingerprint': 'fp_abc28019ad', 'prompt_filter_results': [{'prompt_index': 0, 'content_filter_results': {'hate': {'filtered': False, 'severity': 'safe'}, 'self_harm': {'filtered': False, 'severity': 'safe'}, 'sexual': {'filtered': False, 'severity': 'safe'}, 'violence': {'filtered': False, 'severity': 'safe'}}}], 'finish_reason': 'tool_calls', 'logprobs': None, 'content_filter_results': {}}, id='run-623fbc95-24c5-456c-b0c8-b10aa72ced2e-0', tool_calls=[{'name': 'fake_weather_api', 'args': {'city': 'Seoul'}, 'id': 'call_anu2OuIGhMGThzNQoThb1k7p'}], usage_metadata={'input_tokens': 94, 'output_tokens': 16, 'total_tokens': 110}), ToolMessage(content='Sunny, 22℃', tool_call_id='call_anu2OuIGhMGThzNQoThb1k7p')], 'api_call_count': 1}\n",
      "call_model - messages: [SystemMessage(content='You are responsible for answering user questions. You use tools for that, These tools sometimes fail and you are very resilient and trying them again'), HumanMessage(content='오늘 서울의 날씨는 어때?'), AIMessage(content='', additional_kwargs={'tool_calls': [{'id': 'call_anu2OuIGhMGThzNQoThb1k7p', 'function': {'arguments': '{\"city\":\"Seoul\"}', 'name': 'fake_weather_api'}, 'type': 'function'}]}, response_metadata={'token_usage': {'completion_tokens': 16, 'prompt_tokens': 94, 'total_tokens': 110}, 'model_name': 'gpt-4o-2024-05-13', 'system_fingerprint': 'fp_abc28019ad', 'prompt_filter_results': [{'prompt_index': 0, 'content_filter_results': {'hate': {'filtered': False, 'severity': 'safe'}, 'self_harm': {'filtered': False, 'severity': 'safe'}, 'sexual': {'filtered': False, 'severity': 'safe'}, 'violence': {'filtered': False, 'severity': 'safe'}}}], 'finish_reason': 'tool_calls', 'logprobs': None, 'content_filter_results': {}}, id='run-623fbc95-24c5-456c-b0c8-b10aa72ced2e-0', tool_calls=[{'name': 'fake_weather_api', 'args': {'city': 'Seoul'}, 'id': 'call_anu2OuIGhMGThzNQoThb1k7p'}], usage_metadata={'input_tokens': 94, 'output_tokens': 16, 'total_tokens': 110}), ToolMessage(content='Sunny, 22℃', tool_call_id='call_anu2OuIGhMGThzNQoThb1k7p')]\n",
      "call_model - response: content='오늘 서울의 날씨는 맑고 기온은 22℃입니다.' response_metadata={'token_usage': {'completion_tokens': 18, 'prompt_tokens': 124, 'total_tokens': 142}, 'model_name': 'gpt-4o-2024-05-13', 'system_fingerprint': 'fp_abc28019ad', 'prompt_filter_results': [{'prompt_index': 0, 'content_filter_results': {'hate': {'filtered': False, 'severity': 'safe'}, 'self_harm': {'filtered': False, 'severity': 'safe'}, 'sexual': {'filtered': False, 'severity': 'safe'}, 'violence': {'filtered': False, 'severity': 'safe'}}}], 'finish_reason': 'stop', 'logprobs': None, 'content_filter_results': {'hate': {'filtered': False, 'severity': 'safe'}, 'self_harm': {'filtered': False, 'severity': 'safe'}, 'sexual': {'filtered': False, 'severity': 'safe'}, 'violence': {'filtered': False, 'severity': 'safe'}}} id='run-0638780b-fb29-4690-a4bc-975db11243ac-0' usage_metadata={'input_tokens': 124, 'output_tokens': 18, 'total_tokens': 142}\n",
      "should_continue - STATE: {'messages': [SystemMessage(content='You are responsible for answering user questions. You use tools for that, These tools sometimes fail and you are very resilient and trying them again'), HumanMessage(content='오늘 서울의 날씨는 어때?'), AIMessage(content='', additional_kwargs={'tool_calls': [{'id': 'call_anu2OuIGhMGThzNQoThb1k7p', 'function': {'arguments': '{\"city\":\"Seoul\"}', 'name': 'fake_weather_api'}, 'type': 'function'}]}, response_metadata={'token_usage': {'completion_tokens': 16, 'prompt_tokens': 94, 'total_tokens': 110}, 'model_name': 'gpt-4o-2024-05-13', 'system_fingerprint': 'fp_abc28019ad', 'prompt_filter_results': [{'prompt_index': 0, 'content_filter_results': {'hate': {'filtered': False, 'severity': 'safe'}, 'self_harm': {'filtered': False, 'severity': 'safe'}, 'sexual': {'filtered': False, 'severity': 'safe'}, 'violence': {'filtered': False, 'severity': 'safe'}}}], 'finish_reason': 'tool_calls', 'logprobs': None, 'content_filter_results': {}}, id='run-623fbc95-24c5-456c-b0c8-b10aa72ced2e-0', tool_calls=[{'name': 'fake_weather_api', 'args': {'city': 'Seoul'}, 'id': 'call_anu2OuIGhMGThzNQoThb1k7p'}], usage_metadata={'input_tokens': 94, 'output_tokens': 16, 'total_tokens': 110}), ToolMessage(content='Sunny, 22℃', tool_call_id='call_anu2OuIGhMGThzNQoThb1k7p'), AIMessage(content='오늘 서울의 날씨는 맑고 기온은 22℃입니다.', response_metadata={'token_usage': {'completion_tokens': 18, 'prompt_tokens': 124, 'total_tokens': 142}, 'model_name': 'gpt-4o-2024-05-13', 'system_fingerprint': 'fp_abc28019ad', 'prompt_filter_results': [{'prompt_index': 0, 'content_filter_results': {'hate': {'filtered': False, 'severity': 'safe'}, 'self_harm': {'filtered': False, 'severity': 'safe'}, 'sexual': {'filtered': False, 'severity': 'safe'}, 'violence': {'filtered': False, 'severity': 'safe'}}}], 'finish_reason': 'stop', 'logprobs': None, 'content_filter_results': {'hate': {'filtered': False, 'severity': 'safe'}, 'self_harm': {'filtered': False, 'severity': 'safe'}, 'sexual': {'filtered': False, 'severity': 'safe'}, 'violence': {'filtered': False, 'severity': 'safe'}}}, id='run-0638780b-fb29-4690-a4bc-975db11243ac-0', usage_metadata={'input_tokens': 124, 'output_tokens': 18, 'total_tokens': 142})], 'api_call_count': 1}\n",
      "should_continue - messages: [SystemMessage(content='You are responsible for answering user questions. You use tools for that, These tools sometimes fail and you are very resilient and trying them again'), HumanMessage(content='오늘 서울의 날씨는 어때?'), AIMessage(content='', additional_kwargs={'tool_calls': [{'id': 'call_anu2OuIGhMGThzNQoThb1k7p', 'function': {'arguments': '{\"city\":\"Seoul\"}', 'name': 'fake_weather_api'}, 'type': 'function'}]}, response_metadata={'token_usage': {'completion_tokens': 16, 'prompt_tokens': 94, 'total_tokens': 110}, 'model_name': 'gpt-4o-2024-05-13', 'system_fingerprint': 'fp_abc28019ad', 'prompt_filter_results': [{'prompt_index': 0, 'content_filter_results': {'hate': {'filtered': False, 'severity': 'safe'}, 'self_harm': {'filtered': False, 'severity': 'safe'}, 'sexual': {'filtered': False, 'severity': 'safe'}, 'violence': {'filtered': False, 'severity': 'safe'}}}], 'finish_reason': 'tool_calls', 'logprobs': None, 'content_filter_results': {}}, id='run-623fbc95-24c5-456c-b0c8-b10aa72ced2e-0', tool_calls=[{'name': 'fake_weather_api', 'args': {'city': 'Seoul'}, 'id': 'call_anu2OuIGhMGThzNQoThb1k7p'}], usage_metadata={'input_tokens': 94, 'output_tokens': 16, 'total_tokens': 110}), ToolMessage(content='Sunny, 22℃', tool_call_id='call_anu2OuIGhMGThzNQoThb1k7p'), AIMessage(content='오늘 서울의 날씨는 맑고 기온은 22℃입니다.', response_metadata={'token_usage': {'completion_tokens': 18, 'prompt_tokens': 124, 'total_tokens': 142}, 'model_name': 'gpt-4o-2024-05-13', 'system_fingerprint': 'fp_abc28019ad', 'prompt_filter_results': [{'prompt_index': 0, 'content_filter_results': {'hate': {'filtered': False, 'severity': 'safe'}, 'self_harm': {'filtered': False, 'severity': 'safe'}, 'sexual': {'filtered': False, 'severity': 'safe'}, 'violence': {'filtered': False, 'severity': 'safe'}}}], 'finish_reason': 'stop', 'logprobs': None, 'content_filter_results': {'hate': {'filtered': False, 'severity': 'safe'}, 'self_harm': {'filtered': False, 'severity': 'safe'}, 'sexual': {'filtered': False, 'severity': 'safe'}, 'violence': {'filtered': False, 'severity': 'safe'}}}, id='run-0638780b-fb29-4690-a4bc-975db11243ac-0', usage_metadata={'input_tokens': 124, 'output_tokens': 18, 'total_tokens': 142})]\n",
      "should_continue - last_message: content='오늘 서울의 날씨는 맑고 기온은 22℃입니다.' response_metadata={'token_usage': {'completion_tokens': 18, 'prompt_tokens': 124, 'total_tokens': 142}, 'model_name': 'gpt-4o-2024-05-13', 'system_fingerprint': 'fp_abc28019ad', 'prompt_filter_results': [{'prompt_index': 0, 'content_filter_results': {'hate': {'filtered': False, 'severity': 'safe'}, 'self_harm': {'filtered': False, 'severity': 'safe'}, 'sexual': {'filtered': False, 'severity': 'safe'}, 'violence': {'filtered': False, 'severity': 'safe'}}}], 'finish_reason': 'stop', 'logprobs': None, 'content_filter_results': {'hate': {'filtered': False, 'severity': 'safe'}, 'self_harm': {'filtered': False, 'severity': 'safe'}, 'sexual': {'filtered': False, 'severity': 'safe'}, 'violence': {'filtered': False, 'severity': 'safe'}}} id='run-0638780b-fb29-4690-a4bc-975db11243ac-0' usage_metadata={'input_tokens': 124, 'output_tokens': 18, 'total_tokens': 142}\n",
      "should_continue - end:\n"
     ]
    }
   ],
   "source": [
    "from langchain_core.messages import SystemMessage\n",
    "\n",
    "# 사용자 질문에 답변하는 책임이 있습니다. 이를 위해 도구를 사용합니다. 이러한 도구들이 때때로 실패할 수 있지만, 당신은 매우 끈질기게 다시 시도합니다.\n",
    "system_message = SystemMessage(content=\"You are responsible for answering user questions. You use tools for that, These tools sometimes fail and you are very resilient and trying them again\")\n",
    "\n",
    "# 오늘 서울의 날씨는 어때?\n",
    "human_message = HumanMessage(content=\"오늘 서울의 날씨는 어때?\")\n",
    "\n",
    "# 프롬프트 생성\n",
    "messages = [system_message, human_message]\n",
    "\n",
    "# graph 실행\n",
    "result = app.invoke({\"messages\":messages, \"api_call_count\":0})"
   ]
  },
  {
   "cell_type": "code",
   "execution_count": 33,
   "metadata": {},
   "outputs": [
    {
     "name": "stdout",
     "output_type": "stream",
     "text": [
      "오늘 서울의 날씨는 맑고 기온은 22℃입니다.\n",
      "1\n"
     ]
    }
   ],
   "source": [
    "print(result[\"messages\"][-1].content) # 답변 출력\n",
    "print(result[\"api_call_count\"]) # tool 호출 횟수"
   ]
  }
 ],
 "metadata": {
  "kernelspec": {
   "display_name": "azure_analy",
   "language": "python",
   "name": "python3"
  },
  "language_info": {
   "codemirror_mode": {
    "name": "ipython",
    "version": 3
   },
   "file_extension": ".py",
   "mimetype": "text/x-python",
   "name": "python",
   "nbconvert_exporter": "python",
   "pygments_lexer": "ipython3",
   "version": "3.12.4"
  }
 },
 "nbformat": 4,
 "nbformat_minor": 2
}
