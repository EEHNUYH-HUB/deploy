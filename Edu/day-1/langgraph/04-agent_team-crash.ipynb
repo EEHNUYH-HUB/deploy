{
 "cells": [
  {
   "cell_type": "markdown",
   "metadata": {},
   "source": [
    "- https://www.youtube.com/watch?v=9HhcFiSgLok&t=12s\n",
    "- https://github.com/Coding-Crashkurse/LangGraph-Tutorial/blob/main/agent_team.ipynb"
   ]
  },
  {
   "cell_type": "markdown",
   "metadata": {},
   "source": [
    "# 계층형 에이전트 시스템 - 심사 진행 방식 에이전트 구축 방법"
   ]
  },
  {
   "cell_type": "markdown",
   "metadata": {},
   "source": [
    "## 소개\n",
    "LangGraph를 사용하여 계층형 다중 에이전트 시스템을 만드는 방법을 설명합니다.\n",
    "작성된 뉴스를 평가하여 게시 여부를 판단하는 시스템입니다.\n",
    "## Agent System 구성\n",
    "- 여러 자율 에이전트로 구성된 시스템을 만듭니다.\n",
    "- 각 에이전트의 핵심 부분은 LLM(대형 언어 모델)입니다.\n",
    "- 데스크 에이전트: 기사 내용이 축구 이적 관련 뉴스 기사인지 판단합니다.\n",
    "- 편집자: 기사가 번역되거나 재작성되어야 하는지 결정합니다. 기사가 적절하면 게시자로 넘깁니다.\n",
    "- 번역자와 확장자는 편집자 에게만 보고하며, 게시자에게 직접 전달할 권한은 없습니다."
   ]
  },
  {
   "cell_type": "markdown",
   "metadata": {},
   "source": [
    "Team of Agents with a supervisor"
   ]
  },
  {
   "cell_type": "markdown",
   "metadata": {},
   "source": [
    "LangSmith 설정"
   ]
  },
  {
   "cell_type": "code",
   "execution_count": null,
   "metadata": {},
   "outputs": [],
   "source": [
    "# LangSmith 설정\n",
    "\n",
    "import os\n",
    "\n",
    "os.environ[\"LANGCHAIN_TRACING_V2\"]=\"true\"\n",
    "os.environ[\"LANGCHAIN_ENDPOINT\"]=\"https://api.smith.langchain.com\"\n",
    "os.environ[\"LANGCHAIN_API_KEY\"]=\"ls__708b8970829247d1a055f33c434aad1d\"\n",
    "os.environ[\"LANGCHAIN_PROJECT\"]=\"edu-langchain-0326\""
   ]
  },
  {
   "cell_type": "markdown",
   "metadata": {},
   "source": [
    "LLM 객체 생성"
   ]
  },
  {
   "cell_type": "code",
   "execution_count": null,
   "metadata": {},
   "outputs": [],
   "source": [
    "from langchain_openai import AzureChatOpenAI\n",
    "from langchain_core.prompts import ChatPromptTemplate\n",
    "from langchain_core.pydantic_v1 import BaseModel, Field\n",
    "\n",
    "# LLM 객체 생성 함수\n",
    "def Get_LLM():\n",
    "    os.environ[\"AZURE_OPENAI_API_KEY\"] = '352a6bee97b5451ab5866993a7ef4ce4'\n",
    "    os.environ[\"AZURE_OPENAI_ENDPOINT\"] = 'https://aoai-spn-krc.openai.azure.com/'\n",
    "\n",
    "    return AzureChatOpenAI(  \n",
    "        api_version = '2024-02-01',\n",
    "        azure_deployment = 'gpt-4o-kr-spn',\n",
    "        temperature = 0.0\n",
    "        )"
   ]
  },
  {
   "cell_type": "markdown",
   "metadata": {},
   "source": [
    "### 데스크 Agent\n",
    "1. 구현:\n",
    "    - 축구선수 이적에 대한 기사의 관련성을 평가하는 구조화된 출력을 사용합니다.\n",
    "    - AzureChatOpenAI 클래스를 사용하여 LLM에 시스템 메시지와 인간 메시지를 전달합니다.\n",
    "2. 예제:\n",
    "    - 메시의 팀 이적 소문을 예로 들어 평가를 수행합니다.\n",
    "    - 평가 결과: \"yes\" (관련 있음).\n"
   ]
  },
  {
   "cell_type": "markdown",
   "metadata": {},
   "source": [
    "구조화된 축구 이적 기사 여부 관련성 평가 결과 출력"
   ]
  },
  {
   "cell_type": "code",
   "execution_count": null,
   "metadata": {},
   "outputs": [],
   "source": [
    "# 구조화된 LLM 결과 출력 형식 정의 클래스\n",
    "class TransferNewsGrader(BaseModel):\n",
    "    # 축구 이적 뉴스의 관련성 확인을 위한 이진 점수.\n",
    "    \"\"\"Binary score for relevance check on football transfer news.\"\"\"\n",
    "\n",
    "    # 이 기사는 축구 이적에 관한 것입니다, 'yes' 또는 'no'\n",
    "    binary_score: str = Field(\n",
    "        description=\"The article is about football transfers, 'yes' or 'no'\"\n",
    "    )"
   ]
  },
  {
   "cell_type": "markdown",
   "metadata": {},
   "source": [
    "LLM 체인 생성\n",
    "- 입력된 기사가 축구 이적 관련 뉴스 여부 심사"
   ]
  },
  {
   "cell_type": "code",
   "execution_count": null,
   "metadata": {},
   "outputs": [],
   "source": [
    "# 축구 이적 관련 뉴스 기사 여부 평가\n",
    "llm = Get_LLM()\n",
    "# LLM 결과를 TransferNewsGrader 클래스 정의에 따라 평가 결과를 출력하는 기능 \n",
    "structured_llm_grader = llm.with_structured_output(TransferNewsGrader)\n",
    "\n",
    "# 시스템 프롬프트:\n",
    "# 당신은 뉴스 기사가 축구 이적에 관한 것인지 평가하는 평가자입니다.\n",
    "# 기사가 구단 간의 선수 이적, 잠재적인 이적 또는 확정된 이적을 명시적으로 언급하는지 확인하십시오.\n",
    "# 뉴스가 축구 이적에 관한 것이라면 이진 점수 'yes'를, 아니라면 'no'를 제공하십시오.\n",
    "system = \"\"\"You are a grader assessing whether a news article concerns a football transfer. \\n\n",
    "    Check if the article explicitly mentions player transfers between clubs, potential transfers, or confirmed transfers.\n",
    "    Provide a binary score 'yes' or 'no' to indicate whether the news is about a football transfer.\"\"\"\n",
    "\n",
    "# 프롬프트 생성\n",
    "grade_prompt = ChatPromptTemplate.from_messages(\n",
    "    [\n",
    "        (\"system\", system),\n",
    "        (\"human\", \"News Article:\\n\\n {article}\")\n",
    "    ]\n",
    ")\n",
    "\n",
    "# LLM 체인 생성\n",
    "evaluator = grade_prompt | structured_llm_grader\n",
    "\n",
    "# LLM 테스트\n",
    "# result = evaluator.invoke({\"대한축구협회(KFA)에 따르면 홍 감독은 세계 축구 흐름 파악 및 분석에 도움이 될 외국인 코치 후보군을 체크하고, 유럽에서 직접 면담을 진행할 예정이다.\"})\n",
    "# result = evaluator.invoke({\"아르헨티나 대표팀은 15일 오전 10시(한국시간) 미국 플로리다 주 마이애미의 하드 록 스타디움에서 남미축구연맹(CONMEBOL) 코파 아메리카 2024 결승전에서 콜롬비아 대표팀과 연장전까지 가는 혈투 끝에 1-0으로 승리했다.\"})\n",
    "# result = evaluator.invoke({\"영국 매체 '풋볼 365'는 AI(인공지능)가 예측한 여름 이적시장 결과를 짚으며 손흥민이 스페인 프로축구 프리메라리가 아틀레티코 마드리드로 향할 수 있다는 가능성을 조명했다.\"})\n",
    "result = evaluator.invoke({\"메시가 레알 마드리드에서 FC 바르셀로나로 이적할 것이라는 소문이 있습니다.\"})\n",
    "result.binary_score"
   ]
  },
  {
   "cell_type": "markdown",
   "metadata": {},
   "source": [
    "### 편집자\n",
    "1. 책임:\n",
    "    - 기사의 게시 준비 상태를 평가합니다.\n",
    "    - 200단어 이상, 선정적, 한국어로 작성된 기사만 게시 가능.\n",
    "    - 조건을 충족하지 않으면 확장자 또는 번역자에게 전달됩니다.\n",
    "2. 구현:\n",
    "    - 시스템 메시지와 구조화된 출력을 사용하여 기사 평가."
   ]
  },
  {
   "cell_type": "markdown",
   "metadata": {},
   "source": [
    "구조화된 뉴스 기사 심사 결과 출력 정의"
   ]
  },
  {
   "cell_type": "code",
   "execution_count": null,
   "metadata": {},
   "outputs": [],
   "source": [
    "# 뉴스 기사 심사 결과 출력 정의 클래스\n",
    "class ArticlePostabilityGrader(BaseModel):\n",
    "    # 뉴스 기사의 게시 가능 여부, 단어 수, 선정성, 언어 확인을 위한 이진 점수.\n",
    "    \"\"\"Binary scores for postability check, word count, sensationalism, and language verification of a news article.\"\"\"\n",
    "\n",
    "    can_be_posted: str = Field(\n",
    "        # 이 기사는 게시할 준비가 되었습니다, 'yes' 또는 'no'.\n",
    "        description=\"The article is ready to be posted, 'yes' or 'no'\"\n",
    "    )\n",
    "    meets_word_count: str = Field(\n",
    "        # 이 기사는 최소 200단어 이상입니다, 'yes' 또는 'no'.\n",
    "        description=\"The article has at least 200 words, 'yes' or 'no'\"\n",
    "    )\n",
    "    is_sensationalistic: str = Field(\n",
    "        # 이 기사는 선정적인 스타일로 작성되었습니다, 'yes' 또는 'no'.\n",
    "        description=\"The article is written in a sensationalistic style, 'yes' or 'no'\"\n",
    "    )\n",
    "    is_language_korean: str = Field(\n",
    "        # 이 기사의 언어는 한국어입니다, 'yes' 또는 'no'.\n",
    "        description=\"The language of the article is Korean, 'yes' or 'no'\"\n",
    "    )"
   ]
  },
  {
   "cell_type": "markdown",
   "metadata": {},
   "source": [
    "LLM 체인 생성\n",
    "- 기사로서 게시할 수 있는 내용인가?\n",
    "- 기사가 최소 200단어를 충족하는가?\n",
    "- 선정적인 내용인가?\n",
    "- 한국어로 작성되었는가?"
   ]
  },
  {
   "cell_type": "code",
   "execution_count": null,
   "metadata": {},
   "outputs": [],
   "source": [
    "# 기사 내용 심사 담당 LLM\n",
    "llm_postability = Get_LLM()\n",
    "# LLM 결과를 ArticlePostabilityGrader 클래스 정의에 따라 평가 결과를 출력하는 기능 \n",
    "structured_llm_postability_grader = llm_postability.with_structured_output(ArticlePostabilityGrader)\n",
    "\n",
    "# 시스템 프롬프트:\n",
    "# 당신은 뉴스 기사가 게시할 준비가 되었는지, 최소 200단어를 충족하는지, 선정적인 스타일로 작성되었는지, \n",
    "# 그리고 한국어로 작성되었는지를 평가하는 평가자입니다.\n",
    "# 기사를 문법 오류, 완전성, 출판 적합성, 과장된 선정성 측면에서 평가하십시오.\n",
    "# 또한 기사에 사용된 언어가 한국어인지, 단어 수 요건을 충족하는지 확인하십시오.\n",
    "# 네 가지 이진 점수를 제공하십시오: \n",
    "# 기사를 게시할 수 있는지 ('yes' 또는 'no'), 단어 수가 적절한지 ('yes' 또는 'no'), \n",
    "# 선정적으로 작성되었는지 ('yes' 또는 'no'), 언어가 한국어인지 ('yes' 또는 'no').\n",
    "postability_system = \"\"\"You are a grader assessing whether a news article is ready to be posted, if it meets the minimum word count of 200 words, is written in a sensationalistic style, and if it is in Korean. \\n\n",
    "    Evaluate the article for grammatical errors, completeness, appropriateness for publication, and EXAGERATED sensationalism. \\n\n",
    "    Also, confirm if the language used in the article is Korean and it meets the word count requirement. \\n\n",
    "    Provide four binary scores: one to indicate if the article can be posted ('yes' or 'no'), one for adequate word count ('yes' or 'no'), one for sensationalistic writing ('yes' or 'no'), and another if the language is Korean ('yes' or 'no').\"\"\"\n",
    "\n",
    "# 프롬프트 생성\n",
    "postability_grade_prompt = ChatPromptTemplate.from_messages(\n",
    "    [\n",
    "        (\"system\", postability_system),\n",
    "        (\"human\", \"News Article:\\n\\n {article}\")\n",
    "    ]\n",
    ")\n",
    "\n",
    "# LLM 체인 생성\n",
    "editor = postability_grade_prompt | structured_llm_postability_grader\n",
    "# 뉴스 기사 입력\n",
    "result = editor.invoke(\n",
    "    {\"article\": \"메시가 레알 마드리드에서 FC 바르셀로나로 이적한다고 보도되었습니다.\"}\n",
    "    # {\"article\": \"Es wurde gemeldet, dass Messi von Real Madrid zu FC Barcelona wechselt.\"}\n",
    ")\n",
    "result"
   ]
  },
  {
   "cell_type": "markdown",
   "metadata": {},
   "source": [
    "### 번역자\n",
    "- 기사를 한국어로 번역.\n",
    "- 구조화된 출력 불필요."
   ]
  },
  {
   "cell_type": "markdown",
   "metadata": {},
   "source": [
    "LLM 체인 생성\n",
    "- 외국어를 한국어로 번역"
   ]
  },
  {
   "cell_type": "code",
   "execution_count": null,
   "metadata": {},
   "outputs": [],
   "source": [
    "# 기사 번역 담당 LLM\n",
    "llm_translation = Get_LLM()\n",
    "\n",
    "# 시스템 프롬프트:\n",
    "# 당신은 기사를 한국어로 번역하는 번역가입니다. 원래의 어조와 스타일을 유지하고 존칭을 사용하여 정확하게 번역하십시오.\n",
    "translation_system = \"\"\"You are a translator converting articles into Korean. Translate accurately while maintaining the original tone and style, and use honorifics to make it suitable for a news article.\"\"\"\n",
    "# translation_system = \"\"\"You are a translator converting articles into Korean. Translate accurately while maintaining the original tone and style, and use honorifics.\"\"\"\n",
    "# translation_system = \"\"\"You are a translator converting articles into Korean. Translate the text accurately while maintaining the original tone and style.\"\"\"\n",
    "\n",
    "# 프롬프트 생성\n",
    "translation_prompt = ChatPromptTemplate.from_messages(\n",
    "    [(\"system\", translation_system), (\"human\", \"Article to translate:\\n\\n {article}\")]\n",
    ")\n",
    "\n",
    "# LLM 체인 생성\n",
    "translator = translation_prompt | llm_translation\n",
    "\n",
    "result = translator.invoke(\n",
    "    {\n",
    "        \"article\": \"It has been reported that Messi will transfer from Real Madrid to FC Barcelona.\"\n",
    "    }\n",
    ")\n",
    "print(result)"
   ]
  },
  {
   "cell_type": "markdown",
   "metadata": {},
   "source": [
    "### 확장자\n",
    "- 기사를 200단어 이상으로 확장.\n",
    "- 짧은 기사를 더 길게 작성"
   ]
  },
  {
   "cell_type": "code",
   "execution_count": null,
   "metadata": {},
   "outputs": [],
   "source": [
    "# 기사 확장 LLM - 200자 이상을 재 작성\n",
    "llm_expansion = Get_LLM()\n",
    "\n",
    "# 시스템 프롬프트:\n",
    "# 당신은 주어진 기사를 최소 200단어로 확장하되, 관련성, 일관성, 원래의 어조를 유지해야 하는 작가입니다.\n",
    "expansion_system = \"\"\"You are a writer tasked with expanding the given article to at least 200 words while maintaining relevance, coherence, and the original tone.\"\"\"\n",
    "\n",
    "# 프롬프트 생성\n",
    "expansion_prompt = ChatPromptTemplate.from_messages(\n",
    "    [(\"system\", expansion_system), (\"human\", \"Original article:\\n\\n {article}\")]\n",
    ")\n",
    "\n",
    "# LLM 체인 생성\n",
    "expander = expansion_prompt | llm_expansion\n",
    "\n",
    "# 메시가 레알 마드리드에서 FC 바르셀로나로 이적할 것이라는 보도가 있었습니다.\n",
    "# article_content = \"Lionel Messi is reportedly considering a move from Real Madrid to FC Barcelona next season.\"\n",
    "article_content = \"라이오넬 메시가 레알 마드리드에서 FC 바르셀로나로 이적할 것이라는 보도가 있었습니다.\"\n",
    "result = expander.invoke({\"article\": article_content})\n",
    "print(result)"
   ]
  },
  {
   "cell_type": "markdown",
   "metadata": {},
   "source": [
    "## 워크플로우 통합"
   ]
  },
  {
   "cell_type": "markdown",
   "metadata": {},
   "source": [
    "### 상태 정의\n",
    "- 기사 평가 상태만을 가진 단순한 타입"
   ]
  },
  {
   "cell_type": "code",
   "execution_count": null,
   "metadata": {},
   "outputs": [],
   "source": [
    "from langgraph.graph import StateGraph, END\n",
    "from typing import TypedDict, Literal\n",
    "\n",
    "# 상태 저장 클래스\n",
    "class AgentState(TypedDict):\n",
    "    article_state: str # 기사 심사/평가 상태"
   ]
  },
  {
   "cell_type": "markdown",
   "metadata": {},
   "source": [
    "### 노드 정의"
   ]
  },
  {
   "cell_type": "markdown",
   "metadata": {},
   "source": [
    "- 데스크 - 축구 이적 관련 기사 관련성 여부 결과 반환"
   ]
  },
  {
   "cell_type": "code",
   "execution_count": null,
   "metadata": {},
   "outputs": [],
   "source": [
    "# 기사가 축구 이적 관련 기사인지 관련성 평가를 담당하는 node 함수\n",
    "def get_transfer_news_grade(state: AgentState) -> AgentState:\n",
    "    print(f\"get_transfer_news_grade: Current state: {state}\")\n",
    "    print(\"Evaluator: Reading article but doing nothing to change it...\")\n",
    "    return state"
   ]
  },
  {
   "cell_type": "markdown",
   "metadata": {},
   "source": [
    "- 편집자 - 기사 게시 여부 적절성 평가 결과 반환 "
   ]
  },
  {
   "cell_type": "code",
   "execution_count": null,
   "metadata": {},
   "outputs": [],
   "source": [
    "# 뉴스 기사 심사/평가 담당 node 함수\n",
    "def evaluate_article(state: AgentState) -> AgentState:\n",
    "    print(f\"evaluate_article: Current state: {state}\")\n",
    "    print(\"News : Reading article but doing nothing to change it...\")\n",
    "    return state"
   ]
  },
  {
   "cell_type": "markdown",
   "metadata": {},
   "source": [
    "- 번역자 - 기사 내용을 한국어로 번역"
   ]
  },
  {
   "cell_type": "code",
   "execution_count": null,
   "metadata": {},
   "outputs": [],
   "source": [
    "# 뉴스 기사 한국어 번역 node 함수\n",
    "def translate_article(state: AgentState) -> AgentState:\n",
    "    print(f\"translate_article: Current state: {state}\")\n",
    "    article = state[\"article_state\"]\n",
    "    result = translator.invoke({\"article\": article}) # LLM 번역\n",
    "    state[\"article_state\"] = result.content\n",
    "    return state"
   ]
  },
  {
   "cell_type": "markdown",
   "metadata": {},
   "source": [
    "- 확장자 - 기사 내용을 200단어 이상으로 재 작성"
   ]
  },
  {
   "cell_type": "code",
   "execution_count": null,
   "metadata": {},
   "outputs": [],
   "source": [
    "# 뉴스 기사 최소 200자로 작성 node 함수\n",
    "def expand_article(state: AgentState) -> AgentState:\n",
    "    print(f\"expand_article: Current state: {state}\")\n",
    "    article = state[\"article_state\"]\n",
    "    result = expander.invoke({\"article\": article}) # LLM 200자 이상으로 재 작성\n",
    "    state[\"article_state\"] = result.content\n",
    "    return state"
   ]
  },
  {
   "cell_type": "markdown",
   "metadata": {},
   "source": [
    "- 게시자 - 기사 게시 승인"
   ]
  },
  {
   "cell_type": "code",
   "execution_count": null,
   "metadata": {},
   "outputs": [],
   "source": [
    "# 뉴스 기사 게시 승인 node 함수\n",
    "def publisher(state: AgentState) -> AgentState:\n",
    "    print(f\"publisher: Current state: {state}\")\n",
    "    print(\"FINAL_STATE in publisher:\", state)\n",
    "    return state"
   ]
  },
  {
   "cell_type": "markdown",
   "metadata": {},
   "source": [
    "### 조건부 경로 설정"
   ]
  },
  {
   "cell_type": "markdown",
   "metadata": {},
   "source": [
    "데스크 라우터\n",
    "- 기사가 관련 있는 경우 편집자 노드로, 그렇지 않으면 종료 노드로 분기"
   ]
  },
  {
   "cell_type": "code",
   "execution_count": null,
   "metadata": {},
   "outputs": [],
   "source": [
    "# 축구 이적관련 뉴스 기사 여부 심사 node 함수\n",
    "def evaluator_router(state: AgentState) -> Literal[\"editor\", \"not_relevant\"]:\n",
    "    article = state[\"article_state\"]\n",
    "    evaluator = grade_prompt | structured_llm_grader\n",
    "    result = evaluator.invoke({\"article\": article}) # 축구 이적 기사 내용 관련성 체크\n",
    "    print(f\"evaluator_router: Current state: {state}\")\n",
    "    print(\"Evaluator result: \", result)\n",
    "    if result.binary_score == 'yes': # 축구 이적 기사가 맞음\n",
    "        return \"editor\"\n",
    "    else:\n",
    "        return \"not_relevant\" # 축구 이적 기사가 아님"
   ]
  },
  {
   "cell_type": "markdown",
   "metadata": {},
   "source": [
    "편집자 라우터\n",
    "- 게시 가능 여부에 따라 번역자, 확장자 또는 게시자로 분기"
   ]
  },
  {
   "cell_type": "code",
   "execution_count": null,
   "metadata": {},
   "outputs": [],
   "source": [
    "# 기사 내용이 게시 기준에 맞는지 여부 평가 node 함수\n",
    "def editor_router(state: AgentState) -> Literal[\"translator\", \"publisher\", \"expander\"]:\n",
    "    article = state[\"article_state\"]\n",
    "    result = editor.invoke({\"article\": article})\n",
    "    print(f\"editor_router: Current state: {state}\")\n",
    "    print(\"News chef result: \", result)\n",
    "    if result.can_be_posted == 'yes': # 기사 게시 ok\n",
    "        return \"publisher\"\n",
    "    elif result.is_language_korean == 'yes': # 기사가 한국어로 되어 있음\n",
    "        if result.meets_word_count == 'no' or result.is_sensationalistic == 'no': # 기사가 200자 이상이 아니거나, 선정적이지 않은 경우\n",
    "            return \"expander\"\n",
    "    return \"translator\" # 기사가 한국어가 아님"
   ]
  },
  {
   "cell_type": "markdown",
   "metadata": {},
   "source": [
    "### Node 생성 및 Edge 연결\n",
    "- 번역자와 확장자는 항상 편집자로 라우팅"
   ]
  },
  {
   "cell_type": "markdown",
   "metadata": {},
   "source": [
    "Node 생성"
   ]
  },
  {
   "cell_type": "code",
   "execution_count": null,
   "metadata": {},
   "outputs": [],
   "source": [
    "# graph 객체 생성\n",
    "workflow = StateGraph(AgentState)\n",
    "\n",
    "# graph node 생성\n",
    "workflow.add_node(\"evaluator_node\", get_transfer_news_grade) # 축구 이적 기사 관련성 여부 심사 node\n",
    "workflow.add_node(\"editor_node\", evaluate_article) # 기사 게시 적정성 평가 node\n",
    "workflow.add_node(\"translator_node\", translate_article) # 기사 내용을 한국어로 번역하는 node\n",
    "workflow.add_node(\"expander_node\", expand_article) # 기사 내용을 최소 200자로 작성하는 node\n",
    "workflow.add_node(\"publisher_node\", publisher) # 기사 게시 승인 node"
   ]
  },
  {
   "cell_type": "markdown",
   "metadata": {},
   "source": [
    "Edge 연결"
   ]
  },
  {
   "cell_type": "code",
   "execution_count": null,
   "metadata": {},
   "outputs": [],
   "source": [
    "# 축구 이적 기사 관련성 여부 체크 및 분기 edge\n",
    "workflow.add_conditional_edges(\n",
    "    \"evaluator_node\",\n",
    "    evaluator_router, # 기사 관련성 심사 함수\n",
    "    {\n",
    "        \"editor\":\"editor_node\", # 기사 게시 적정성 평가 node로 분기\n",
    "        \"not_relevant\": END # 기사 관련성 없음 - 종료로 분기\n",
    "    }\n",
    ")\n",
    "\n",
    "# 기사 내용 심사/평가 결과 체크 및 분기 edge\n",
    "workflow.add_conditional_edges(\n",
    "    \"editor_node\",\n",
    "    editor_router, # 기사 내용 심사/평가 함수\n",
    "    {\n",
    "        \"translator\": \"translator_node\", # 기사 내용 한국어 번역 node로 분기\n",
    "        \"publisher\":\"publisher_node\", # 게시 승인 node로 분기\n",
    "        \"expander\": \"expander_node\" # 기사 내용 최소 200자 작성 node로 분기\n",
    "    }\n",
    ")\n",
    "\n",
    "# graph edge 생성\n",
    "workflow.add_edge(\"translator_node\",\"editor_node\") # 기사 번역 -> 기사 내용 심사\n",
    "workflow.add_edge(\"expander_node\",\"editor_node\") # 기사 200자 작성 -> 기사 내용 심사\n",
    "workflow.add_edge(\"publisher_node\",END) # 기사 게시 승인 -> 종료"
   ]
  },
  {
   "cell_type": "markdown",
   "metadata": {},
   "source": [
    "컴파일"
   ]
  },
  {
   "cell_type": "code",
   "execution_count": null,
   "metadata": {},
   "outputs": [],
   "source": [
    "workflow.set_entry_point(\"evaluator_node\") # 시작 node - 데스크\n",
    "\n",
    "# graph 컴파일\n",
    "app = workflow.compile()"
   ]
  },
  {
   "cell_type": "markdown",
   "metadata": {},
   "source": [
    "시각화"
   ]
  },
  {
   "cell_type": "code",
   "execution_count": null,
   "metadata": {},
   "outputs": [],
   "source": [
    "from IPython.display import Image, display\n",
    "\n",
    "try:\n",
    "    display(Image(app.get_graph(xray=True).draw_mermaid_png()))\n",
    "except:\n",
    "    pass"
   ]
  },
  {
   "cell_type": "markdown",
   "metadata": {},
   "source": [
    "### 예제 실행"
   ]
  },
  {
   "cell_type": "code",
   "execution_count": null,
   "metadata": {},
   "outputs": [],
   "source": [
    "# 교황이 오늘 스페인을 방문할 것이다. \n",
    "# initial_state = {\"article_state\": \"The Pope will visit Spain today\"}\n",
    "initial_state = {\"article_state\": \"아르헨티나 대표팀은 15일 오전 10시(한국시간) 미국 플로리다 주 마이애미의 하드 록 스타디움에서 남미축구연맹(CONMEBOL) 코파 아메리카 2024 결승전에서 콜롬비아 대표팀과 연장전까지 가는 혈투 끝에 1-0으로 승리했다.\"}\n",
    "result = app.invoke(initial_state)\n",
    "\n",
    "print(\"Final result:\", result)"
   ]
  },
  {
   "cell_type": "code",
   "execution_count": null,
   "metadata": {},
   "outputs": [],
   "source": [
    "initial_state = {\"article_state\": \"Messi gonna switch from barca to real madrid\"}\n",
    "# initial_state = {\"article_state\": \"영국 매체 '풋볼 365'는 AI(인공지능)가 예측한 여름 이적시장 결과를 짚으며 손흥민이 스페인 프로축구 프리메라리가 아틀레티코 마드리드로 향할 수 있다는 가능성을 조명했다.\"}\n",
    "result = app.invoke(initial_state)\n",
    "\n",
    "print(\"Final result:\", result)"
   ]
  }
 ],
 "metadata": {
  "kernelspec": {
   "display_name": "azure_analy",
   "language": "python",
   "name": "python3"
  },
  "language_info": {
   "codemirror_mode": {
    "name": "ipython",
    "version": 3
   },
   "file_extension": ".py",
   "mimetype": "text/x-python",
   "name": "python",
   "nbconvert_exporter": "python",
   "pygments_lexer": "ipython3",
   "version": "3.12.4"
  }
 },
 "nbformat": 4,
 "nbformat_minor": 2
}
