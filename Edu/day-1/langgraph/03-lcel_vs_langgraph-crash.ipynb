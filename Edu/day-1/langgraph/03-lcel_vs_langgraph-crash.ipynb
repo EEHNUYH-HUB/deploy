{
 "cells": [
  {
   "cell_type": "markdown",
   "metadata": {},
   "source": [
    "- https://www.youtube.com/watch?v=_yFfc5YB5Xc\n",
    "- https://github.com/Coding-Crashkurse/LangGraph-Tutorial/blob/main/lcel_vs_langgraph.ipynb"
   ]
  },
  {
   "cell_type": "markdown",
   "metadata": {},
   "source": [
    "# LangGraph vs. LangChain LCEL - LCEL (LangChain Expression Language)를 대체할 수 있을까?"
   ]
  },
  {
   "cell_type": "markdown",
   "metadata": {},
   "source": [
    "### LangGraph와 LCEL 소개\n",
    "- LangGraph와 LangChain Expression Language(LCEL)를 비교하고, LCEL을 대체할 수 있는지 논의합니다.\n",
    "- LCEL의 파이프 문법에 어려움을 겪는 사용자가 많다는 점을 고려하여, LangGraph가 더 나은 대안이 될 수 있는지 살펴봅니다."
   ]
  },
  {
   "cell_type": "markdown",
   "metadata": {},
   "source": [
    "### 파이프라인 구성 비교\n",
    "- 데이터 임베딩, 벡터 저장소에서의 쿼리, 결과를 LLM(언어 모델)에 전달하여 최종 응답을 얻는 기본 파이프라인을 LCEL과 LangGraph로 각각 구현하는 과정을 시연합니다.\n",
    "- 코드 예제를 통해 두 접근 방식의 차이점을 명확히 합니다."
   ]
  },
  {
   "cell_type": "code",
   "execution_count": 1,
   "metadata": {},
   "outputs": [
    {
     "data": {
      "text/plain": [
       "True"
      ]
     },
     "execution_count": 1,
     "metadata": {},
     "output_type": "execute_result"
    }
   ],
   "source": [
    "from dotenv import load_dotenv\n",
    "\n",
    "load_dotenv()"
   ]
  },
  {
   "cell_type": "code",
   "execution_count": 2,
   "metadata": {},
   "outputs": [],
   "source": [
    "from langchain.schema import Document\n",
    "from langchain_openai import AzureOpenAIEmbeddings\n",
    "from langchain_community.vectorstores import Chroma\n",
    "from langchain_core.runnables import RunnablePassthrough\n",
    "from langchain_core.output_parsers import StrOutputParser\n",
    "from langchain_openai import AzureChatOpenAI\n",
    "from langchain_core.prompts import ChatPromptTemplate\n",
    "import os\n",
    "\n",
    "# 임베딩 객체 생성 함수\n",
    "def Get_Embedding():\n",
    "    os.environ[\"AZURE_OPENAI_API_KEY\"] = \"5acedf2738034ef4be0cd6f075a8e4a3\"\n",
    "    os.environ[\"AZURE_OPENAI_ENDPOINT\"] = \"https://aoaibhkim2.openai.azure.com/\"\n",
    "    embedding_function = AzureOpenAIEmbeddings(\n",
    "            azure_deployment=\"txt-embed-ada-002-au\",\n",
    "            openai_api_version=\"2024-03-01-preview\",\n",
    "        )\n",
    "    return embedding_function\n",
    "\n",
    "# LLM 객체 생성\n",
    "def Get_LLM():\n",
    "  os.environ[\"AZURE_OPENAI_API_KEY\"] = '352a6bee97b5451ab5866993a7ef4ce4'\n",
    "  os.environ[\"AZURE_OPENAI_ENDPOINT\"] = 'https://aoai-spn-krc.openai.azure.com/'\n",
    "\n",
    "  model = AzureChatOpenAI(  \n",
    "    api_version = '2024-02-01',\n",
    "    azure_deployment = 'gpt-4o-kr-spn',\n",
    "    temperature = 0.0\n",
    "  )\n",
    "  return model\n",
    "\n",
    "# 샘플 문서 생성\n",
    "docs = [\n",
    "    Document(\n",
    "        page_content=\"개는 피자를 먹는 것을 좋아합니다.\", metadata={\"source\": \"animal.txt\"}\n",
    "    ),\n",
    "    Document(\n",
    "        page_content=\"고양이는 생선을 먹는 것을 좋아합니다.\", metadata={\"source\": \"animal.txt\"}\n",
    "    ),\n",
    "]\n",
    "\n",
    "# chroma 벡터 DB에 저장\n",
    "db = Chroma.from_documents(docs, Get_Embedding())\n",
    "\n",
    "# 검색기 생성, 검색결과는 상위 2개 반환\n",
    "retriever = db.as_retriever(search_kwargs={\"k\": 2})\n",
    "\n",
    "# 문서 조합 함수\n",
    "def format_docs(docs):\n",
    "    return \"\\n\\n\".join(doc.page_content for doc in docs)\n",
    "\n",
    "# 프롬프트 생성 - 다음 맥락을 기반으로만 질문에 답하십시오.\n",
    "template = \"\"\"Answer the question based only on the following context:\n",
    "{context}\n",
    "\n",
    "Question: {question}\n",
    "\"\"\"\n",
    "prompt = ChatPromptTemplate.from_template(template)\n",
    "model = Get_LLM()"
   ]
  },
  {
   "cell_type": "markdown",
   "metadata": {},
   "source": [
    "## LCEL"
   ]
  },
  {
   "cell_type": "code",
   "execution_count": 3,
   "metadata": {},
   "outputs": [],
   "source": [
    "# LCEL RAG 검색 체인 생성\n",
    "retriever_chain = (\n",
    "    {\"context\": retriever | format_docs, \"question\": RunnablePassthrough()}\n",
    "    | prompt\n",
    "    | model\n",
    "    | StrOutputParser()\n",
    ")"
   ]
  },
  {
   "cell_type": "code",
   "execution_count": 4,
   "metadata": {},
   "outputs": [
    {
     "data": {
      "text/plain": [
       "'고양이는 생선을 먹는 것을 좋아합니다.'"
      ]
     },
     "execution_count": 4,
     "metadata": {},
     "output_type": "execute_result"
    }
   ],
   "source": [
    "# 체인 실행\n",
    "retriever_chain.invoke(\"고양이는 어떤 음식을 좋아하나요?\")"
   ]
  },
  {
   "cell_type": "markdown",
   "metadata": {},
   "source": [
    "## LangGraph"
   ]
  },
  {
   "cell_type": "code",
   "execution_count": 5,
   "metadata": {},
   "outputs": [],
   "source": [
    "from typing import TypedDict\n",
    "from langchain_core.messages import BaseMessage\n",
    "\n",
    "# LLM 체인 생성\n",
    "chain_with_prompt = prompt | model | StrOutputParser()"
   ]
  },
  {
   "cell_type": "code",
   "execution_count": 6,
   "metadata": {},
   "outputs": [],
   "source": [
    "# node 상태 저장 클래스\n",
    "class AgentState(TypedDict):\n",
    "    question: str # 사용자 질의\n",
    "    raw_docs: list[BaseMessage] # RAG 검색 결과\n",
    "    formatted_docs: list[str] # RAG 검색 결과를 조합한 문서\n",
    "    generation: str # LLM 답변"
   ]
  },
  {
   "cell_type": "code",
   "execution_count": 7,
   "metadata": {},
   "outputs": [],
   "source": [
    "# RAG 문서 검색 node 함수\n",
    "def get_docs(state: AgentState):\n",
    "    print(\"get_docs:\", state)\n",
    "    question = state[\"question\"] # 사용자 질의\n",
    "    docs = retriever.invoke(question) # 벡터 DB 검색    \n",
    "    state[\"raw_docs\"] = docs # 검색 결과 저장\n",
    "    return state\n",
    "\n",
    "# RAG 검색 결과를 조합하는 node 함수\n",
    "def format_docs(state: AgentState):\n",
    "    print(\"formating_docs:\", state)\n",
    "    documents = state[\"raw_docs\"] # 검색 결과\n",
    "    state[\"formatted_docs\"] = \"\\n\\n\".join(doc.page_content for doc in documents) # 검색 문서 조합\n",
    "    return state\n",
    "\n",
    "# LLM 질의 node 함수\n",
    "def generate(state: AgentState):\n",
    "    print(\"generate:\", state)\n",
    "    question = state[\"question\"] # 사용자 질의\n",
    "    formatted_docs = state[\"formatted_docs\"] # 조합된 검색 결과\n",
    "    result = chain_with_prompt.invoke({\"question\": question, \"context\": formatted_docs}) # LLM 체인 호출\n",
    "    state[\"generation\"] = result # LLM 답변\n",
    "    return state"
   ]
  },
  {
   "cell_type": "code",
   "execution_count": 8,
   "metadata": {},
   "outputs": [],
   "source": [
    "from langgraph.graph import StateGraph, END\n",
    "\n",
    "# 상태 Graph 객체 생성\n",
    "workflow = StateGraph(AgentState)\n",
    "\n",
    "# node 생성\n",
    "workflow.add_node(\"get_docs_node\", get_docs)\n",
    "workflow.add_node(\"format_docs_node\", format_docs)\n",
    "workflow.add_node(\"generate_node\", generate)\n",
    "\n",
    "# edge 연결\n",
    "workflow.add_edge(\"get_docs_node\", \"format_docs_node\")\n",
    "workflow.add_edge(\"format_docs_node\", \"generate_node\")\n",
    "workflow.add_edge(\"generate_node\", END)\n",
    "\n",
    "# 시작 node 설정\n",
    "workflow.set_entry_point(\"get_docs_node\")\n",
    "\n",
    "# graph 컴파일\n",
    "app = workflow.compile()"
   ]
  },
  {
   "cell_type": "code",
   "execution_count": 9,
   "metadata": {},
   "outputs": [
    {
     "data": {
      "image/jpeg": "[encoded data removed]",
      "text/plain": [
       "<IPython.core.display.Image object>"
      ]
     },
     "metadata": {},
     "output_type": "display_data"
    }
   ],
   "source": [
    "# 시각화\n",
    "from IPython.display import Image, display\n",
    "\n",
    "try:\n",
    "    display(Image(app.get_graph(xray=True).draw_mermaid_png()))\n",
    "except:\n",
    "    pass"
   ]
  },
  {
   "cell_type": "code",
   "execution_count": 10,
   "metadata": {},
   "outputs": [
    {
     "name": "stdout",
     "output_type": "stream",
     "text": [
      "get_docs: {'question': '고양이는 어떤 음식을 좋아하나요?', 'raw_docs': None, 'formatted_docs': None, 'generation': None}\n",
      "formating_docs: {'question': '고양이는 어떤 음식을 좋아하나요?', 'raw_docs': [Document(page_content='고양이는 생선을 먹는 것을 좋아합니다.', metadata={'source': 'animal.txt'}), Document(page_content='개는 피자를 먹는 것을 좋아합니다.', metadata={'source': 'animal.txt'})], 'formatted_docs': None, 'generation': None}\n",
      "generate: {'question': '고양이는 어떤 음식을 좋아하나요?', 'raw_docs': [Document(page_content='고양이는 생선을 먹는 것을 좋아합니다.', metadata={'source': 'animal.txt'}), Document(page_content='개는 피자를 먹는 것을 좋아합니다.', metadata={'source': 'animal.txt'})], 'formatted_docs': '고양이는 생선을 먹는 것을 좋아합니다.\\n\\n개는 피자를 먹는 것을 좋아합니다.', 'generation': None}\n"
     ]
    },
    {
     "data": {
      "text/plain": [
       "{'question': '고양이는 어떤 음식을 좋아하나요?',\n",
       " 'raw_docs': [Document(page_content='고양이는 생선을 먹는 것을 좋아합니다.', metadata={'source': 'animal.txt'}),\n",
       "  Document(page_content='개는 피자를 먹는 것을 좋아합니다.', metadata={'source': 'animal.txt'})],\n",
       " 'formatted_docs': '고양이는 생선을 먹는 것을 좋아합니다.\\n\\n개는 피자를 먹는 것을 좋아합니다.',\n",
       " 'generation': '고양이는 생선을 먹는 것을 좋아합니다.'}"
      ]
     },
     "execution_count": 10,
     "metadata": {},
     "output_type": "execute_result"
    }
   ],
   "source": [
    "# graph 실행\n",
    "result = app.invoke({\"question\": \"고양이는 어떤 음식을 좋아하나요?\"})\n",
    "result"
   ]
  },
  {
   "cell_type": "code",
   "execution_count": 11,
   "metadata": {},
   "outputs": [
    {
     "data": {
      "text/plain": [
       "'고양이는 생선을 먹는 것을 좋아합니다.'"
      ]
     },
     "execution_count": 11,
     "metadata": {},
     "output_type": "execute_result"
    }
   ],
   "source": [
    "result[\"generation\"]"
   ]
  },
  {
   "cell_type": "markdown",
   "metadata": {},
   "source": [
    "### LangGraph의 장점\n",
    "- LangGraph는 데이터를 중앙 에이전트 상태에 저장하여 모든 단계를 모듈화하고 디버깅과 유닛 테스트가 용이합니다.\n",
    "- 반면 LCEL은 복잡하고 유연성이 떨어지는 파이프라인을 사용합니다."
   ]
  },
  {
   "cell_type": "markdown",
   "metadata": {},
   "source": [
    "### 사용 권장 사항\n",
    "- LangChain 팀은 DAG(Directed Acyclic Graph) 워크플로우에는 LCEL을, 순환이 있는 복잡한 워크플로우에는 LangGraph를 사용할 것을 권장합니다.\n",
    "- 예시 파이프라인은 DAG 워크플로우이므로 LCEL이 적합하지만, LangGraph의 유연성과 디버깅 용이성 때문에 더 복잡한 작업에는 LangGraph를 추천합니다."
   ]
  }
 ],
 "metadata": {
  "kernelspec": {
   "display_name": "azure_analy",
   "language": "python",
   "name": "python3"
  },
  "language_info": {
   "codemirror_mode": {
    "name": "ipython",
    "version": 3
   },
   "file_extension": ".py",
   "mimetype": "text/x-python",
   "name": "python",
   "nbconvert_exporter": "python",
   "pygments_lexer": "ipython3",
   "version": "3.12.4"
  }
 },
 "nbformat": 4,
 "nbformat_minor": 2
}
