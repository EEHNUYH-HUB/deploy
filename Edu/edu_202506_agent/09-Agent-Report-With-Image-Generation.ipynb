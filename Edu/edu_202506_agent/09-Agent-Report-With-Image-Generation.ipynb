{
 "cells": [
  {
   "cell_type": "markdown",
   "metadata": {},
   "source": [
    "# RAG + Image Generator Agent(보고서 작성)\n",
    "\n",
    "이번 튜토리얼에서는 웹 검색(Web Search), PDF 문서 기반 검색(RAG), 이미지 생성(Image Generation) 등을 통해 보고서를 작성하는 에이전트를 만들어 보겠습니다.\n",
    "\n",
    "**참고**\n",
    "\n",
    "- [Agent Toolkits](https://api.python.langchain.com/en/latest/community/agent_toolkits.html)\n",
    "\n",
    "- [Tools](https://python.langchain.com/docs/integrations/tools/)"
   ]
  },
  {
   "cell_type": "markdown",
   "metadata": {},
   "source": [
    "**`DallEAPIWrapper` 에 대한 임시 버그 안내사항** (작성일: 2024-10-13)\n",
    "\n",
    "- 현재 langchain 0.3.x 이상 버전에서 `DallEAPIWrapper` 에 대한 임시 버그가 있습니다. (`401 오류: invalid API key`)\n",
    "\n",
    "따라서, 아래의 코드를 오류 없이 실행하기 위해서는 LangChain 버전을 0.2.16 으로 변경해야 합니다.\n",
    "\n",
    "아래의 주석을 해제하고 실행하면 LangChain 버전을 0.2.16 으로 변경됩니다.\n",
    "\n",
    "하지만, 이후 내용에서는 LangChain 버전을 0.3.x 이상으로 변경하여 사용하기 때문에\n",
    "\n",
    "`poetry shell` 명령어를 통해 다시 최신 langchain 버전으로 변경해야 합니다.\n",
    "\n",
    "이 과정이 번거로운 분들은 일단 `DallEAPIWrapper` 를 사용하지 않고 진행하셔도 무방합니다.\n",
    "\n",
    "**업그레이드/다운그레이드** 후에는 반드시 상단 메뉴의 \"Restart\" 버튼을 클릭한 뒤 진행해야 합니다."
   ]
  },
  {
   "cell_type": "code",
   "execution_count": 1,
   "metadata": {},
   "outputs": [],
   "source": [
    "# 임시 버전 다운그레이드 명령어 (실행 후 restart)\n",
    "# !pip install langchain==0.2.16 langchain-community==0.2.16 langchain-text-splitters==0.2.4 langchain-experimental==0.0.65 langchain-openai==0.1.20"
   ]
  },
  {
   "cell_type": "code",
   "execution_count": 2,
   "metadata": {},
   "outputs": [
    {
     "data": {
      "text/plain": [
       "True"
      ]
     },
     "execution_count": 2,
     "metadata": {},
     "output_type": "execute_result"
    }
   ],
   "source": [
    "# API 키를 환경변수로 관리하기 위한 설정 파일\n",
    "from dotenv import load_dotenv\n",
    "\n",
    "# API 키 정보 로드\n",
    "load_dotenv()"
   ]
  },
  {
   "cell_type": "code",
   "execution_count": 3,
   "metadata": {},
   "outputs": [],
   "source": [
    "# LangSmith 추적을 설정합니다. https://smith.langchain.com\n",
    "# !pip install -qU langchain-teddynote\n",
    "# from langchain_teddynote import logging\n",
    "\n",
    "# 프로젝트 이름을 입력합니다.\n",
    "# logging.langsmith(\"CH15-Agent-Projects\")"
   ]
  },
  {
   "cell_type": "markdown",
   "metadata": {},
   "source": [
    "## 도구 정의\n",
    "\n",
    "### 웹 검색도구: Tavily Search\n",
    "\n",
    "LangChain에는 Tavily 검색 엔진을 도구로 쉽게 사용할 수 있는 내장 도구가 있습니다.\n",
    "\n",
    "Tavily Search 를 사용하기 위해서는 API KEY를 발급 받아야 합니다.\n",
    "\n",
    "- [Tavily Search API 발급받기](https://app.tavily.com/sign-in)\n",
    "\n",
    "발급 받은 API KEY 를 다음과 같이 환경변수에 등록 합니다.\n",
    "\n",
    "`.env` 파일에 다음과 같이 등록합니다.\n",
    "\n",
    "- `TAVILY_API_KEY=발급 받은 Tavily API KEY 입력`"
   ]
  },
  {
   "cell_type": "code",
   "execution_count": 4,
   "metadata": {},
   "outputs": [],
   "source": [
    "from langchain_community.tools.tavily_search import TavilySearchResults\n",
    "\n",
    "# TavilySearchResults 클래스의 인스턴스를 생성합니다\n",
    "# k=6은 검색 결과를 6개까지 가져오겠다는 의미입니다\n",
    "search = TavilySearchResults(k=6)"
   ]
  },
  {
   "cell_type": "markdown",
   "metadata": {},
   "source": [
    "### 문서 기반 문서 검색 도구: Retriever\n",
    "\n",
    "우리의 데이터에 대해 조회를 수행할 retriever도 생성합니다.\n",
    "\n",
    "**실습에 활용한 문서**\n",
    "\n",
    "소프트웨어정책연구소(SPRi) - 2023년 12월호\n",
    "\n",
    "- 저자: 유재흥(AI정책연구실 책임연구원), 이지수(AI정책연구실 위촉연구원)\n",
    "- 링크: https://spri.kr/posts/view/23669\n",
    "- 파일명: `SPRI_AI_Brief_2023년12월호_F.pdf`\n",
    "\n",
    "_실습을 위해 다운로드 받은 파일을 `data` 폴더로 복사해 주시기 바랍니다_\n"
   ]
  },
  {
   "cell_type": "markdown",
   "metadata": {},
   "source": [
    "다음은 retriever 를 생성하고, 생성한 retriever 를 기반으로 도구를 생성합니다.\n",
    "\n",
    "먼저, 문서를 로드하고, 분할한 뒤 retriever 를 생성합니다."
   ]
  },
  {
   "cell_type": "code",
   "execution_count": 5,
   "metadata": {},
   "outputs": [
    {
     "ename": "ImportError",
     "evalue": "`PyMuPDF` package not found, please install it with `pip install pymupdf`",
     "output_type": "error",
     "traceback": [
      "\u001b[1;31m---------------------------------------------------------------------------\u001b[0m",
      "\u001b[1;31mImportError\u001b[0m                               Traceback (most recent call last)",
      "File \u001b[1;32mc:\\Users\\eehnuyh\\miniconda3\\envs\\8885b517-effe-0089-35f7-905c7f3593eb\\Lib\\site-packages\\langchain_community\\document_loaders\\pdf.py:423\u001b[0m, in \u001b[0;36mPyMuPDFLoader.__init__\u001b[1;34m(self, file_path, headers, extract_images, **kwargs)\u001b[0m\n\u001b[0;32m    422\u001b[0m \u001b[38;5;28;01mtry\u001b[39;00m:\n\u001b[1;32m--> 423\u001b[0m     \u001b[38;5;28;01mimport\u001b[39;00m \u001b[38;5;21;01mfitz\u001b[39;00m  \u001b[38;5;66;03m# noqa:F401\u001b[39;00m\n\u001b[0;32m    424\u001b[0m \u001b[38;5;28;01mexcept\u001b[39;00m \u001b[38;5;167;01mImportError\u001b[39;00m:\n",
      "File \u001b[1;32mc:\\Users\\eehnuyh\\miniconda3\\envs\\8885b517-effe-0089-35f7-905c7f3593eb\\Lib\\site-packages\\fitz\\__init__.py:2\u001b[0m\n\u001b[0;32m      1\u001b[0m \u001b[38;5;66;03m# pylint: disable=wildcard-import,unused-import,unused-wildcard-import\u001b[39;00m\n\u001b[1;32m----> 2\u001b[0m \u001b[38;5;28;01mfrom\u001b[39;00m \u001b[38;5;21;01mpymupdf\u001b[39;00m \u001b[38;5;28;01mimport\u001b[39;00m \u001b[38;5;241m*\u001b[39m\n\u001b[0;32m      3\u001b[0m \u001b[38;5;28;01mfrom\u001b[39;00m \u001b[38;5;21;01mpymupdf\u001b[39;00m \u001b[38;5;28;01mimport\u001b[39;00m _as_fz_document\n",
      "File \u001b[1;32mc:\\Users\\eehnuyh\\miniconda3\\envs\\8885b517-effe-0089-35f7-905c7f3593eb\\Lib\\site-packages\\pymupdf\\__init__.py:30\u001b[0m\n\u001b[0;32m     28\u001b[0m \u001b[38;5;28;01mimport\u001b[39;00m \u001b[38;5;21;01mzipfile\u001b[39;00m\n\u001b[1;32m---> 30\u001b[0m \u001b[38;5;28;01mfrom\u001b[39;00m \u001b[38;5;21;01m.\u001b[39;00m \u001b[38;5;28;01mimport\u001b[39;00m extra\n\u001b[0;32m     33\u001b[0m \u001b[38;5;66;03m# Set up g_out_log and g_out_message from environment variables.\u001b[39;00m\n\u001b[0;32m     34\u001b[0m \u001b[38;5;66;03m#\u001b[39;00m\n\u001b[0;32m     35\u001b[0m \u001b[38;5;66;03m# PYMUPDF_MESSAGE controls the destination of user messages (the `message()`\u001b[39;00m\n\u001b[1;32m   (...)\u001b[0m\n\u001b[0;32m     44\u001b[0m \u001b[38;5;66;03m# stdout.\u001b[39;00m\n\u001b[0;32m     45\u001b[0m \u001b[38;5;66;03m#\u001b[39;00m\n",
      "File \u001b[1;32mc:\\Users\\eehnuyh\\miniconda3\\envs\\8885b517-effe-0089-35f7-905c7f3593eb\\Lib\\site-packages\\pymupdf\\extra.py:10\u001b[0m\n\u001b[0;32m      9\u001b[0m \u001b[38;5;28;01mif\u001b[39;00m __package__ \u001b[38;5;129;01mor\u001b[39;00m \u001b[38;5;124m\"\u001b[39m\u001b[38;5;124m.\u001b[39m\u001b[38;5;124m\"\u001b[39m \u001b[38;5;129;01min\u001b[39;00m \u001b[38;5;18m__name__\u001b[39m:\n\u001b[1;32m---> 10\u001b[0m     \u001b[38;5;28;01mfrom\u001b[39;00m \u001b[38;5;21;01m.\u001b[39;00m \u001b[38;5;28;01mimport\u001b[39;00m _extra\n\u001b[0;32m     11\u001b[0m \u001b[38;5;28;01melse\u001b[39;00m:\n",
      "\u001b[1;31mImportError\u001b[0m: DLL load failed while importing _extra: 지정된 모듈을 찾을 수 없습니다.",
      "\nDuring handling of the above exception, another exception occurred:\n",
      "\u001b[1;31mImportError\u001b[0m                               Traceback (most recent call last)",
      "Cell \u001b[1;32mIn[5], line 8\u001b[0m\n\u001b[0;32m      5\u001b[0m \u001b[38;5;28;01mimport\u001b[39;00m \u001b[38;5;21;01mos\u001b[39;00m\n\u001b[0;32m      7\u001b[0m \u001b[38;5;66;03m# PDF 파일 로드. 파일의 경로 입력\u001b[39;00m\n\u001b[1;32m----> 8\u001b[0m loader \u001b[38;5;241m=\u001b[39m \u001b[43mPyMuPDFLoader\u001b[49m\u001b[43m(\u001b[49m\u001b[38;5;124;43m\"\u001b[39;49m\u001b[38;5;124;43mdata/SPRI_AI_Brief_2023년12월호_F.pdf\u001b[39;49m\u001b[38;5;124;43m\"\u001b[39;49m\u001b[43m)\u001b[49m\n\u001b[0;32m     10\u001b[0m \u001b[38;5;66;03m# 텍스트 분할기를 사용하여 문서를 분할합니다.\u001b[39;00m\n\u001b[0;32m     11\u001b[0m text_splitter \u001b[38;5;241m=\u001b[39m RecursiveCharacterTextSplitter(chunk_size\u001b[38;5;241m=\u001b[39m\u001b[38;5;241m1000\u001b[39m, chunk_overlap\u001b[38;5;241m=\u001b[39m\u001b[38;5;241m100\u001b[39m)\n",
      "File \u001b[1;32mc:\\Users\\eehnuyh\\miniconda3\\envs\\8885b517-effe-0089-35f7-905c7f3593eb\\Lib\\site-packages\\langchain_community\\document_loaders\\pdf.py:425\u001b[0m, in \u001b[0;36mPyMuPDFLoader.__init__\u001b[1;34m(self, file_path, headers, extract_images, **kwargs)\u001b[0m\n\u001b[0;32m    423\u001b[0m     \u001b[38;5;28;01mimport\u001b[39;00m \u001b[38;5;21;01mfitz\u001b[39;00m  \u001b[38;5;66;03m# noqa:F401\u001b[39;00m\n\u001b[0;32m    424\u001b[0m \u001b[38;5;28;01mexcept\u001b[39;00m \u001b[38;5;167;01mImportError\u001b[39;00m:\n\u001b[1;32m--> 425\u001b[0m     \u001b[38;5;28;01mraise\u001b[39;00m \u001b[38;5;167;01mImportError\u001b[39;00m(\n\u001b[0;32m    426\u001b[0m         \u001b[38;5;124m\"\u001b[39m\u001b[38;5;124m`PyMuPDF` package not found, please install it with \u001b[39m\u001b[38;5;124m\"\u001b[39m\n\u001b[0;32m    427\u001b[0m         \u001b[38;5;124m\"\u001b[39m\u001b[38;5;124m`pip install pymupdf`\u001b[39m\u001b[38;5;124m\"\u001b[39m\n\u001b[0;32m    428\u001b[0m     )\n\u001b[0;32m    429\u001b[0m \u001b[38;5;28msuper\u001b[39m()\u001b[38;5;241m.\u001b[39m\u001b[38;5;21m__init__\u001b[39m(file_path, headers\u001b[38;5;241m=\u001b[39mheaders)\n\u001b[0;32m    430\u001b[0m \u001b[38;5;28mself\u001b[39m\u001b[38;5;241m.\u001b[39mextract_images \u001b[38;5;241m=\u001b[39m extract_images\n",
      "\u001b[1;31mImportError\u001b[0m: `PyMuPDF` package not found, please install it with `pip install pymupdf`"
     ]
    }
   ],
   "source": [
    "from langchain.text_splitter import RecursiveCharacterTextSplitter\n",
    "from langchain_community.vectorstores import FAISS\n",
    "from langchain_openai import OpenAIEmbeddings, AzureOpenAIEmbeddings\n",
    "from langchain.document_loaders import PyMuPDFLoader\n",
    "import os\n",
    "\n",
    "# PDF 파일 로드. 파일의 경로 입력\n",
    "loader = PyMuPDFLoader(\"data/SPRI_AI_Brief_2023년12월호_F.pdf\")\n",
    "\n",
    "# 텍스트 분할기를 사용하여 문서를 분할합니다.\n",
    "text_splitter = RecursiveCharacterTextSplitter(chunk_size=1000, chunk_overlap=100)\n",
    "\n",
    "# 문서를 로드하고 분할합니다.\n",
    "split_docs = loader.load_and_split(text_splitter)\n",
    "\n",
    "embedding = AzureOpenAIEmbeddings(\n",
    "    api_key=os.getenv(\"AZURE_OPENAI_API_KEY\"), # Azure OpenAI API 키를 환경 변수에서 가져옵니다.\n",
    "    azure_deployment=os.getenv('AZURE_OPENAI_EMBEDDING_DEPLOYMENT_NAME'), # 사용할 Azure 배포 모델을 설정합니다.\n",
    "    openai_api_version=os.getenv('AZURE_OPENAI_API_VERSION'), # OpenAI API 버전을 설정합니다.\n",
    "    azure_endpoint =os.getenv('AZURE_OPENAI_ENDPOINT') # Azure OpenAI 엔드포인트를 환경 변수에서 가져옵니다.\n",
    ")\n",
    "\n",
    "# VectorStore를 생성합니다.\n",
    "vector = FAISS.from_documents(split_docs, embedding)\n",
    "\n",
    "# Retriever를 생성합니다.\n",
    "retriever = vector.as_retriever()"
   ]
  },
  {
   "cell_type": "markdown",
   "metadata": {},
   "source": [
    "다음은 retriever 를 도구로 정의합니다.\n",
    "\n",
    "이때, `document_prompt` 는 문서의 내용을 표시하는 템플릿을 정의합니다.\n",
    "\n",
    "**참고**\n",
    "\n",
    "- 기본 값은 문서의 `page_content` 만 표기합니다. \n",
    "\n",
    "- 따라서, 나중에 문서의 페이지 번호나 출처등을 표시하기 위해서는 템플릿을 따로 정의해야 합니다."
   ]
  },
  {
   "cell_type": "code",
   "execution_count": null,
   "metadata": {},
   "outputs": [],
   "source": [
    "from langchain.tools.retriever import create_retriever_tool\n",
    "from langchain_core.prompts import PromptTemplate\n",
    "\n",
    "# 문서의 내용을 표시하는 템플릿을 정의합니다.\n",
    "document_prompt = PromptTemplate.from_template(\n",
    "    \"<document><content>{page_content}</content><page>{page}</page><filename>{source}</filename></document>\"\n",
    ")\n",
    "\n",
    "# retriever 를 도구로 정의합니다.\n",
    "retriever_tool = create_retriever_tool(\n",
    "    retriever,\n",
    "    name=\"pdf_search\",\n",
    "    description=\"use this tool to search for information in the PDF file\",\n",
    "    document_prompt=document_prompt,\n",
    ")"
   ]
  },
  {
   "cell_type": "code",
   "execution_count": null,
   "metadata": {},
   "outputs": [],
   "source": [
    "print(retriever_tool.invoke(\"삼성전자가 개발한 `생성형 AI` 에 대한 정보를 찾아주세요.\"))\n"
   ]
  },
  {
   "cell_type": "markdown",
   "metadata": {},
   "source": [
    "### DallE 이미지 생성 도구\n",
    "\n",
    "이번에는 Dall-E 이미지 생성 도구를 생성합니다.\n",
    "\n",
    "**주요 속성**\n",
    "\n",
    "- `model`: 사용할 DALL-E 모델 이름 (기본값: \"dall-e-2\", \"dall-e-3\")\n",
    "\n",
    "- `n`: 생성할 이미지 수 (기본값: 1)\n",
    "\n",
    "- `size`: 생성할 이미지 크기\n",
    "  - \"dall-e-2\": \"1024x1024\", \"512x512\", \"256x256\"\n",
    "  - \"dall-e-3\": \"1024x1024\", \"1792x1024\", \"1024x1792\"\n",
    "\n",
    "- `style`: 생성될 이미지의 스타일 (기본값: \"natural\", \"vivid\")\n",
    "\n",
    "- `quality`: 생성될 이미지의 품질 (기본값: \"standard\", \"hd\")\n",
    "\n",
    "- `max_retries`: 생성 시 최대 재시도 횟수"
   ]
  },
  {
   "cell_type": "code",
   "execution_count": null,
   "metadata": {},
   "outputs": [],
   "source": [
    "import os\n",
    "import requests\n",
    "\n",
    "class AzureDallEAPIWrapper:\n",
    "    def __init__(self, api_key=None, endpoint=None, size=\"1024x1024\", style=\"vivid\", quality=\"standard\", n=1):\n",
    "        self.api_key = api_key or os.getenv(\"AZURE_OPENAI_DALLE_3_API_KEY\")\n",
    "        self.endpoint = endpoint or os.getenv(\"AZURE_OPENAI_DALLE_3_ENDPOINT\")\n",
    "        # self.deployment_name = deployment_name or os.getenv(\"AZURE_OPENAI_DALL_E_3_DEPLOYMENT_NAME_AUST\")\n",
    "        # self.api_version = api_version or os.getenv(\"AZURE_OPENAI_API_VERSION_AUST\", \"2024-02-01\")\n",
    "        self.size = size\n",
    "        self.quality = quality\n",
    "        self.n = n\n",
    "        self.style = style\n",
    "\n",
    "        if not all([self.api_key, self.endpoint]):\n",
    "            raise ValueError(\"API key, endpoint must be provided.\")\n",
    "\n",
    "        self.url = f\"{self.endpoint}\"\n",
    "\n",
    "    def run(self, prompt):\n",
    "        headers = {\n",
    "            \"api-key\": self.api_key,\n",
    "            \"Content-Type\": \"application/json\"\n",
    "        }\n",
    "\n",
    "        data = {\n",
    "            \"prompt\": prompt,\n",
    "            \"n\": self.n,\n",
    "            \"size\": self.size,\n",
    "            \"quality\": self.quality,\n",
    "            \"style\": self.style\n",
    "        }\n",
    "\n",
    "        response = requests.post(self.url, headers=headers, json=data)\n",
    "\n",
    "        if response.status_code == 200:\n",
    "            image_url = response.json()[\"data\"][0][\"url\"]\n",
    "            return image_url\n",
    "        else:\n",
    "            raise Exception(f\"Image generation failed: {response.status_code} - {response.text}\")\n"
   ]
  },
  {
   "cell_type": "code",
   "execution_count": null,
   "metadata": {},
   "outputs": [],
   "source": [
    "from langchain_community.utilities.dalle_image_generator import DallEAPIWrapper\n",
    "from langchain.tools import tool\n",
    "\n",
    "# DallE API Wrapper를 생성합니다.\n",
    "# dalle = DallEAPIWrapper(model=\"dall-e-3\", size=\"1024x1024\", quality=\"standard\", n=1)\n",
    "dalle = AzureDallEAPIWrapper()\n",
    "\n",
    "\n",
    "# DallE API Wrapper를 도구로 정의합니다.\n",
    "@tool\n",
    "def dalle_tool(query):\n",
    "    \"\"\"use this tool to generate image from text\"\"\"\n",
    "    return dalle.run(query)"
   ]
  },
  {
   "cell_type": "markdown",
   "metadata": {},
   "source": [
    "### 파일 관리 도구\n",
    "\n",
    "**파일 관리 도구들**\n",
    "\n",
    "- `CopyFileTool`: 파일 복사\n",
    "  \n",
    "- `DeleteFileTool`: 파일 삭제\n",
    "\n",
    "- `FileSearchTool`: 파일 검색\n",
    "\n",
    "- `MoveFileTool`: 파일 이동\n",
    "\n",
    "- `ReadFileTool`: 파일 읽기\n",
    "\n",
    "- `WriteFileTool`: 파일 쓰기\n",
    "\n",
    "- `ListDirectoryTool`: 디렉토리 목록 조회"
   ]
  },
  {
   "cell_type": "code",
   "execution_count": null,
   "metadata": {},
   "outputs": [],
   "source": [
    "from langchain_community.agent_toolkits import FileManagementToolkit\n",
    "\n",
    "# 작업 디렉토리 경로 설정\n",
    "working_directory = \"tmp\"\n",
    "\n",
    "# 파일 관리 도구 생성(파일 쓰기, 읽기, 디렉토리 목록 조회)\n",
    "file_tools = FileManagementToolkit(\n",
    "    root_dir=str(working_directory),\n",
    "    selected_tools=[\"write_file\", \"read_file\", \"list_directory\"],\n",
    ").get_tools()\n",
    "\n",
    "# 생성된 파일 관리 도구 출력\n",
    "file_tools"
   ]
  },
  {
   "cell_type": "markdown",
   "metadata": {},
   "source": [
    "자, 이제 모든 도구를 종합합니다."
   ]
  },
  {
   "cell_type": "code",
   "execution_count": null,
   "metadata": {},
   "outputs": [],
   "source": [
    "tools = file_tools + [\n",
    "    retriever_tool,\n",
    "    search,\n",
    "    dalle_tool,\n",
    "]\n",
    "\n",
    "# 최종 도구 목록 출력\n",
    "tools"
   ]
  },
  {
   "cell_type": "markdown",
   "metadata": {},
   "source": [
    "## Agent 생성"
   ]
  },
  {
   "cell_type": "code",
   "execution_count": null,
   "metadata": {},
   "outputs": [],
   "source": [
    "from langchain_core.prompts import ChatPromptTemplate\n",
    "from langchain_core.runnables.history import RunnableWithMessageHistory\n",
    "from langchain.agents import create_tool_calling_agent, AgentExecutor\n",
    "from langchain_community.chat_message_histories import ChatMessageHistory\n",
    "from langchain_openai import ChatOpenAI, AzureChatOpenAI\n",
    "from langchain_teddynote.messages import AgentStreamParser\n",
    "\n",
    "# session_id 를 저장할 딕셔너리 생성\n",
    "store = {}\n",
    "\n",
    "# 프롬프트 생성\n",
    "# 프롬프트는 에이전트에게 모델이 수행할 작업을 설명하는 텍스트를 제공합니다. (도구의 이름과 역할을 입력)\n",
    "prompt = ChatPromptTemplate.from_messages(\n",
    "    [\n",
    "        (\n",
    "            \"system\",\n",
    "            \"You are a helpful assistant. \"\n",
    "            \"You are a professional researcher. \"\n",
    "            \"You can use the pdf_search tool to search for information in the PDF file. \"\n",
    "            \"You can find further information by using search tool. \"\n",
    "            \"You can use image generation tool to generate image from text. \"\n",
    "            \"Finally, you can use file management tool to save your research result into files.\",\n",
    "        ),\n",
    "        (\"placeholder\", \"{chat_history}\"),\n",
    "        (\"human\", \"{input}\"),\n",
    "        (\"placeholder\", \"{agent_scratchpad}\"),\n",
    "    ]\n",
    ")\n",
    "\n",
    "\n",
    "# LLM 생성\n",
    "llm = AzureChatOpenAI(\n",
    "    api_key = os.getenv(\"AZURE_OPENAI_API_KEY\"), # Azure OpenAI API 키를 환경 변수에서 가져옵니다.\n",
    "    api_version = os.getenv(\"AZURE_OPENAI_API_VERSION\"), # OpenAI API 버전을 설정합니다.\n",
    "    azure_endpoint = os.getenv(\"AZURE_OPENAI_ENDPOINT\"), # Azure OpenAI 엔드포인트를 환경 변수에서 가져옵니다.\n",
    "    model= os.getenv(\"AZURE_OPENAI_DEPLOYMENT_NAME_GPT41_MINI\"), # 사용할 모델을 설정합니다.\n",
    "    # streaming=False, # 스트리밍\n",
    "    temperature=0,\n",
    "    # max_tokens=4096,\n",
    ")\n",
    "\n",
    "# Agent 생성\n",
    "agent = create_tool_calling_agent(llm, tools, prompt)\n",
    "\n",
    "# AgentExecutor 생성\n",
    "agent_executor = AgentExecutor(\n",
    "    agent=agent,\n",
    "    tools=tools,\n",
    "    verbose=False,\n",
    "    handle_parsing_errors=True,\n",
    ")\n",
    "\n",
    "\n",
    "# session_id 를 기반으로 세션 기록을 가져오는 함수\n",
    "def get_session_history(session_ids):\n",
    "    if session_ids not in store:  # session_id 가 store에 없는 경우\n",
    "        # 새로운 ChatMessageHistory 객체를 생성하여 store에 저장\n",
    "        store[session_ids] = ChatMessageHistory()\n",
    "    return store[session_ids]  # 해당 세션 ID에 대한 세션 기록 반환\n",
    "\n",
    "\n",
    "# 채팅 메시지 기록이 추가된 에이전트를 생성합니다.\n",
    "agent_with_chat_history = RunnableWithMessageHistory(\n",
    "    agent_executor,\n",
    "    # 대화 session_id\n",
    "    get_session_history,\n",
    "    # 프롬프트의 질문이 입력되는 key: \"input\"\n",
    "    input_messages_key=\"input\",\n",
    "    # 프롬프트의 메시지가 입력되는 key: \"chat_history\"\n",
    "    history_messages_key=\"chat_history\",\n",
    ")\n",
    "\n",
    "# 스트림 파서 생성\n",
    "agent_stream_parser = AgentStreamParser()"
   ]
  },
  {
   "cell_type": "markdown",
   "metadata": {},
   "source": [
    "자, 이제 에이전트를 실행해 봅시다."
   ]
  },
  {
   "cell_type": "code",
   "execution_count": null,
   "metadata": {},
   "outputs": [],
   "source": [
    "# 에이전트 실행\n",
    "result = agent_with_chat_history.stream(\n",
    "    {\n",
    "        \"input\": \"삼성전자가 개발한 `생성형 AI` 와 관련된 유용한 정보들을 PDF 문서에서 찾아서 bullet point로 정리해 주세요. \"\n",
    "        \"한글로 작성해주세요.\"\n",
    "        \"다음으로는 `report.md` 파일을 새롭게 생성하여 정리한 내용을 저장해주세요. \\n\\n\"\n",
    "        \"#작성방법: \\n\"\n",
    "        \"1. markdown header 2 크기로 적절한 제목을 작성하세요. \\n\"\n",
    "        \"2. 발췌한 PDF 문서의 페이지 번호, 파일명을 기입하세요(예시: page 10, filename.pdf). \\n\"\n",
    "        \"3. 정리된 bullet point를 작성하세요. \\n\"\n",
    "        \"4. 작성이 완료되면 파일을 `report.md` 에 저장하세요. \\n\"\n",
    "        \"5. 마지막으로 저장한 `report.md` 파일을 읽어서 출력해 주세요. \\n\"\n",
    "    },\n",
    "    config={\"configurable\": {\"session_id\": \"abc123\"}},\n",
    ")\n",
    "\n",
    "print(\"Agent 실행 결과:\")\n",
    "for step in result:\n",
    "    agent_stream_parser.process_agent_steps(step)"
   ]
  },
  {
   "cell_type": "markdown",
   "metadata": {},
   "source": [
    "생성된 보고서 파일(`report.md`)의 내용을 확인하면 다음과 같이 출력됩니다."
   ]
  },
  {
   "cell_type": "markdown",
   "metadata": {},
   "source": [
    "![](./assets/report-agent-01.png)"
   ]
  },
  {
   "cell_type": "markdown",
   "metadata": {},
   "source": [
    "다음으로는 웹 검색을 통해 보고서 파일을 업데이트 해 봅시다."
   ]
  },
  {
   "cell_type": "code",
   "execution_count": null,
   "metadata": {},
   "outputs": [],
   "source": [
    "# 웹 검색을 통해 보고서 파일 업데이트\n",
    "result = agent_with_chat_history.stream(\n",
    "    {\n",
    "        \"input\": \"이번에는 삼성전자가 개발한 `생성형 AI` 와 관련된 정보들을 웹 검색하고, 검색한 결과를 정리해 주세요. \"\n",
    "        \"한글로 작성해주세요.\"\n",
    "        \"다음으로는 `report.md` 파일을 열어서 기존의 내용을 읽고, 웹 검색하여 찾은 정보를 이전에 작성한 형식에 맞춰 뒷 부분에 추가해 주세요. \\n\\n\"\n",
    "        \"#작성방법: \\n\"\n",
    "        \"1. markdown header 2 크기로 적절한 제목을 작성하세요. \\n\"\n",
    "        \"2. 정보의 출처(url)를 기입하세요(예시: 출처: 네이버 지식백과). \\n\"\n",
    "        \"3. 정리된 웹검색 내용을 작성하세요. \\n\"\n",
    "        \"4. 작성이 완료되면 파일을 `report.md` 에 저장하세요. \\n\"\n",
    "        \"5. 마지막으로 저장한 `report.md` 파일을 읽어서 출력해 주세요. \\n\"\n",
    "    },\n",
    "    config={\"configurable\": {\"session_id\": \"abc123\"}},\n",
    ")\n",
    "\n",
    "print(\"Agent 실행 결과:\")\n",
    "for step in result:\n",
    "    agent_stream_parser.process_agent_steps(step)"
   ]
  },
  {
   "cell_type": "markdown",
   "metadata": {},
   "source": [
    "업데이트된 보고서 파일(`report.md`)의 내용을 확인하면 다음과 같이 출력됩니다."
   ]
  },
  {
   "cell_type": "markdown",
   "metadata": {},
   "source": [
    "![](./assets/report-agent-02.png)"
   ]
  },
  {
   "cell_type": "code",
   "execution_count": null,
   "metadata": {},
   "outputs": [],
   "source": [
    "# 보고서 작성을 요청합니다.\n",
    "result = agent_with_chat_history.stream(\n",
    "    {\n",
    "        \"input\": \"`report.md` 파일을 열어서 안의 내용을 출력하세요. \"\n",
    "        \"출력된 내용을 바탕으로, 전문적인 수준의 보고서를 작성하세요. \"\n",
    "        \"보고서는 총 3개의 섹션으로 구성되어야 합니다:\\n\"\n",
    "        \"1. 개요: 보고서 abstract 를 300자 내외로 작성하세요.\\n\"\n",
    "        \"2. 핵심내용: 보고서의 핵심 내용을 작성하세요. 정리된 표를 markdown 형식으로 작성하여 추가하세요. \"\n",
    "        \"3. 최종결론: 보고서의 최종 결론을 작성하세요. 출처(파일명, url 등)을 표시하세요.\"\n",
    "        \"마지막으로 작성된 결과물을 `report-2.md` 파일에 저장하세요.\"\n",
    "    },\n",
    "    config={\"configurable\": {\"session_id\": \"abc123\"}},\n",
    ")\n",
    "\n",
    "print(\"Agent 실행 결과:\")\n",
    "for step in result:\n",
    "    agent_stream_parser.process_agent_steps(step)"
   ]
  },
  {
   "cell_type": "markdown",
   "metadata": {},
   "source": [
    "새롭게 작성된 보고서 파일(`report-2.md`)의 내용을 확인하면 다음과 같이 출력됩니다."
   ]
  },
  {
   "cell_type": "markdown",
   "metadata": {},
   "source": [
    "![](./assets/report-agent-03.png)"
   ]
  },
  {
   "cell_type": "markdown",
   "metadata": {},
   "source": [
    "마지막으로, 보고서 내용을 기반으로 이미지 생성을 요청해 봅시다."
   ]
  },
  {
   "cell_type": "code",
   "execution_count": null,
   "metadata": {},
   "outputs": [],
   "source": [
    "# 이미지 생성을 요청합니다.\n",
    "result = agent_with_chat_history.stream(\n",
    "    {\n",
    "        \"input\": \"`report-2.md` 파일을 열어서 안의 내용을 출력하세요. \"\n",
    "        \"출력된 내용에 어울리는 이미지를 생성하세요. \"\n",
    "        \"생성한 이미지의 url 을 markdown 형식으로 보고서의 가장 상단에 추가하세요. \"\n",
    "        \"마지막으로 작성된 결과물을 `report-3.md` 파일에 저장하세요.\"\n",
    "    },\n",
    "    config={\"configurable\": {\"session_id\": \"abc123\"}},\n",
    ")\n",
    "\n",
    "print(\"Agent 실행 결과:\")\n",
    "for step in result:\n",
    "    agent_stream_parser.process_agent_steps(step)"
   ]
  },
  {
   "cell_type": "markdown",
   "metadata": {},
   "source": [
    "마지막으로 생성된 보고서 파일(`report-3.md`)의 내용을 일부를 확인하면 다음과 같이 출력됩니다."
   ]
  },
  {
   "cell_type": "markdown",
   "metadata": {},
   "source": [
    "![](./assets/report-agent-04.png)"
   ]
  }
 ],
 "metadata": {
  "kernelspec": {
   "display_name": "8885b517-effe-0089-35f7-905c7f3593eb",
   "language": "python",
   "name": "python3"
  },
  "language_info": {
   "codemirror_mode": {
    "name": "ipython",
    "version": 3
   },
   "file_extension": ".py",
   "mimetype": "text/x-python",
   "name": "python",
   "nbconvert_exporter": "python",
   "pygments_lexer": "ipython3",
   "version": "3.11.8"
  }
 },
 "nbformat": 4,
 "nbformat_minor": 2
}
