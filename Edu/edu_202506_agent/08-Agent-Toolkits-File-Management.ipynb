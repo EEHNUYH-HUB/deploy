{
 "cells": [
  {
   "cell_type": "markdown",
   "metadata": {},
   "source": [
    "# Toolkits 활용 Agent\n",
    "\n",
    "LangChain 프레임워크를 사용하는 가장 큰 이점은 3rd-party integration 되어 있는 다양한 기능들입니다.\n",
    "\n",
    "그 중 Toolkits 는 다양한 도구를 통합하여 제공합니다.\n",
    "\n",
    "아래 링크에서 다양한 Tools/Toolkits 를 확인할 수 있습니다.\n",
    "\n",
    "**참고**\n",
    "\n",
    "- [Agent Toolkits](https://api.python.langchain.com/en/latest/community/agent_toolkits.html)\n",
    "\n",
    "- [Tools](https://python.langchain.com/docs/integrations/tools/)"
   ]
  },
  {
   "cell_type": "code",
   "execution_count": 1,
   "metadata": {},
   "outputs": [
    {
     "data": {
      "text/plain": [
       "True"
      ]
     },
     "execution_count": 1,
     "metadata": {},
     "output_type": "execute_result"
    }
   ],
   "source": [
    "# API 키를 환경변수로 관리하기 위한 설정 파일\n",
    "from dotenv import load_dotenv\n",
    "\n",
    "# API 키 정보 로드\n",
    "load_dotenv()"
   ]
  },
  {
   "cell_type": "code",
   "execution_count": null,
   "metadata": {},
   "outputs": [],
   "source": [
    "# LangSmith 추적을 설정합니다. https://smith.langchain.com\n",
    "# !pip install -qU langchain-teddynote\n",
    "# from langchain_teddynote import logging\n",
    "\n",
    "# 프로젝트 이름을 입력합니다.\n",
    "# logging.langsmith(\"CH15-Agent-Projects\")"
   ]
  },
  {
   "cell_type": "markdown",
   "metadata": {},
   "source": [
    "먼저, 임시 폴더인 `tmp` 를 생성합니다."
   ]
  },
  {
   "cell_type": "code",
   "execution_count": 2,
   "metadata": {},
   "outputs": [],
   "source": [
    "import os\n",
    "\n",
    "if not os.path.exists(\"tmp\"):\n",
    "    os.mkdir(\"tmp\")"
   ]
  },
  {
   "cell_type": "markdown",
   "metadata": {},
   "source": [
    "## FileManagementToolkit\n",
    "\n",
    "`FileManagementToolkit` 는 로컬 파일 관리를 위한 도구 모음입니다. \n",
    "\n",
    "### 주요 구성 요소\n",
    "\n",
    "**파일 관리 도구들**\n",
    "\n",
    "- `CopyFileTool`: 파일 복사\n",
    "  \n",
    "- `DeleteFileTool`: 파일 삭제\n",
    "\n",
    "- `FileSearchTool`: 파일 검색\n",
    "\n",
    "- `MoveFileTool`: 파일 이동\n",
    "\n",
    "- `ReadFileTool`: 파일 읽기\n",
    "\n",
    "- `WriteFileTool`: 파일 쓰기\n",
    "\n",
    "- `ListDirectoryTool`: 디렉토리 목록 조회\n",
    "\n",
    "**설정**\n",
    "\n",
    "- `root_dir`: 파일 작업의 루트 디렉토리 설정 가능\n",
    "\n",
    "- `selected_tools`: 특정 도구만 선택적으로 사용 가능\n",
    "\n",
    "\n",
    "**동적 도구 생성**\n",
    "\n",
    "- `get_tools` 메서드로 선택된 도구들의 인스턴스 생성\n",
    "\n",
    "\n",
    "이 `FileManagementToolkit`은 로컬 파일 관리 작업을 자동화하거나 AI 에이전트에게 파일 조작 능력을 부여할 때 유용하게 사용할 수 있습니다. 단, 보안 측면에서 신중한 접근이 필요합니다."
   ]
  },
  {
   "cell_type": "code",
   "execution_count": 3,
   "metadata": {},
   "outputs": [
    {
     "name": "stdout",
     "output_type": "stream",
     "text": [
      "[사용 가능한 파일 관리 도구들]\n",
      "- copy_file: Create a copy of a file in a specified location\n",
      "- file_delete: Delete a file\n",
      "- file_search: Recursively search for files in a subdirectory that match the regex pattern\n",
      "- move_file: Move or rename a file from one location to another\n",
      "- read_file: Read file from disk\n",
      "- write_file: Write file to disk\n",
      "- list_directory: List files and directories in a specified folder\n"
     ]
    }
   ],
   "source": [
    "# FileManagementToolkit을 가져옵니다. 이 도구는 파일 관리 작업을 수행하는 데 사용됩니다.\n",
    "from langchain_community.agent_toolkits import FileManagementToolkit\n",
    "\n",
    "# 'tmp'라는 이름의 디렉토리를 작업 디렉토리로 설정합니다.\n",
    "working_directory = \"tmp\"\n",
    "\n",
    "# FileManagementToolkit 객체를 생성합니다.\n",
    "# root_dir 매개변수에 작업 디렉토리를 지정하여 모든 파일 작업이 이 디렉토리 내에서 이루어지도록 합니다.\n",
    "toolkit = FileManagementToolkit(root_dir=str(working_directory))\n",
    "\n",
    "# toolkit.get_tools() 메서드를 호출하여 사용 가능한 모든 파일 관리 도구를 가져옵니다.\n",
    "# 이 도구들은 파일 복사, 삭제, 검색, 이동, 읽기, 쓰기, 디렉토리 목록 조회 등의 기능을 제공합니다.\n",
    "available_tools = toolkit.get_tools()\n",
    "\n",
    "# 사용 가능한 도구들의 이름을 출력합니다.\n",
    "print(\"[사용 가능한 파일 관리 도구들]\")\n",
    "for tool in available_tools:\n",
    "    print(f\"- {tool.name}: {tool.description}\")"
   ]
  },
  {
   "cell_type": "code",
   "execution_count": 4,
   "metadata": {},
   "outputs": [
    {
     "data": {
      "text/plain": [
       "[ReadFileTool(root_dir='tmp'),\n",
       " DeleteFileTool(root_dir='tmp'),\n",
       " WriteFileTool(root_dir='tmp'),\n",
       " ListDirectoryTool(root_dir='tmp')]"
      ]
     },
     "execution_count": 4,
     "metadata": {},
     "output_type": "execute_result"
    }
   ],
   "source": [
    "# 도구 중 일부만 지정하여 선택하는 것도 가능합니다\n",
    "tools = FileManagementToolkit(\n",
    "    root_dir=str(working_directory),\n",
    "    selected_tools=[\"read_file\", \"file_delete\", \"write_file\", \"list_directory\"],\n",
    ").get_tools()\n",
    "tools"
   ]
  },
  {
   "cell_type": "code",
   "execution_count": 5,
   "metadata": {},
   "outputs": [
    {
     "data": {
      "text/plain": [
       "'File written successfully to example.txt.'"
      ]
     },
     "execution_count": 5,
     "metadata": {},
     "output_type": "execute_result"
    }
   ],
   "source": [
    "read_tool, delete_tool, write_tool, list_tool = tools\n",
    "\n",
    "# 파일 쓰기\n",
    "write_tool.invoke({\"file_path\": \"example.txt\", \"text\": \"Hello World!\"})"
   ]
  },
  {
   "cell_type": "code",
   "execution_count": 6,
   "metadata": {},
   "outputs": [
    {
     "name": "stdout",
     "output_type": "stream",
     "text": [
      "example.txt\n"
     ]
    }
   ],
   "source": [
    "# 파일 목록 조회\n",
    "print(list_tool.invoke({}))"
   ]
  },
  {
   "cell_type": "code",
   "execution_count": 7,
   "metadata": {},
   "outputs": [
    {
     "name": "stdout",
     "output_type": "stream",
     "text": [
      "File deleted successfully: example.txt.\n"
     ]
    }
   ],
   "source": [
    "# 파일 삭제\n",
    "print(delete_tool.invoke({\"file_path\": \"example.txt\"}))"
   ]
  },
  {
   "cell_type": "code",
   "execution_count": 8,
   "metadata": {},
   "outputs": [
    {
     "name": "stdout",
     "output_type": "stream",
     "text": [
      "No files found in directory .\n"
     ]
    }
   ],
   "source": [
    "# 파일 목록 조회\n",
    "print(list_tool.invoke({}))"
   ]
  },
  {
   "cell_type": "code",
   "execution_count": 9,
   "metadata": {},
   "outputs": [
    {
     "data": {
      "text/plain": [
       "[CopyFileTool(root_dir='tmp'),\n",
       " DeleteFileTool(root_dir='tmp'),\n",
       " FileSearchTool(root_dir='tmp'),\n",
       " MoveFileTool(root_dir='tmp'),\n",
       " ReadFileTool(root_dir='tmp'),\n",
       " WriteFileTool(root_dir='tmp'),\n",
       " ListDirectoryTool(root_dir='tmp'),\n",
       " StructuredTool(name='latest_news', description='Look up latest news', args_schema=<class 'langchain_core.utils.pydantic.latest_news'>, func=<function latest_news at 0x000001DE10AC4860>)]"
      ]
     },
     "execution_count": 9,
     "metadata": {},
     "output_type": "execute_result"
    }
   ],
   "source": [
    "# 필요한 모듈과 클래스를 임포트합니다.\n",
    "from langchain.tools import tool\n",
    "from typing import List, Dict\n",
    "from langchain_teddynote.tools import GoogleNews\n",
    "\n",
    "\n",
    "# 최신 뉴스 검색 도구를 정의합니다.\n",
    "@tool\n",
    "def latest_news(k: int = 5) -> List[Dict[str, str]]:\n",
    "    \"\"\"Look up latest news\"\"\"\n",
    "    # GoogleNews 객체를 생성합니다.\n",
    "    news_tool = GoogleNews()\n",
    "    # 최신 뉴스를 검색하고 결과를 반환합니다. k는 반환할 뉴스 항목의 수입니다.\n",
    "    return news_tool.search_latest(k=k)\n",
    "\n",
    "\n",
    "# FileManagementToolkit을 사용하여 파일 관리 도구들을 가져옵니다.\n",
    "tools = FileManagementToolkit(\n",
    "    root_dir=str(working_directory),\n",
    ").get_tools()\n",
    "\n",
    "# 최신 뉴스 검색 도구를 tools 리스트에 추가합니다.\n",
    "tools.append(latest_news)\n",
    "\n",
    "# 모든 도구들이 포함된 tools 리스트를 출력합니다.\n",
    "tools"
   ]
  },
  {
   "cell_type": "code",
   "execution_count": 11,
   "metadata": {},
   "outputs": [],
   "source": [
    "from langchain_core.prompts import ChatPromptTemplate\n",
    "from langchain_openai import ChatOpenAI, AzureChatOpenAI\n",
    "from langchain.agents import create_tool_calling_agent, AgentExecutor\n",
    "from langchain_community.chat_message_histories import ChatMessageHistory\n",
    "from langchain_core.runnables.history import RunnableWithMessageHistory\n",
    "from langchain_teddynote.messages import AgentStreamParser\n",
    "import os\n",
    "\n",
    "# session_id 를 저장할 딕셔너리 생성\n",
    "store = {}\n",
    "\n",
    "# 프롬프트 생성\n",
    "# 프롬프트는 에이전트에게 모델이 수행할 작업을 설명하는 텍스트를 제공합니다. (도구의 이름과 역할을 입력)\n",
    "prompt = ChatPromptTemplate.from_messages(\n",
    "    [\n",
    "        (\n",
    "            \"system\",\n",
    "            \"You are a helpful assistant. \"\n",
    "            \"Make sure to use the `latest_news` tool to find latest news. \"\n",
    "            \"Make sure to use the `file_management` tool to manage files. \",\n",
    "        ),\n",
    "        (\"placeholder\", \"{chat_history}\"),\n",
    "        (\"human\", \"{input}\"),\n",
    "        (\"placeholder\", \"{agent_scratchpad}\"),\n",
    "    ]\n",
    ")\n",
    "\n",
    "# LLM 생성\n",
    "llm = AzureChatOpenAI(\n",
    "    api_key = os.getenv(\"AZURE_OPENAI_API_KEY\"), # Azure OpenAI API 키를 환경 변수에서 가져옵니다.\n",
    "    api_version = os.getenv(\"AZURE_OPENAI_API_VERSION\"), # OpenAI API 버전을 설정합니다.\n",
    "    azure_endpoint = os.getenv(\"AZURE_OPENAI_ENDPOINT\"), # Azure OpenAI 엔드포인트를 환경 변수에서 가져옵니다.\n",
    "    model= os.getenv(\"AZURE_OPENAI_DEPLOYMENT_NAME_GPT41_MINI\"), # 사용할 모델을 설정합니다.\n",
    "    # streaming=False, # 스트리밍\n",
    "    temperature=0,\n",
    "    # max_tokens=4096,\n",
    ")\n",
    "\n",
    "# Agent 생성\n",
    "agent = create_tool_calling_agent(llm, tools, prompt)\n",
    "\n",
    "# AgentExecutor 생성\n",
    "agent_executor = AgentExecutor(\n",
    "    agent=agent,\n",
    "    tools=tools,\n",
    "    verbose=False,\n",
    "    handle_parsing_errors=True,\n",
    ")\n",
    "\n",
    "\n",
    "# session_id 를 기반으로 세션 기록을 가져오는 함수\n",
    "def get_session_history(session_ids):\n",
    "    if session_ids not in store:  # session_id 가 store에 없는 경우\n",
    "        # 새로운 ChatMessageHistory 객체를 생성하여 store에 저장\n",
    "        store[session_ids] = ChatMessageHistory()\n",
    "    return store[session_ids]  # 해당 세션 ID에 대한 세션 기록 반환\n",
    "\n",
    "\n",
    "# 채팅 메시지 기록이 추가된 에이전트를 생성합니다.\n",
    "agent_with_chat_history = RunnableWithMessageHistory(\n",
    "    agent_executor,\n",
    "    # 대화 session_id\n",
    "    get_session_history,\n",
    "    # 프롬프트의 질문이 입력되는 key: \"input\"\n",
    "    input_messages_key=\"input\",\n",
    "    # 프롬프트의 메시지가 입력되는 key: \"chat_history\"\n",
    "    history_messages_key=\"chat_history\",\n",
    ")\n",
    "\n",
    "agent_stream_parser = AgentStreamParser()"
   ]
  },
  {
   "cell_type": "code",
   "execution_count": 12,
   "metadata": {},
   "outputs": [
    {
     "name": "stdout",
     "output_type": "stream",
     "text": [
      "Agent 실행 결과:\n",
      "[도구 호출]\n",
      "Tool: latest_news\n",
      "k: 5\n",
      "Log: \n",
      "Invoking: `latest_news` with `{'k': 5}`\n",
      "\n",
      "\n",
      "\n",
      "[관찰 내용]\n",
      "Observation: [{'url': 'https://news.google.com/rss/articles/CBMikAFBVV95cUxOZU9mNDlfcjlaaUVDY2M2RmdBOG5Cc1MyOHk4LWxwSzd3MDdIYU9aNE1FWEpYQzE4TjdNTXJZVmxGRHJYLXVJbVpDQkF2YzY0YWhKYnhNWElDdHpXMlR1bnA0cVlINHNzSU9xRmVrTDBSX1kxWHFSTkN5d2FwSzIzdmI1Mm50WG5KWHV6eWVfMS3SAaQBQVVfeXFMUHV3b3E2QUVPdUtCNVQyQTNxYzY5UEFvRFIwSTQyMnZ0Q08tTG8xUmJFVTREekZ5T1d1UDFOaDg5UDdGTDdZeFU5czhWb0lUcjJNQzFleG5ZNjhUcmVGQllldFNRS0FhYWJLRkxqNGhoSHZUbGcwVXkybTk1ZEVuRXdfSFVqVE5LdlVmM0Q0UmJxdzRqTzZSUUdlRHV3UFdMQVhUN24?oc=5', 'content': '李대통령, 호주 총리와 회담...“6·25 파병 덕에 대한민국 살아남아” - 조선일보'}, {'url': 'https://news.google.com/rss/articles/CBMiggFBVV95cUxOMmZmWmZRSzl1QkZvSHBibE9Wc1FTcnYxRjQwNjdDTlc1TzA1UEJzS2E4WEVpbXB2elcxaTJJTkpqWXNmdVNSdzVLS1ZkSjRFYjJoQjJjOFdMMjg1WGRobUhtd2xqcGROYWNMbWl5VHU4bTdPZUxZU3VBdmJheDRYNjln?oc=5', 'content': '네타냐후는 전투에서 이기고 있지만…이스라엘의 이란 공격 딜레마 - 한겨레'}, {'url': 'https://news.google.com/rss/articles/CBMiWkFVX3lxTE5SalhhNnRvU3hwUlpUbnlkdlFJcV9WRWktR0c2aGtRVEw4bHNTdEF6UG01OUwybVc3R0praTJGRHEzdnVkZUlSS0VDZVJDd3NuYnVtSjAxa3AtQdIBX0FVX3lxTFBjZndwRUZ3cVE3R2JRcmFYYjU3TmFKbVlJOTRSQjVOR0JBclZJMU1oS3RnSEFmajI5VmZCVkQ0eEV5OTZtdVpQWHV3NWoxbHNQc2ZRUndYbmNVdGlRXzFN?oc=5', 'content': '[속보]정부, 이란 모든 지역 여행경보 3단계…“출국 권고” - 경향신문'}, {'url': 'https://news.google.com/rss/articles/CBMikAFBVV95cUxQQnVFclhsWnNIeElKM0dXWHlCcXlaVHBJcGlINGJIWjFadkU3SFhoYlZSSEhBd0JiNE1LejgyMDMyaU1NSkZBaVhHYnJsLTJJaGFtSVR0dVItUUxVU0NFMS1nT1c5SVRudzNXck13ZUIwQ252eVNoTktqREt1OTVwcWRTaFgzWXJzLVNwUVhNTETSAaQBQVVfeXFMTUE3dFQyNmkwNEM2NnhwcldDTjhjN2tzY2JMcE12ZDMzQnhIQkNuZGxxQ3ZERkNZQ3dZNjJGcmFIblozUTcxbFpnNHZfNUFIY3lUdjFOQjNBQmlOVjFuVXctdHA5Z1lJcXY0ZWthOFBwWDA5alhxTlJVdDdjMzhDT1pHS0c4b2ZhRGRNenI2T3ZRVHQ2bVZqc1Y5bEpZdDc3RmFmSTI?oc=5', 'content': '총리실이 공기업 평가 추진… ‘尹정부 기관장’ 물갈이 포석 - 조선일보'}, {'url': 'https://news.google.com/rss/articles/CBMidEFVX3lxTE1iRWtzdmVFWUp4MERNZXdHZmMxcnpUM1kzRHpEY2JBWndhb0d4QXZJckVmUHpnX1NSYi1ZZ0FoS3lWWUd1VDNKZlcwTGQ2cVB6YVB2ZXdnNTY0QVRMc1ZTNW9NcWt3bTZoMTZsVzh5Tk83VHRQ?oc=5', 'content': '김민석 “정치자금법 위반 사건 본질은 정치검찰 표적사정” - 한겨레'}]\n",
      "[도구 호출]\n",
      "Tool: write_file\n",
      "file_path: 李대통령, 호주 총리와 회담...“6·25 파병 덕에 대한민국 살아남아”.txt\n",
      "text: 李대통령, 호주 총리와 회담...“6·25 파병 덕에 대한민국 살아남아” - 조선일보\n",
      "URL: https://news.google.com/rss/articles/CBMikAFBVV95cUxOZU9mNDlfcjlaaUVDY2M2RmdBOG5Cc1MyOHk4LWxwSzd3MDdIYU9aNE1FWEpYQzE4TjdNTXJZVmxGRHJYLXVJbVpDQkF2YzY0YWhKYnhNWElDdHpXMlR1bnA0cVlINHNzSU9xRmVrTDBSX1kxWHFSTkN5d2FwSzIzdmI1Mm50WG5KWHV6eWVfMS3SAaQBQVVfeXFMUHV3b3E2QUVPdUtCNVQyQTNxYzY5UEFvRFIwSTQyMnZ0Q08tTG8xUmJFVTREekZ5T1d1UDFOaDg5UDdGTDdZeFU5czhWb0lUcjJNQzFleG5ZNjhUcmVGQllldFNRS0FhYWJLRkxqNGhoSHZUbGcwVXkybTk1ZEVuRXdfSFVqVE5LdlVmM0Q0UmJxdzRqTzZSUUdlRHV3UFdMQVhUN24?\n",
      "Log: \n",
      "Invoking: `write_file` with `{'file_path': '李대통령, 호주 총리와 회담...“6·25 파병 덕에 대한민국 살아남아”.txt', 'text': '李대통령, 호주 총리와 회담...“6·25 파병 덕에 대한민국 살아남아” - 조선일보\\nURL: https://news.google.com/rss/articles/CBMikAFBVV95cUxOZU9mNDlfcjlaaUVDY2M2RmdBOG5Cc1MyOHk4LWxwSzd3MDdIYU9aNE1FWEpYQzE4TjdNTXJZVmxGRHJYLXVJbVpDQkF2YzY0YWhKYnhNWElDdHpXMlR1bnA0cVlINHNzSU9xRmVrTDBSX1kxWHFSTkN5d2FwSzIzdmI1Mm50WG5KWHV6eWVfMS3SAaQBQVVfeXFMUHV3b3E2QUVPdUtCNVQyQTNxYzY5UEFvRFIwSTQyMnZ0Q08tTG8xUmJFVTREekZ5T1d1UDFOaDg5UDdGTDdZeFU5czhWb0lUcjJNQzFleG5ZNjhUcmVGQllldFNRS0FhYWJLRkxqNGhoSHZUbGcwVXkybTk1ZEVuRXdfSFVqVE5LdlVmM0Q0UmJxdzRqTzZSUUdlRHV3UFdMQVhUN24?'}`\n",
      "\n",
      "\n",
      "\n",
      "[도구 호출]\n",
      "Tool: write_file\n",
      "file_path: 네타냐후는 전투에서 이기고 있지만…이스라엘의 이란 공격 딜레마.txt\n",
      "text: 네타냐후는 전투에서 이기고 있지만…이스라엘의 이란 공격 딜레마 - 한겨레\n",
      "URL: https://news.google.com/rss/articles/CBMiggFBVV95cUxOMmZmWmZRSzl1QkZvSHBibE9Wc1FTcnYxRjQwNjdDTlc1TzA1UEJzS2E4WEVpbXB2elcxaTJJTkpqWXNmdVNSdzVLS1ZkSjRFYjJoQjJjOFdMMjg1WGRobUhtd2xqcGROYWNMbWl5VHU4bTdPZUxZU3VBdmJheDRYNjln?\n",
      "Log: \n",
      "Invoking: `write_file` with `{'file_path': '네타냐후는 전투에서 이기고 있지만…이스라엘의 이란 공격 딜레마.txt', 'text': '네타냐후는 전투에서 이기고 있지만…이스라엘의 이란 공격 딜레마 - 한겨레\\nURL: https://news.google.com/rss/articles/CBMiggFBVV95cUxOMmZmWmZRSzl1QkZvSHBibE9Wc1FTcnYxRjQwNjdDTlc1TzA1UEJzS2E4WEVpbXB2elcxaTJJTkpqWXNmdVNSdzVLS1ZkSjRFYjJoQjJjOFdMMjg1WGRobUhtd2xqcGROYWNMbWl5VHU4bTdPZUxZU3VBdmJheDRYNjln?'}`\n",
      "\n",
      "\n",
      "\n",
      "[도구 호출]\n",
      "Tool: write_file\n",
      "file_path: [속보]정부, 이란 모든 지역 여행경보 3단계…“출국 권고”.txt\n",
      "text: [속보]정부, 이란 모든 지역 여행경보 3단계…“출국 권고” - 경향신문\n",
      "URL: https://news.google.com/rss/articles/CBMiWkFVX3lxTE5SalhhNnRvU3hwUlpUbnlkdlFJcV9WRWktR0c2aGtRVEw4bHNTdEF6UG01OUwybVc3R0praTJGRHEzdnVkZUlSS0VDZVJDd3NuYnVtSjAxa3AtQdIBX0FVX3lxTFBjZndwRUZ3cVE3R2JRcmFYYjU3TmFKbVlJOTRSQjVOR0JBclZJMU1oS3RnSEFmajI5VmZCVkQ0eEV5OTZtdVpQWHV3NWoxbHNQc2ZRUndYbmNVdGlRXzFN?\n",
      "Log: \n",
      "Invoking: `write_file` with `{'file_path': '[속보]정부, 이란 모든 지역 여행경보 3단계…“출국 권고”.txt', 'text': '[속보]정부, 이란 모든 지역 여행경보 3단계…“출국 권고” - 경향신문\\nURL: https://news.google.com/rss/articles/CBMiWkFVX3lxTE5SalhhNnRvU3hwUlpUbnlkdlFJcV9WRWktR0c2aGtRVEw4bHNTdEF6UG01OUwybVc3R0praTJGRHEzdnVkZUlSS0VDZVJDd3NuYnVtSjAxa3AtQdIBX0FVX3lxTFBjZndwRUZ3cVE3R2JRcmFYYjU3TmFKbVlJOTRSQjVOR0JBclZJMU1oS3RnSEFmajI5VmZCVkQ0eEV5OTZtdVpQWHV3NWoxbHNQc2ZRUndYbmNVdGlRXzFN?'}`\n",
      "\n",
      "\n",
      "\n",
      "[도구 호출]\n",
      "Tool: write_file\n",
      "file_path: 총리실이 공기업 평가 추진… ‘尹정부 기관장’ 물갈이 포석.txt\n",
      "text: 총리실이 공기업 평가 추진… ‘尹정부 기관장’ 물갈이 포석 - 조선일보\n",
      "URL: https://news.google.com/rss/articles/CBMikAFBVV95cUxQQnVFclhsWnNIeElKM0dXWHlCcXlaVHBJcGlINGJIWjFadkU3SFhoYlZSSEhBd0JiNE1LejgyMDMyaU1NSkZBaVhHYnJsLTJJaGFtSVR0dVItUUxVU0NFMS1nT1c5SVRudzNXck13ZUIwQ252eVNoTktqREt1OTVwcWRTaFgzWXJzLVNwUVhNTETSAaQBQVVfeXFMTUE3dFQyNmkwNEM2NnhwcldDTjhjN2tzY2JMcE12ZDMzQnhIQkNuZGxxQ3ZERkNZQ3dZNjJGcmFIblozUTcxbFpnNHZfNUFIY3lUdjFOQjNBQmlOVjFuVXctdHA5Z1lJcXY0ZWthOFBwWDA5alhxTlJVdDdjMzhDT1pHS0c4b2ZhRGRNenI2T3ZRVHQ2bVZqc1Y5bEpZdDc3RmFmSTI?\n",
      "Log: \n",
      "Invoking: `write_file` with `{'file_path': '총리실이 공기업 평가 추진… ‘尹정부 기관장’ 물갈이 포석.txt', 'text': '총리실이 공기업 평가 추진… ‘尹정부 기관장’ 물갈이 포석 - 조선일보\\nURL: https://news.google.com/rss/articles/CBMikAFBVV95cUxQQnVFclhsWnNIeElKM0dXWHlCcXlaVHBJcGlINGJIWjFadkU3SFhoYlZSSEhBd0JiNE1LejgyMDMyaU1NSkZBaVhHYnJsLTJJaGFtSVR0dVItUUxVU0NFMS1nT1c5SVRudzNXck13ZUIwQ252eVNoTktqREt1OTVwcWRTaFgzWXJzLVNwUVhNTETSAaQBQVVfeXFMTUE3dFQyNmkwNEM2NnhwcldDTjhjN2tzY2JMcE12ZDMzQnhIQkNuZGxxQ3ZERkNZQ3dZNjJGcmFIblozUTcxbFpnNHZfNUFIY3lUdjFOQjNBQmlOVjFuVXctdHA5Z1lJcXY0ZWthOFBwWDA5alhxTlJVdDdjMzhDT1pHS0c4b2ZhRGRNenI2T3ZRVHQ2bVZqc1Y5bEpZdDc3RmFmSTI?'}`\n",
      "\n",
      "\n",
      "\n",
      "[도구 호출]\n",
      "Tool: write_file\n",
      "file_path: 김민석 “정치자금법 위반 사건 본질은 정치검찰 표적사정”.txt\n",
      "text: 김민석 “정치자금법 위반 사건 본질은 정치검찰 표적사정” - 한겨레\n",
      "URL: https://news.google.com/rss/articles/CBMidEFVX3lxTE1iRWtzdmVFWUp4MERNZXdHZmMxcnpUM1kzRHpEY2JBWndhb0d4QXZJckVmUHpnX1NSYi1ZZ0FoS3lWWUd1VDNKZlcwTGQ2cVB6YVB2ZXdnNTY0QVRMc1ZTNW9NcWt3bTZoMTZsVzh5Tk83VHRQ?\n",
      "Log: \n",
      "Invoking: `write_file` with `{'file_path': '김민석 “정치자금법 위반 사건 본질은 정치검찰 표적사정”.txt', 'text': '김민석 “정치자금법 위반 사건 본질은 정치검찰 표적사정” - 한겨레\\nURL: https://news.google.com/rss/articles/CBMidEFVX3lxTE1iRWtzdmVFWUp4MERNZXdHZmMxcnpUM1kzRHpEY2JBWndhb0d4QXZJckVmUHpnX1NSYi1ZZ0FoS3lWWUd1VDNKZlcwTGQ2cVB6YVB2ZXdnNTY0QVRMc1ZTNW9NcWt3bTZoMTZsVzh5Tk83VHRQ?'}`\n",
      "\n",
      "\n",
      "\n",
      "[관찰 내용]\n",
      "Observation: File written successfully to 李대통령, 호주 총리와 회담...“6·25 파병 덕에 대한민국 살아남아”.txt.\n",
      "[관찰 내용]\n",
      "Observation: File written successfully to 네타냐후는 전투에서 이기고 있지만…이스라엘의 이란 공격 딜레마.txt.\n",
      "[관찰 내용]\n",
      "Observation: File written successfully to [속보]정부, 이란 모든 지역 여행경보 3단계…“출국 권고”.txt.\n",
      "[관찰 내용]\n",
      "Observation: File written successfully to 총리실이 공기업 평가 추진… ‘尹정부 기관장’ 물갈이 포석.txt.\n",
      "[관찰 내용]\n",
      "Observation: File written successfully to 김민석 “정치자금법 위반 사건 본질은 정치검찰 표적사정”.txt.\n",
      "[최종 답변]\n",
      "최신 뉴스 5개의 제목을 파일명으로 하여 각각 .txt 파일을 생성하였고, 파일 내용에는 뉴스 내용과 URL을 포함하였습니다. 필요하시면 파일을 확인하거나 다른 작업을 요청해 주세요.\n"
     ]
    }
   ],
   "source": [
    "result = agent_with_chat_history.stream(\n",
    "    {\n",
    "        \"input\": \"최신 뉴스 5개를 검색하고, 각 뉴스의 제목을 파일명으로 가지는 파일을 생성하고(.txt), \"\n",
    "        \"파일의 내용은 뉴스의 내용과 url을 추가하세요. \"\n",
    "    },\n",
    "    config={\"configurable\": {\"session_id\": \"abc123\"}},\n",
    ")\n",
    "\n",
    "print(\"Agent 실행 결과:\")\n",
    "for step in result:\n",
    "    agent_stream_parser.process_agent_steps(step)"
   ]
  },
  {
   "cell_type": "markdown",
   "metadata": {},
   "source": [
    "`tmp` 폴더 내부를 확인해보면 아래와 같이 파일이 생성된 것을 확인할 수 있습니다."
   ]
  },
  {
   "cell_type": "markdown",
   "metadata": {},
   "source": [
    "![](./assets/toolkits-01.png)"
   ]
  },
  {
   "cell_type": "code",
   "execution_count": 13,
   "metadata": {},
   "outputs": [
    {
     "name": "stdout",
     "output_type": "stream",
     "text": [
      "Agent 실행 결과:\n",
      "[도구 호출]\n",
      "Tool: file_search\n",
      "pattern: *.txt\n",
      "Log: \n",
      "Invoking: `file_search` with `{'pattern': '*.txt'}`\n",
      "\n",
      "\n",
      "\n",
      "[관찰 내용]\n",
      "Observation: [속보]정부, 이란 모든 지역 여행경보 3단계…“출국 권고”.txt\n",
      "김민석 “정치자금법 위반 사건 본질은 정치검찰 표적사정”.txt\n",
      "네타냐후는 전투에서 이기고 있지만…이스라엘의 이란 공격 딜레마.txt\n",
      "총리실이 공기업 평가 추진… ‘尹정부 기관장’ 물갈이 포석.txt\n",
      "李대통령, 호주 총리와 회담...“6·25 파병 덕에 대한민국 살아남아”.txt\n",
      "[도구 호출]\n",
      "Tool: move_file\n",
      "source_path: [속보]정부, 이란 모든 지역 여행경보 3단계…“출국 권고”.txt\n",
      "destination_path: 🚨정부_이란_여행경보_3단계_출국_권고.txt\n",
      "Log: \n",
      "Invoking: `move_file` with `{'source_path': '[속보]정부, 이란 모든 지역 여행경보 3단계…“출국 권고”.txt', 'destination_path': '🚨정부_이란_여행경보_3단계_출국_권고.txt'}`\n",
      "\n",
      "\n",
      "\n",
      "[도구 호출]\n",
      "Tool: move_file\n",
      "source_path: 김민석 “정치자금법 위반 사건 본질은 정치검찰 표적사정”.txt\n",
      "destination_path: 🕵️김민석_정치자금법_위반_사건_정치검찰_표적사정.txt\n",
      "Log: \n",
      "Invoking: `move_file` with `{'source_path': '김민석 “정치자금법 위반 사건 본질은 정치검찰 표적사정”.txt', 'destination_path': '🕵️김민석_정치자금법_위반_사건_정치검찰_표적사정.txt'}`\n",
      "\n",
      "\n",
      "\n",
      "[도구 호출]\n",
      "Tool: move_file\n",
      "source_path: 네타냐후는 전투에서 이기고 있지만…이스라엘의 이란 공격 딜레마.txt\n",
      "destination_path: ⚔️네타냐후_전투_이스라엘_이란_공격_딜레마.txt\n",
      "Log: \n",
      "Invoking: `move_file` with `{'source_path': '네타냐후는 전투에서 이기고 있지만…이스라엘의 이란 공격 딜레마.txt', 'destination_path': '⚔️네타냐후_전투_이스라엘_이란_공격_딜레마.txt'}`\n",
      "\n",
      "\n",
      "\n",
      "[도구 호출]\n",
      "Tool: move_file\n",
      "source_path: 총리실이 공기업 평가 추진… ‘尹정부 기관장’ 물갈이 포석.txt\n",
      "destination_path: 🏛️총리실_공기업_평가_尹정부_기관장_물갈이_포석.txt\n",
      "Log: \n",
      "Invoking: `move_file` with `{'source_path': '총리실이 공기업 평가 추진… ‘尹정부 기관장’ 물갈이 포석.txt', 'destination_path': '🏛️총리실_공기업_평가_尹정부_기관장_물갈이_포석.txt'}`\n",
      "\n",
      "\n",
      "\n",
      "[도구 호출]\n",
      "Tool: move_file\n",
      "source_path: 李대통령, 호주 총리와 회담...“6·25 파병 덕에 대한민국 살아남아”.txt\n",
      "destination_path: 🤝이대통령_호주_총리_회담_6_25_파병_대한민국_살아남아.txt\n",
      "Log: \n",
      "Invoking: `move_file` with `{'source_path': '李대통령, 호주 총리와 회담...“6·25 파병 덕에 대한민국 살아남아”.txt', 'destination_path': '🤝이대통령_호주_총리_회담_6_25_파병_대한민국_살아남아.txt'}`\n",
      "\n",
      "\n",
      "\n",
      "[관찰 내용]\n",
      "Observation: File moved successfully from [속보]정부, 이란 모든 지역 여행경보 3단계…“출국 권고”.txt to 🚨정부_이란_여행경보_3단계_출국_권고.txt.\n",
      "[관찰 내용]\n",
      "Observation: File moved successfully from 김민석 “정치자금법 위반 사건 본질은 정치검찰 표적사정”.txt to 🕵️김민석_정치자금법_위반_사건_정치검찰_표적사정.txt.\n",
      "[관찰 내용]\n",
      "Observation: File moved successfully from 네타냐후는 전투에서 이기고 있지만…이스라엘의 이란 공격 딜레마.txt to ⚔️네타냐후_전투_이스라엘_이란_공격_딜레마.txt.\n",
      "[관찰 내용]\n",
      "Observation: File moved successfully from 총리실이 공기업 평가 추진… ‘尹정부 기관장’ 물갈이 포석.txt to 🏛️총리실_공기업_평가_尹정부_기관장_물갈이_포석.txt.\n",
      "[관찰 내용]\n",
      "Observation: File moved successfully from 李대통령, 호주 총리와 회담...“6·25 파병 덕에 대한민국 살아남아”.txt to 🤝이대통령_호주_총리_회담_6_25_파병_대한민국_살아남아.txt.\n",
      "[최종 답변]\n",
      "파일 제목 맨 앞에 제목에 어울리는 이모지를 추가하고, 파일명을 깔끔하게 변경하였습니다. 변경된 파일명은 다음과 같습니다:\n",
      "\n",
      "1. 🚨정부_이란_여행경보_3단계_출국_권고.txt\n",
      "2. 🕵️김민석_정치자금법_위반_사건_정치검찰_표적사정.txt\n",
      "3. ⚔️네타냐후_전투_이스라엘_이란_공격_딜레마.txt\n",
      "4. 🏛️총리실_공기업_평가_尹정부_기관장_물갈이_포석.txt\n",
      "5. 🤝이대통령_호주_총리_회담_6_25_파병_대한민국_살아남아.txt\n",
      "\n",
      "다른 요청이 있으시면 알려주세요.\n"
     ]
    }
   ],
   "source": [
    "result = agent_with_chat_history.stream(\n",
    "    {\n",
    "        \"input\": \"이전에 생성한 파일 제목 맨 앞에 제목에 어울리는 emoji를 추가하여 파일명을 변경하세요. \"\n",
    "        \"파일명도 깔끔하게 변경하세요. \"\n",
    "    },\n",
    "    config={\"configurable\": {\"session_id\": \"abc123\"}},\n",
    ")\n",
    "\n",
    "print(\"Agent 실행 결과:\")\n",
    "for step in result:\n",
    "    agent_stream_parser.process_agent_steps(step)"
   ]
  },
  {
   "cell_type": "markdown",
   "metadata": {},
   "source": [
    "`tmp` 폴더 내부를 확인해보면 아래와 같이 파일명이 변경된 것을 확인할 수 있습니다."
   ]
  },
  {
   "cell_type": "markdown",
   "metadata": {},
   "source": [
    "![](./assets/toolkits-02.png)"
   ]
  },
  {
   "cell_type": "code",
   "execution_count": 14,
   "metadata": {},
   "outputs": [
    {
     "name": "stdout",
     "output_type": "stream",
     "text": [
      "Agent 실행 결과:\n",
      "[도구 호출]\n",
      "Tool: write_file\n",
      "file_path: news/README.txt\n",
      "text: This folder contains the latest news files.\n",
      "Log: \n",
      "Invoking: `write_file` with `{'file_path': 'news/README.txt', 'text': 'This folder contains the latest news files.'}`\n",
      "\n",
      "\n",
      "\n",
      "[도구 호출]\n",
      "Tool: copy_file\n",
      "source_path: 🚨정부_이란_여행경보_3단계_출국_권고.txt\n",
      "destination_path: news/🚨정부_이란_여행경보_3단계_출국_권고.txt\n",
      "Log: \n",
      "Invoking: `copy_file` with `{'source_path': '🚨정부_이란_여행경보_3단계_출국_권고.txt', 'destination_path': 'news/🚨정부_이란_여행경보_3단계_출국_권고.txt'}`\n",
      "\n",
      "\n",
      "\n",
      "[도구 호출]\n",
      "Tool: copy_file\n",
      "source_path: 🕵️김민석_정치자금법_위반_사건_정치검찰_표적사정.txt\n",
      "destination_path: news/🕵️김민석_정치자금법_위반_사건_정치검찰_표적사정.txt\n",
      "Log: \n",
      "Invoking: `copy_file` with `{'source_path': '🕵️김민석_정치자금법_위반_사건_정치검찰_표적사정.txt', 'destination_path': 'news/🕵️김민석_정치자금법_위반_사건_정치검찰_표적사정.txt'}`\n",
      "\n",
      "\n",
      "\n",
      "[도구 호출]\n",
      "Tool: copy_file\n",
      "source_path: ⚔️네타냐후_전투_이스라엘_이란_공격_딜레마.txt\n",
      "destination_path: news/⚔️네타냐후_전투_이스라엘_이란_공격_딜레마.txt\n",
      "Log: \n",
      "Invoking: `copy_file` with `{'source_path': '⚔️네타냐후_전투_이스라엘_이란_공격_딜레마.txt', 'destination_path': 'news/⚔️네타냐후_전투_이스라엘_이란_공격_딜레마.txt'}`\n",
      "\n",
      "\n",
      "\n",
      "[도구 호출]\n",
      "Tool: copy_file\n",
      "source_path: 🏛️총리실_공기업_평가_尹정부_기관장_물갈이_포석.txt\n",
      "destination_path: news/🏛️총리실_공기업_평가_尹정부_기관장_물갈이_포석.txt\n",
      "Log: \n",
      "Invoking: `copy_file` with `{'source_path': '🏛️총리실_공기업_평가_尹정부_기관장_물갈이_포석.txt', 'destination_path': 'news/🏛️총리실_공기업_평가_尹정부_기관장_물갈이_포석.txt'}`\n",
      "\n",
      "\n",
      "\n",
      "[도구 호출]\n",
      "Tool: copy_file\n",
      "source_path: 🤝이대통령_호주_총리_회담_6_25_파병_대한민국_살아남아.txt\n",
      "destination_path: news/🤝이대통령_호주_총리_회담_6_25_파병_대한민국_살아남아.txt\n",
      "Log: \n",
      "Invoking: `copy_file` with `{'source_path': '🤝이대통령_호주_총리_회담_6_25_파병_대한민국_살아남아.txt', 'destination_path': 'news/🤝이대통령_호주_총리_회담_6_25_파병_대한민국_살아남아.txt'}`\n",
      "\n",
      "\n",
      "\n",
      "[관찰 내용]\n",
      "Observation: File written successfully to news/README.txt.\n",
      "[관찰 내용]\n",
      "Observation: File copied successfully from 🚨정부_이란_여행경보_3단계_출국_권고.txt to news/🚨정부_이란_여행경보_3단계_출국_권고.txt.\n",
      "[관찰 내용]\n",
      "Observation: File copied successfully from 🕵️김민석_정치자금법_위반_사건_정치검찰_표적사정.txt to news/🕵️김민석_정치자금법_위반_사건_정치검찰_표적사정.txt.\n",
      "[관찰 내용]\n",
      "Observation: File copied successfully from ⚔️네타냐후_전투_이스라엘_이란_공격_딜레마.txt to news/⚔️네타냐후_전투_이스라엘_이란_공격_딜레마.txt.\n",
      "[관찰 내용]\n",
      "Observation: File copied successfully from 🏛️총리실_공기업_평가_尹정부_기관장_물갈이_포석.txt to news/🏛️총리실_공기업_평가_尹정부_기관장_물갈이_포석.txt.\n",
      "[관찰 내용]\n",
      "Observation: File copied successfully from 🤝이대통령_호주_총리_회담_6_25_파병_대한민국_살아남아.txt to news/🤝이대통령_호주_총리_회담_6_25_파병_대한민국_살아남아.txt.\n",
      "[최종 답변]\n",
      "'news' 폴더를 생성하고, 이전에 생성한 모든 파일을 해당 폴더에 내용과 함께 복사하였습니다. 다른 요청이 있으시면 알려주세요.\n"
     ]
    }
   ],
   "source": [
    "result = agent_with_chat_history.stream(\n",
    "    {\n",
    "        \"input\": \"이전에 생성한 모든 파일을 `news` 폴더를 생성한 뒤 해당 폴더에 모든 파일을 복사하세요. \"\n",
    "        \"내용도 동일하게 복사하세요. \"\n",
    "    },\n",
    "    config={\"configurable\": {\"session_id\": \"abc123\"}},\n",
    ")\n",
    "\n",
    "print(\"Agent 실행 결과:\")\n",
    "for step in result:\n",
    "    agent_stream_parser.process_agent_steps(step)"
   ]
  },
  {
   "cell_type": "markdown",
   "metadata": {},
   "source": [
    "`tmp` 폴더 내부를 확인해보면 아래와 같이 `news` 폴더가 생성되고 파일이 복사된 것을 확인할 수 있습니다."
   ]
  },
  {
   "cell_type": "markdown",
   "metadata": {},
   "source": [
    "![](./assets/toolkits-03.png)"
   ]
  },
  {
   "cell_type": "code",
   "execution_count": 15,
   "metadata": {},
   "outputs": [
    {
     "name": "stdout",
     "output_type": "stream",
     "text": [
      "Agent 실행 결과:\n",
      "[도구 호출]\n",
      "Tool: file_search\n",
      "pattern: *.txt\n",
      "Log: \n",
      "Invoking: `file_search` with `{'pattern': '*.txt'}`\n",
      "\n",
      "\n",
      "\n",
      "[관찰 내용]\n",
      "Observation: ⚔️네타냐후_전투_이스라엘_이란_공격_딜레마.txt\n",
      "🏛️총리실_공기업_평가_尹정부_기관장_물갈이_포석.txt\n",
      "🕵️김민석_정치자금법_위반_사건_정치검찰_표적사정.txt\n",
      "🚨정부_이란_여행경보_3단계_출국_권고.txt\n",
      "🤝이대통령_호주_총리_회담_6_25_파병_대한민국_살아남아.txt\n",
      "news\\README.txt\n",
      "news\\⚔️네타냐후_전투_이스라엘_이란_공격_딜레마.txt\n",
      "news\\🏛️총리실_공기업_평가_尹정부_기관장_물갈이_포석.txt\n",
      "news\\🕵️김민석_정치자금법_위반_사건_정치검찰_표적사정.txt\n",
      "news\\🚨정부_이란_여행경보_3단계_출국_권고.txt\n",
      "news\\🤝이대통령_호주_총리_회담_6_25_파병_대한민국_살아남아.txt\n",
      "[도구 호출]\n",
      "Tool: file_delete\n",
      "file_path: ⚔️네타냐후_전투_이스라엘_이란_공격_딜레마.txt\n",
      "Log: \n",
      "Invoking: `file_delete` with `{'file_path': '⚔️네타냐후_전투_이스라엘_이란_공격_딜레마.txt'}`\n",
      "\n",
      "\n",
      "\n",
      "[도구 호출]\n",
      "Tool: file_delete\n",
      "file_path: 🏛️총리실_공기업_평가_尹정부_기관장_물갈이_포석.txt\n",
      "Log: \n",
      "Invoking: `file_delete` with `{'file_path': '🏛️총리실_공기업_평가_尹정부_기관장_물갈이_포석.txt'}`\n",
      "\n",
      "\n",
      "\n",
      "[도구 호출]\n",
      "Tool: file_delete\n",
      "file_path: 🕵️김민석_정치자금법_위반_사건_정치검찰_표적사정.txt\n",
      "Log: \n",
      "Invoking: `file_delete` with `{'file_path': '🕵️김민석_정치자금법_위반_사건_정치검찰_표적사정.txt'}`\n",
      "\n",
      "\n",
      "\n",
      "[도구 호출]\n",
      "Tool: file_delete\n",
      "file_path: 🚨정부_이란_여행경보_3단계_출국_권고.txt\n",
      "Log: \n",
      "Invoking: `file_delete` with `{'file_path': '🚨정부_이란_여행경보_3단계_출국_권고.txt'}`\n",
      "\n",
      "\n",
      "\n",
      "[도구 호출]\n",
      "Tool: file_delete\n",
      "file_path: 🤝이대통령_호주_총리_회담_6_25_파병_대한민국_살아남아.txt\n",
      "Log: \n",
      "Invoking: `file_delete` with `{'file_path': '🤝이대통령_호주_총리_회담_6_25_파병_대한민국_살아남아.txt'}`\n",
      "\n",
      "\n",
      "\n",
      "[관찰 내용]\n",
      "Observation: File deleted successfully: ⚔️네타냐후_전투_이스라엘_이란_공격_딜레마.txt.\n",
      "[관찰 내용]\n",
      "Observation: File deleted successfully: 🏛️총리실_공기업_평가_尹정부_기관장_물갈이_포석.txt.\n",
      "[관찰 내용]\n",
      "Observation: File deleted successfully: 🕵️김민석_정치자금법_위반_사건_정치검찰_표적사정.txt.\n",
      "[관찰 내용]\n",
      "Observation: File deleted successfully: 🚨정부_이란_여행경보_3단계_출국_권고.txt.\n",
      "[관찰 내용]\n",
      "Observation: File deleted successfully: 🤝이대통령_호주_총리_회담_6_25_파병_대한민국_살아남아.txt.\n",
      "[최종 답변]\n",
      "news 폴더를 제외한 모든 .txt 파일을 삭제하였습니다. 다른 요청이 있으시면 알려주세요.\n"
     ]
    }
   ],
   "source": [
    "result = agent_with_chat_history.stream(\n",
    "    {\"input\": \"news 폴더를 제외한 모든 .txt 파일을 삭제하세요.\"},\n",
    "    config={\"configurable\": {\"session_id\": \"abc123\"}},\n",
    ")\n",
    "\n",
    "print(\"Agent 실행 결과:\")\n",
    "for step in result:\n",
    "    agent_stream_parser.process_agent_steps(step)"
   ]
  },
  {
   "cell_type": "markdown",
   "metadata": {},
   "source": [
    "`tmp` 폴더 내부를 확인해보면 아래와 같이 `news` 폴더를 제외한 모든 파일이 삭제된 것을 확인할 수 있습니다."
   ]
  },
  {
   "cell_type": "markdown",
   "metadata": {},
   "source": [
    "![](./assets/toolkits-04.png)"
   ]
  }
 ],
 "metadata": {
  "kernelspec": {
   "display_name": "langchain-kr-lwwSZlnu-py3.11",
   "language": "python",
   "name": "python3"
  },
  "language_info": {
   "codemirror_mode": {
    "name": "ipython",
    "version": 3
   },
   "file_extension": ".py",
   "mimetype": "text/x-python",
   "name": "python",
   "nbconvert_exporter": "python",
   "pygments_lexer": "ipython3",
   "version": "3.12.4"
  }
 },
 "nbformat": 4,
 "nbformat_minor": 2
}
